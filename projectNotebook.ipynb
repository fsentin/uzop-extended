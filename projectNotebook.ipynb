{
 "cells": [
  {
   "cell_type": "markdown",
   "id": "b75e5cc9",
   "metadata": {
    "id": "b75e5cc9"
   },
   "source": [
    "University of Zagreb, Faculty of Electrical Engineering and Computing\n",
    "\n",
    "# Introduction to Data Science Course Project\n",
    "## Malignant and Benign Breast Cancer Classification using Machine Learning Algorithms\n",
    "\n",
    "#### Fani Sentinella-Jerbić, Matej Čubek, Leon Novački, Fran Hrabar, 2021\n",
    "\n",
    "---\n",
    "\n",
    "This project's aim was to replicate and creatively expand a data science themed scientific article using a Jupyter notebook. We replicated the following article:\n",
    "\n",
    "S. Ara, A. Das and A. Dey, _Malignant and Benign Breast Cancer Classification using Machine Learning Algorithms_, 2021 International Conference on Artificial Intelligence (ICAI), 2021, pp. 97-101, doi: 10.1109/ICAI52203.2021.9445249.\n"
   ]
  },
  {
   "cell_type": "code",
   "execution_count": null,
   "id": "7f5e4302",
   "metadata": {
    "id": "7f5e4302"
   },
   "outputs": [],
   "source": [
    "import pandas as pd\n",
    "import numpy as np\n",
    "import seaborn as sns\n",
    "import matplotlib.pyplot as plt\n",
    "import collections\n",
    "\n",
    "plt.style.use('seaborn')"
   ]
  },
  {
   "cell_type": "markdown",
   "id": "1ab1cd27",
   "metadata": {
    "id": "1ab1cd27"
   },
   "source": [
    "### About the replicated article\n",
    "\n",
    "\n",
    "#### Research type classification:\n",
    "- according to purpose: **applied** - uses known methods on new problems, doesn't answer any general questions in the field of artificial science nor does it introduce any new methods\n",
    "- according to information origin: **secondary** - uses dataset provided by another institution\n",
    "- according to time: **cross-sectional study** - made from an existing dataset during the International Conference on Artificial Intelligence in Islamabad\n",
    "- according to method of gathering: **documentary** - uses existing data for the analysis, doesn't collect any new data\n",
    "- according to data type: **quantitative** - all features have numerical values which are then used to compute the predictions\n",
    "- according to degree of manipulation: **observational** - the data was collected from real patients already having the breast cancer\n",
    "- according to depth of conclusion: **correlational** - tries to determine a model which predicts if a person has benign or malignant breast cancer based on the collected features\n",
    "- according to type of conclusion: **deductive** - some things can be predicted by ML algorithms and that is what the authors of this article tried to do for breast cancer classification\n",
    "\n",
    "\n",
    "#### Method of information retrieval:\n",
    "\n",
    "Authors used an existing dataset provided by the University of Wisconsin Hospitals and donated by Nick Street in November 1995.\n",
    "\n",
    "\n",
    "#### Research ethics:\n",
    "\n",
    "The article was made and published as a part of the International Conference on Artificial Intelligence in Islamabad which is under sponsorship of IEEE. This leads us to believe it is published legally and with a certain level of academic dignity. The research did not include dealing with patients since they used a pre-existing dataset, so we believe they caused minimum risk of harm to society.\n",
    "\n",
    "However, the article contains some logical issues in interpreting graphical data (described further in this notebook) so one could argue that the academic dignity of the article is questionable. This is not unusual for an article written at a conference since the time spent on the article is limited. Furthermore, the article could have given more academic credit to the authors of the dataset which wanted certain information to be provided when the dataset is used in research (can be seen at the end of this notebook). "
   ]
  },
  {
   "cell_type": "markdown",
   "id": "dfe9e923",
   "metadata": {
    "id": "dfe9e923"
   },
   "source": [
    "### Descriptive analysis\n",
    "The dataset used is a special dataset called \"Wisconsin Diagnostic Breast Cancer (WDBC)\". It consists of 357 benign and 212 malignant cancer samples, as seen in the barchart below. "
   ]
  },
  {
   "cell_type": "code",
   "execution_count": null,
   "id": "3bb027f7",
   "metadata": {
    "id": "3bb027f7"
   },
   "outputs": [],
   "source": [
    "from sklearn import datasets\n",
    "\n",
    "data = datasets.load_breast_cancer()"
   ]
  },
  {
   "cell_type": "code",
   "execution_count": null,
   "id": "f469ece9-6dc6-42d7-9641-8dd2f4eb1d4f",
   "metadata": {
    "colab": {
     "base_uri": "https://localhost:8080/",
     "height": 279
    },
    "id": "f469ece9-6dc6-42d7-9641-8dd2f4eb1d4f",
    "outputId": "a6477bd8-6ef8-4a0b-bbc4-4d7f5f2649e8"
   },
   "outputs": [
    {
     "data": {
      "image/png": "[encoded data removed]",
      "text/plain": [
       "<Figure size 432x288 with 1 Axes>"
      ]
     },
     "metadata": {
      "needs_background": "light"
     },
     "output_type": "display_data"
    }
   ],
   "source": [
    "cnt = np.bincount(data.target)\n",
    "plt.bar(data.target_names[::-1], cnt[::-1], color=['skyblue', 'lightcoral'])\n",
    "plt.xlabel(\"Diagnosis\")\n",
    "plt.ylabel(\"Count\")\n",
    "plt.show()"
   ]
  },
  {
   "cell_type": "markdown",
   "id": "b6fd6e35",
   "metadata": {
    "id": "b6fd6e35"
   },
   "source": [
    "It contains calculated measures such as **mean**, **standard error** and **the worst (largest) value** of 30 different parameters determined by microscopic analysis on the breast tissue. The tissue is collected from a patient through *Fine Needle Aspiration* biopsy procedure. "
   ]
  },
  {
   "cell_type": "code",
   "execution_count": null,
   "id": "233c4c30-6908-4b33-8291-ec1a7138a2fb",
   "metadata": {
    "colab": {
     "base_uri": "https://localhost:8080/",
     "height": 305
    },
    "id": "233c4c30-6908-4b33-8291-ec1a7138a2fb",
    "outputId": "4031896c-7a7a-40ab-cc20-b33538aac62a"
   },
   "outputs": [
    {
     "data": {
      "text/html": [
       "\n",
       "  <div id=\"df-408d5383-58a5-4bc6-90f6-a624c54de7c3\">\n",
       "    <div class=\"colab-df-container\">\n",
       "      <div>\n",
       "<style scoped>\n",
       "    .dataframe tbody tr th:only-of-type {\n",
       "        vertical-align: middle;\n",
       "    }\n",
       "\n",
       "    .dataframe tbody tr th {\n",
       "        vertical-align: top;\n",
       "    }\n",
       "\n",
       "    .dataframe thead th {\n",
       "        text-align: right;\n",
       "    }\n",
       "</style>\n",
       "<table border=\"1\" class=\"dataframe\">\n",
       "  <thead>\n",
       "    <tr style=\"text-align: right;\">\n",
       "      <th></th>\n",
       "      <th>mean radius</th>\n",
       "      <th>mean texture</th>\n",
       "      <th>mean perimeter</th>\n",
       "      <th>mean area</th>\n",
       "      <th>mean smoothness</th>\n",
       "      <th>mean compactness</th>\n",
       "      <th>mean concavity</th>\n",
       "      <th>mean concave points</th>\n",
       "      <th>mean symmetry</th>\n",
       "      <th>mean fractal dimension</th>\n",
       "      <th>radius error</th>\n",
       "      <th>texture error</th>\n",
       "      <th>perimeter error</th>\n",
       "      <th>area error</th>\n",
       "      <th>smoothness error</th>\n",
       "      <th>compactness error</th>\n",
       "      <th>concavity error</th>\n",
       "      <th>concave points error</th>\n",
       "      <th>symmetry error</th>\n",
       "      <th>fractal dimension error</th>\n",
       "      <th>worst radius</th>\n",
       "      <th>worst texture</th>\n",
       "      <th>worst perimeter</th>\n",
       "      <th>worst area</th>\n",
       "      <th>worst smoothness</th>\n",
       "      <th>worst compactness</th>\n",
       "      <th>worst concavity</th>\n",
       "      <th>worst concave points</th>\n",
       "      <th>worst symmetry</th>\n",
       "      <th>worst fractal dimension</th>\n",
       "    </tr>\n",
       "  </thead>\n",
       "  <tbody>\n",
       "    <tr>\n",
       "      <th>0</th>\n",
       "      <td>17.99</td>\n",
       "      <td>10.38</td>\n",
       "      <td>122.80</td>\n",
       "      <td>1001.0</td>\n",
       "      <td>0.11840</td>\n",
       "      <td>0.27760</td>\n",
       "      <td>0.3001</td>\n",
       "      <td>0.14710</td>\n",
       "      <td>0.2419</td>\n",
       "      <td>0.07871</td>\n",
       "      <td>1.0950</td>\n",
       "      <td>0.9053</td>\n",
       "      <td>8.589</td>\n",
       "      <td>153.40</td>\n",
       "      <td>0.006399</td>\n",
       "      <td>0.04904</td>\n",
       "      <td>0.05373</td>\n",
       "      <td>0.01587</td>\n",
       "      <td>0.03003</td>\n",
       "      <td>0.006193</td>\n",
       "      <td>25.38</td>\n",
       "      <td>17.33</td>\n",
       "      <td>184.60</td>\n",
       "      <td>2019.0</td>\n",
       "      <td>0.1622</td>\n",
       "      <td>0.6656</td>\n",
       "      <td>0.7119</td>\n",
       "      <td>0.2654</td>\n",
       "      <td>0.4601</td>\n",
       "      <td>0.11890</td>\n",
       "    </tr>\n",
       "    <tr>\n",
       "      <th>1</th>\n",
       "      <td>20.57</td>\n",
       "      <td>17.77</td>\n",
       "      <td>132.90</td>\n",
       "      <td>1326.0</td>\n",
       "      <td>0.08474</td>\n",
       "      <td>0.07864</td>\n",
       "      <td>0.0869</td>\n",
       "      <td>0.07017</td>\n",
       "      <td>0.1812</td>\n",
       "      <td>0.05667</td>\n",
       "      <td>0.5435</td>\n",
       "      <td>0.7339</td>\n",
       "      <td>3.398</td>\n",
       "      <td>74.08</td>\n",
       "      <td>0.005225</td>\n",
       "      <td>0.01308</td>\n",
       "      <td>0.01860</td>\n",
       "      <td>0.01340</td>\n",
       "      <td>0.01389</td>\n",
       "      <td>0.003532</td>\n",
       "      <td>24.99</td>\n",
       "      <td>23.41</td>\n",
       "      <td>158.80</td>\n",
       "      <td>1956.0</td>\n",
       "      <td>0.1238</td>\n",
       "      <td>0.1866</td>\n",
       "      <td>0.2416</td>\n",
       "      <td>0.1860</td>\n",
       "      <td>0.2750</td>\n",
       "      <td>0.08902</td>\n",
       "    </tr>\n",
       "    <tr>\n",
       "      <th>2</th>\n",
       "      <td>19.69</td>\n",
       "      <td>21.25</td>\n",
       "      <td>130.00</td>\n",
       "      <td>1203.0</td>\n",
       "      <td>0.10960</td>\n",
       "      <td>0.15990</td>\n",
       "      <td>0.1974</td>\n",
       "      <td>0.12790</td>\n",
       "      <td>0.2069</td>\n",
       "      <td>0.05999</td>\n",
       "      <td>0.7456</td>\n",
       "      <td>0.7869</td>\n",
       "      <td>4.585</td>\n",
       "      <td>94.03</td>\n",
       "      <td>0.006150</td>\n",
       "      <td>0.04006</td>\n",
       "      <td>0.03832</td>\n",
       "      <td>0.02058</td>\n",
       "      <td>0.02250</td>\n",
       "      <td>0.004571</td>\n",
       "      <td>23.57</td>\n",
       "      <td>25.53</td>\n",
       "      <td>152.50</td>\n",
       "      <td>1709.0</td>\n",
       "      <td>0.1444</td>\n",
       "      <td>0.4245</td>\n",
       "      <td>0.4504</td>\n",
       "      <td>0.2430</td>\n",
       "      <td>0.3613</td>\n",
       "      <td>0.08758</td>\n",
       "    </tr>\n",
       "    <tr>\n",
       "      <th>3</th>\n",
       "      <td>11.42</td>\n",
       "      <td>20.38</td>\n",
       "      <td>77.58</td>\n",
       "      <td>386.1</td>\n",
       "      <td>0.14250</td>\n",
       "      <td>0.28390</td>\n",
       "      <td>0.2414</td>\n",
       "      <td>0.10520</td>\n",
       "      <td>0.2597</td>\n",
       "      <td>0.09744</td>\n",
       "      <td>0.4956</td>\n",
       "      <td>1.1560</td>\n",
       "      <td>3.445</td>\n",
       "      <td>27.23</td>\n",
       "      <td>0.009110</td>\n",
       "      <td>0.07458</td>\n",
       "      <td>0.05661</td>\n",
       "      <td>0.01867</td>\n",
       "      <td>0.05963</td>\n",
       "      <td>0.009208</td>\n",
       "      <td>14.91</td>\n",
       "      <td>26.50</td>\n",
       "      <td>98.87</td>\n",
       "      <td>567.7</td>\n",
       "      <td>0.2098</td>\n",
       "      <td>0.8663</td>\n",
       "      <td>0.6869</td>\n",
       "      <td>0.2575</td>\n",
       "      <td>0.6638</td>\n",
       "      <td>0.17300</td>\n",
       "    </tr>\n",
       "    <tr>\n",
       "      <th>4</th>\n",
       "      <td>20.29</td>\n",
       "      <td>14.34</td>\n",
       "      <td>135.10</td>\n",
       "      <td>1297.0</td>\n",
       "      <td>0.10030</td>\n",
       "      <td>0.13280</td>\n",
       "      <td>0.1980</td>\n",
       "      <td>0.10430</td>\n",
       "      <td>0.1809</td>\n",
       "      <td>0.05883</td>\n",
       "      <td>0.7572</td>\n",
       "      <td>0.7813</td>\n",
       "      <td>5.438</td>\n",
       "      <td>94.44</td>\n",
       "      <td>0.011490</td>\n",
       "      <td>0.02461</td>\n",
       "      <td>0.05688</td>\n",
       "      <td>0.01885</td>\n",
       "      <td>0.01756</td>\n",
       "      <td>0.005115</td>\n",
       "      <td>22.54</td>\n",
       "      <td>16.67</td>\n",
       "      <td>152.20</td>\n",
       "      <td>1575.0</td>\n",
       "      <td>0.1374</td>\n",
       "      <td>0.2050</td>\n",
       "      <td>0.4000</td>\n",
       "      <td>0.1625</td>\n",
       "      <td>0.2364</td>\n",
       "      <td>0.07678</td>\n",
       "    </tr>\n",
       "  </tbody>\n",
       "</table>\n",
       "</div>\n",
       "      <button class=\"colab-df-convert\" onclick=\"convertToInteractive('df-408d5383-58a5-4bc6-90f6-a624c54de7c3')\"\n",
       "              title=\"Convert this dataframe to an interactive table.\"\n",
       "              style=\"display:none;\">\n",
       "        \n",
       "  <svg xmlns=\"http://www.w3.org/2000/svg\" height=\"24px\"viewBox=\"0 0 24 24\"\n",
       "       width=\"24px\">\n",
       "    <path d=\"M0 0h24v24H0V0z\" fill=\"none\"/>\n",
       "    <path d=\"M18.56 5.44l.94 2.06.94-2.06 2.06-.94-2.06-.94-.94-2.06-.94 2.06-2.06.94zm-11 1L8.5 8.5l.94-2.06 2.06-.94-2.06-.94L8.5 2.5l-.94 2.06-2.06.94zm10 10l.94 2.06.94-2.06 2.06-.94-2.06-.94-.94-2.06-.94 2.06-2.06.94z\"/><path d=\"M17.41 7.96l-1.37-1.37c-.4-.4-.92-.59-1.43-.59-.52 0-1.04.2-1.43.59L10.3 9.45l-7.72 7.72c-.78.78-.78 2.05 0 2.83L4 21.41c.39.39.9.59 1.41.59.51 0 1.02-.2 1.41-.59l7.78-7.78 2.81-2.81c.8-.78.8-2.07 0-2.86zM5.41 20L4 18.59l7.72-7.72 1.47 1.35L5.41 20z\"/>\n",
       "  </svg>\n",
       "      </button>\n",
       "      \n",
       "  <style>\n",
       "    .colab-df-container {\n",
       "      display:flex;\n",
       "      flex-wrap:wrap;\n",
       "      gap: 12px;\n",
       "    }\n",
       "\n",
       "    .colab-df-convert {\n",
       "      background-color: #E8F0FE;\n",
       "      border: none;\n",
       "      border-radius: 50%;\n",
       "      cursor: pointer;\n",
       "      display: none;\n",
       "      fill: #1967D2;\n",
       "      height: 32px;\n",
       "      padding: 0 0 0 0;\n",
       "      width: 32px;\n",
       "    }\n",
       "\n",
       "    .colab-df-convert:hover {\n",
       "      background-color: #E2EBFA;\n",
       "      box-shadow: 0px 1px 2px rgba(60, 64, 67, 0.3), 0px 1px 3px 1px rgba(60, 64, 67, 0.15);\n",
       "      fill: #174EA6;\n",
       "    }\n",
       "\n",
       "    [theme=dark] .colab-df-convert {\n",
       "      background-color: #3B4455;\n",
       "      fill: #D2E3FC;\n",
       "    }\n",
       "\n",
       "    [theme=dark] .colab-df-convert:hover {\n",
       "      background-color: #434B5C;\n",
       "      box-shadow: 0px 1px 3px 1px rgba(0, 0, 0, 0.15);\n",
       "      filter: drop-shadow(0px 1px 2px rgba(0, 0, 0, 0.3));\n",
       "      fill: #FFFFFF;\n",
       "    }\n",
       "  </style>\n",
       "\n",
       "      <script>\n",
       "        const buttonEl =\n",
       "          document.querySelector('#df-408d5383-58a5-4bc6-90f6-a624c54de7c3 button.colab-df-convert');\n",
       "        buttonEl.style.display =\n",
       "          google.colab.kernel.accessAllowed ? 'block' : 'none';\n",
       "\n",
       "        async function convertToInteractive(key) {\n",
       "          const element = document.querySelector('#df-408d5383-58a5-4bc6-90f6-a624c54de7c3');\n",
       "          const dataTable =\n",
       "            await google.colab.kernel.invokeFunction('convertToInteractive',\n",
       "                                                     [key], {});\n",
       "          if (!dataTable) return;\n",
       "\n",
       "          const docLinkHtml = 'Like what you see? Visit the ' +\n",
       "            '<a target=\"_blank\" href=https://colab.research.google.com/notebooks/data_table.ipynb>data table notebook</a>'\n",
       "            + ' to learn more about interactive tables.';\n",
       "          element.innerHTML = '';\n",
       "          dataTable['output_type'] = 'display_data';\n",
       "          await google.colab.output.renderOutput(dataTable, element);\n",
       "          const docLink = document.createElement('div');\n",
       "          docLink.innerHTML = docLinkHtml;\n",
       "          element.appendChild(docLink);\n",
       "        }\n",
       "      </script>\n",
       "    </div>\n",
       "  </div>\n",
       "  "
      ],
      "text/plain": [
       "   mean radius  mean texture  ...  worst symmetry  worst fractal dimension\n",
       "0        17.99         10.38  ...          0.4601                  0.11890\n",
       "1        20.57         17.77  ...          0.2750                  0.08902\n",
       "2        19.69         21.25  ...          0.3613                  0.08758\n",
       "3        11.42         20.38  ...          0.6638                  0.17300\n",
       "4        20.29         14.34  ...          0.2364                  0.07678\n",
       "\n",
       "[5 rows x 30 columns]"
      ]
     },
     "execution_count": 4,
     "metadata": {},
     "output_type": "execute_result"
    }
   ],
   "source": [
    "# original samples\n",
    "X = pd.DataFrame(data.data, columns=data.feature_names)\n",
    "y = data.target\n",
    "\n",
    "X.head()"
   ]
  },
  {
   "cell_type": "markdown",
   "id": "ba964e0b",
   "metadata": {
    "id": "ba964e0b"
   },
   "source": [
    "Below we can see the counterplot of the mean radius shown in the replicated article:"
   ]
  },
  {
   "cell_type": "code",
   "execution_count": null,
   "id": "0cd302b5",
   "metadata": {
    "colab": {
     "base_uri": "https://localhost:8080/",
     "height": 347
    },
    "id": "0cd302b5",
    "outputId": "a68e80ff-a7d9-4103-84a3-0ed4f53786f8",
    "scrolled": true
   },
   "outputs": [
    {
     "data": {
      "image/png": "[encoded data removed]",
      "text/plain": [
       "<Figure size 1800x576 with 1 Axes>"
      ]
     },
     "metadata": {
      "needs_background": "light"
     },
     "output_type": "display_data"
    }
   ],
   "source": [
    "plt.figure(figsize=(25, 8))\n",
    "ax = sns.countplot(x=X['mean radius'])\n",
    "ax.set_xticklabels(ax.get_xticklabels(), rotation=90, ha=\"left\", fontsize=3)\n",
    "plt.title('Automatic counter plot')\n",
    "plt.show()"
   ]
  },
  {
   "cell_type": "markdown",
   "id": "91c7c044",
   "metadata": {
    "id": "91c7c044"
   },
   "source": [
    "As the x-axis values are not recognizable, we have plotted a different graph to better represent the information in the graph:"
   ]
  },
  {
   "cell_type": "code",
   "execution_count": null,
   "id": "c2c4fbd7",
   "metadata": {
    "colab": {
     "base_uri": "https://localhost:8080/",
     "height": 472
    },
    "id": "c2c4fbd7",
    "outputId": "d8fc4c1a-37be-46a7-ca59-295e9a9294d3"
   },
   "outputs": [
    {
     "data": {
      "image/png": "[encoded data removed]",
      "text/plain": [
       "<Figure size 1296x576 with 1 Axes>"
      ]
     },
     "metadata": {
      "needs_background": "light"
     },
     "output_type": "display_data"
    }
   ],
   "source": [
    "import matplotlib.colors as mcolors\n",
    "\n",
    "w = collections.Counter(X['mean radius'])\n",
    "\n",
    "clist = [(0, \"red\"), (0.125, \"red\"), (0.25, \"orange\"), (0.5, \"green\"),\n",
    "         (0.7, \"green\"), (0.75, \"blue\"), (1, \"blue\")]\n",
    "rvb = mcolors.LinearSegmentedColormap.from_list(\"\", clist)\n",
    "plt.figure(figsize=(18, 8))\n",
    "xp = np.array(list(w.keys())).astype(float)\n",
    "yp = np.array(list(w.values())).astype(float)\n",
    "plt.bar(xp, yp, color=rvb(20 * xp / len(xp) - 0.3), width=0.1)\n",
    "plt.title('Manual counter plot')\n",
    "plt.xlabel('Mean radius')\n",
    "plt.ylabel('Count')\n",
    "plt.show()"
   ]
  },
  {
   "cell_type": "markdown",
   "id": "01ca06cd",
   "metadata": {
    "id": "01ca06cd"
   },
   "source": [
    "The authors of the scientific paper have determined the following from the counter graph: *it can be observed that suspected patients not bearing cancer have a mean radius of around 1, whereas suspected patients bearing cancer have a \n",
    "mean radius of more than 1*, however we believe  the authors have made a mistake. The graph doesn't show the radius being around 1 for any of the patients. In fact, the smallest radius mean in the dataset is 6.981 and the mean of all radius means is 14.127292 (calculated in the previous section), which is far from 1. \n",
    "\n",
    "The proof of this can also be seen in the histogram below."
   ]
  },
  {
   "cell_type": "code",
   "execution_count": null,
   "id": "0109646b",
   "metadata": {
    "colab": {
     "base_uri": "https://localhost:8080/",
     "height": 279
    },
    "id": "0109646b",
    "outputId": "9d5f73cd-4f2f-4193-9599-a96055ade369",
    "scrolled": true
   },
   "outputs": [
    {
     "data": {
      "image/png": "[encoded data removed]",
      "text/plain": [
       "<Figure size 432x288 with 1 Axes>"
      ]
     },
     "metadata": {
      "needs_background": "light"
     },
     "output_type": "display_data"
    }
   ],
   "source": [
    "D = pd.DataFrame(X.copy())\n",
    "D.insert(0, 'diagnosis', data.target)\n",
    "\n",
    "D['mean radius'][D['diagnosis'] == 0].hist(color='skyblue', label='0')\n",
    "D['mean radius'][D['diagnosis'] == 1].hist(color='lightcoral', label='1')\n",
    "plt.xlabel('mean radius')\n",
    "plt.ylabel('frequency')\n",
    "plt.legend()\n",
    "plt.show()"
   ]
  },
  {
   "cell_type": "markdown",
   "id": "3afbee2e",
   "metadata": {
    "id": "3afbee2e"
   },
   "source": [
    "### Train-test split"
   ]
  },
  {
   "cell_type": "code",
   "execution_count": null,
   "id": "4db3b98d",
   "metadata": {
    "id": "4db3b98d"
   },
   "outputs": [],
   "source": [
    "from sklearn.model_selection import train_test_split\n",
    "\n",
    "X_train, X_test, y_train, y_test = train_test_split(X, y, test_size=0.25, random_state=5)\n",
    "\n",
    "D_train = pd.DataFrame(X_train.copy())\n",
    "D_train.insert(0, 'diagnosis', y_train)"
   ]
  },
  {
   "cell_type": "markdown",
   "id": "3f040956",
   "metadata": {
    "id": "3f040956"
   },
   "source": [
    "### Feature selection\n",
    "For feature selecton we started with comparing all features present in the dataset. Using a heatmap, correlations between all the available features are graphicaly shown. The correlation value is in range [0,1] where 1 presents perfect correlation and 0 presents no correlation whatsoever. For correlation calculation we used the Phi coefficient also known as the Matthews correlation coefficient."
   ]
  },
  {
   "cell_type": "code",
   "execution_count": null,
   "id": "f36b0629",
   "metadata": {
    "colab": {
     "base_uri": "https://localhost:8080/",
     "height": 1000
    },
    "id": "f36b0629",
    "outputId": "ea1806f8-9379-4a6b-f187-7fb0aada7fb1",
    "pycharm": {
     "name": "#%%\n"
    }
   },
   "outputs": [
    {
     "name": "stdout",
     "output_type": "stream",
     "text": [
      "Requirement already satisfied: phik in /usr/local/lib/python3.7/dist-packages (0.12.0)\n",
      "Requirement already satisfied: scipy>=1.5.2 in /usr/local/lib/python3.7/dist-packages (from phik) (1.7.3)\n",
      "Requirement already satisfied: matplotlib>=2.2.3 in /usr/local/lib/python3.7/dist-packages (from phik) (3.2.2)\n",
      "Requirement already satisfied: numpy>=1.18.0 in /usr/local/lib/python3.7/dist-packages (from phik) (1.19.5)\n",
      "Requirement already satisfied: pandas>=0.25.1 in /usr/local/lib/python3.7/dist-packages (from phik) (1.1.5)\n",
      "Requirement already satisfied: joblib>=0.14.1 in /usr/local/lib/python3.7/dist-packages (from phik) (1.1.0)\n",
      "Requirement already satisfied: python-dateutil>=2.1 in /usr/local/lib/python3.7/dist-packages (from matplotlib>=2.2.3->phik) (2.8.2)\n",
      "Requirement already satisfied: cycler>=0.10 in /usr/local/lib/python3.7/dist-packages (from matplotlib>=2.2.3->phik) (0.11.0)\n",
      "Requirement already satisfied: pyparsing!=2.0.4,!=2.1.2,!=2.1.6,>=2.0.1 in /usr/local/lib/python3.7/dist-packages (from matplotlib>=2.2.3->phik) (3.0.6)\n",
      "Requirement already satisfied: kiwisolver>=1.0.1 in /usr/local/lib/python3.7/dist-packages (from matplotlib>=2.2.3->phik) (1.3.2)\n",
      "Requirement already satisfied: pytz>=2017.2 in /usr/local/lib/python3.7/dist-packages (from pandas>=0.25.1->phik) (2018.9)\n",
      "Requirement already satisfied: six>=1.5 in /usr/local/lib/python3.7/dist-packages (from python-dateutil>=2.1->matplotlib>=2.2.3->phik) (1.15.0)\n"
     ]
    },
    {
     "data": {
      "image/png": "[encoded data removed]",
      "text/plain": [
       "<Figure size 1080x936 with 2 Axes>"
      ]
     },
     "metadata": {
      "needs_background": "light"
     },
     "output_type": "display_data"
    }
   ],
   "source": [
    "!pip install phik\n",
    "import phik\n",
    "\n",
    "D_train = pd.DataFrame(X_train.copy())\n",
    "D_train.insert(0, 'diagnosis', y_train)\n",
    "\n",
    "#cor_matrix = D_train.corr()\n",
    "cor_matrix_with_target = D_train.phik_matrix(interval_cols=D_train.columns)\n",
    "cor_matrix_without_target = X_train.phik_matrix(interval_cols=X_train.columns)\n",
    "\n",
    "plt.figure(figsize=(15, 13))\n",
    "sns.heatmap(cor_matrix_with_target, cmap=\"vlag\", linewidths=.5)  #, mask=np.triu(D_train_mean.corr()))\n",
    "plt.title(\"Heatmap of correlation between features and diagnosis\")\n",
    "plt.show()"
   ]
  },
  {
   "cell_type": "markdown",
   "id": "02c56184",
   "metadata": {
    "id": "02c56184"
   },
   "source": [
    "From the heatmap we can note that there are many features that are higly correlated with each other. Those features can negatively impact our ML models, so we had to remove them from the dataset before we started training our models. \n",
    "\n",
    "We did so by using the correlation matrix and searching for pairs with a correlation greater than 0.99. That specififc number showed the best results on our dataset alongside the chosen feature selection algorithm. From each of those pairs one feature was removed. Features marked as redundant because of correlation with others are printed below."
   ]
  },
  {
   "cell_type": "code",
   "execution_count": null,
   "id": "92907f13",
   "metadata": {
    "colab": {
     "base_uri": "https://localhost:8080/"
    },
    "id": "92907f13",
    "outputId": "d0cad8cb-95cd-4714-d1f0-a7ae40dee63f",
    "pycharm": {
     "name": "#%%\n"
    }
   },
   "outputs": [
    {
     "name": "stdout",
     "output_type": "stream",
     "text": [
      "['mean perimeter']\n"
     ]
    }
   ],
   "source": [
    "drop_cutoff = 0.99\n",
    "\n",
    "upper_tri = cor_matrix_without_target.abs().where(\n",
    "    np.triu(np.ones(cor_matrix_without_target.shape), k=1).astype(np.bool_))\n",
    "to_drop = [column for column in upper_tri.columns if any(upper_tri[column] > float(drop_cutoff))]\n",
    "\n",
    "print(list(to_drop))"
   ]
  },
  {
   "cell_type": "code",
   "execution_count": null,
   "id": "49ad2052",
   "metadata": {
    "colab": {
     "base_uri": "https://localhost:8080/"
    },
    "id": "49ad2052",
    "outputId": "d122597e-27d2-4b86-9a60-a4486e801598",
    "pycharm": {
     "name": "#%%\n"
    }
   },
   "outputs": [
    {
     "data": {
      "text/plain": [
       "(426, 29)"
      ]
     },
     "execution_count": 11,
     "metadata": {},
     "output_type": "execute_result"
    }
   ],
   "source": [
    "X_train = X_train.drop(list(to_drop), axis=1)\n",
    "X_test = X_test.drop(list(to_drop), axis=1)\n",
    "D_train = D_train.drop(list(to_drop), axis=1)\n",
    "\n",
    "X_train.shape"
   ]
  },
  {
   "cell_type": "markdown",
   "id": "T6R7BwC_TOHW",
   "metadata": {
    "id": "T6R7BwC_TOHW"
   },
   "source": [
    "Next, we considered the correlation of the remaining features with the target feature. For this we used the Phi coefficient once again. From the barplot we can note which features are the most interesting for us to train our models on.\n"
   ]
  },
  {
   "cell_type": "code",
   "execution_count": null,
   "id": "208a4313",
   "metadata": {
    "colab": {
     "base_uri": "https://localhost:8080/",
     "height": 485
    },
    "id": "208a4313",
    "outputId": "e8761c16-1c80-48c6-b938-e86ff07d051f"
   },
   "outputs": [
    {
     "data": {
      "text/plain": [
       "<Figure size 720x360 with 0 Axes>"
      ]
     },
     "metadata": {},
     "output_type": "display_data"
    },
    {
     "data": {
      "image/png": "[encoded data removed]",
      "text/plain": [
       "<Figure size 720x432 with 1 Axes>"
      ]
     },
     "metadata": {
      "needs_background": "light"
     },
     "output_type": "display_data"
    }
   ],
   "source": [
    "plt.figure(figsize=(10, 5))\n",
    "\n",
    "corr_with_target = D_train.phik_matrix(interval_cols=X_train.columns)['diagnosis'].drop(labels=['diagnosis'])\n",
    "\n",
    "plt.figure(figsize=(10, 6))\n",
    "sns.barplot(x=corr_with_target.index, y=corr_with_target.values)\n",
    "plt.xticks(rotation=90)\n",
    "plt.show()"
   ]
  },
  {
   "cell_type": "markdown",
   "id": "a8bdea96",
   "metadata": {
    "id": "a8bdea96"
   },
   "source": [
    "Finally, we used a feature selection algorithm to select a subset of the remaining features in the dataset. We selected features which can impact our models positively and dropped the rest as that yielded the best results.\n",
    "\n",
    "The method we used for feature selection is Sequential Feature Selector. It is a greedy algorithm that selects the best subset of features by going forward based on a cross validation score of an estimator. It starts with zero features and then finds a feature that maximizes the cross-validated score on the selected feature. Then the process is repeated by adding another feature until the point that the desired number is reached. We used the logistic regression algorithm as an estimator for this feature selection method."
   ]
  },
  {
   "cell_type": "code",
   "execution_count": null,
   "id": "4e71b09a",
   "metadata": {
    "colab": {
     "base_uri": "https://localhost:8080/"
    },
    "id": "4e71b09a",
    "outputId": "9c9272c6-226c-462f-e74a-5556e92476f0",
    "pycharm": {
     "name": "#%%\n"
    }
   },
   "outputs": [
    {
     "name": "stdout",
     "output_type": "stream",
     "text": [
      "Best features are: ['mean radius', 'mean smoothness', 'mean compactness', 'mean concavity', 'worst texture', 'worst perimeter']\n"
     ]
    }
   ],
   "source": [
    "from sklearn.feature_selection import SequentialFeatureSelector\n",
    "from sklearn.linear_model import LogisticRegression\n",
    "\n",
    "num_features = 6\n",
    "\n",
    "X_best = SequentialFeatureSelector(estimator=LogisticRegression(max_iter=500), n_features_to_select=num_features, cv=10,\n",
    "                                   direction='forward', n_jobs=4).fit(X_train, y_train)\n",
    "mask = X_best.get_support()\n",
    "best_features = []\n",
    "for curr_bool, feature in zip(mask, X_train.columns):\n",
    "    if curr_bool:\n",
    "        best_features.append(feature)\n",
    "\n",
    "print(f\"Best features are: {best_features}\")"
   ]
  },
  {
   "cell_type": "code",
   "execution_count": null,
   "id": "5b305f94",
   "metadata": {
    "colab": {
     "base_uri": "https://localhost:8080/"
    },
    "id": "5b305f94",
    "outputId": "5c51d608-0cde-4509-953f-c5ac98376e60",
    "pycharm": {
     "name": "#%%\n"
    }
   },
   "outputs": [
    {
     "data": {
      "text/plain": [
       "(426, 6)"
      ]
     },
     "execution_count": 14,
     "metadata": {},
     "output_type": "execute_result"
    }
   ],
   "source": [
    "X_train = X_train[X_train.columns[X_best.get_support(indices=True)]]\n",
    "X_test = X_test[X_test.columns[X_best.get_support(indices=True)]]\n",
    "\n",
    "X_train.shape"
   ]
  },
  {
   "cell_type": "markdown",
   "id": "d9338451",
   "metadata": {
    "id": "d9338451"
   },
   "source": [
    "--- \n",
    "\n",
    "### Training and testing\n",
    "\n",
    "Some algorithms perform better when the data is scaled so that is what we did here. Authors of the replicated article mention using scaling as well."
   ]
  },
  {
   "cell_type": "code",
   "execution_count": null,
   "id": "ac0a97d3",
   "metadata": {
    "id": "ac0a97d3"
   },
   "outputs": [],
   "source": [
    "from sklearn.preprocessing import StandardScaler\n",
    "\n",
    "sclr = StandardScaler()\n",
    "X_train_s = sclr.fit_transform(X_train)\n",
    "X_test_s = sclr.fit_transform(X_test)"
   ]
  },
  {
   "cell_type": "code",
   "execution_count": null,
   "id": "uUrV19xCMgH5",
   "metadata": {
    "id": "uUrV19xCMgH5",
    "pycharm": {
     "name": "#%%\n"
    }
   },
   "outputs": [],
   "source": [
    "from sklearn.metrics import f1_score\n",
    "from sklearn.metrics import roc_auc_score\n",
    "from sklearn.metrics import recall_score\n",
    "from sklearn.model_selection import GridSearchCV\n",
    "\n",
    "results = pd.DataFrame(\n",
    "    columns=['Algorithms', 'Training Accuracy', 'Testing Accuracy', 'Testing Recall', 'Testing F1 Score',\n",
    "             'Testing AUC'])\n",
    "\n",
    "\n",
    "def get_false_negatives(model, X_test, y_test, mod=None):\n",
    "    if mod is not None:\n",
    "        predicted_test = model.predict(mod.fit_transform(X_test))\n",
    "    else:\n",
    "        predicted_test = model.predict(X_test)\n",
    "\n",
    "    indexes = []\n",
    "    for x in range(0, len(predicted_test)):\n",
    "        if predicted_test[x] == 1 and y_test[x] == 0:\n",
    "            indexes.append(x)\n",
    "    samples = []\n",
    "    for index in indexes:\n",
    "        samples.append(X_test.iloc[index])\n",
    "    return samples\n",
    "\n",
    "\n",
    "def test_model(model, model_label, X_train, y_train, X_test, y_test, mod=None, print_bool=True):\n",
    "    if mod is not None:\n",
    "        predicted_train = model.predict(mod.fit_transform(X_train))\n",
    "        predicted_test = model.predict(mod.fit_transform(X_test))\n",
    "    else:\n",
    "        predicted_train = model.predict(X_train)\n",
    "        predicted_test = model.predict(X_test)\n",
    "\n",
    "    train_accuracy = accuracy_score(y_train, predicted_train)\n",
    "    test_accuracy = accuracy_score(y_test, predicted_test)\n",
    "    test_recall = recall_score(y_test, predicted_test)\n",
    "    test_f1_score = f1_score(y_test, predicted_test)\n",
    "    test_auc = roc_auc_score(y_test, predicted_test)\n",
    "\n",
    "    if print_bool:\n",
    "        print(f'Algorithm: {model_label}')\n",
    "        print(f'Training accuracy: {train_accuracy}\\nTesting accuracy: {test_accuracy}')\n",
    "        print(f'Test recall: {test_recall}\\nTesting F1 Score: {test_f1_score}\\nTesting AUC: {test_auc}\\n')\n",
    "\n",
    "    return {'Algorithms': model_label, 'Training Accuracy': train_accuracy,\n",
    "            'Testing Accuracy': test_accuracy,\n",
    "            'Testing Recall': test_recall,\n",
    "            'Testing F1 Score': test_f1_score,\n",
    "            'Testing AUC': test_auc}\n",
    "\n",
    "\n",
    "def draw_confusion_matrix(model, graph_label, X_dataset, y_dataset, mod=None):\n",
    "    if mod is None:\n",
    "        y_generated = model.predict(X_dataset)\n",
    "    else:\n",
    "        y_generated = model.predict(mod.fit_transform(X_dataset))\n",
    "\n",
    "    cf_matrix = confusion_matrix(y_dataset, y_generated)\n",
    "\n",
    "    cbar_kws = {\n",
    "        \"ticks\": np.array([15, 30, 45, 60, 75]),\n",
    "    }\n",
    "\n",
    "    sns.heatmap(cf_matrix, annot=True, cmap='Blues', linewidths=5, cbar_kws=cbar_kws)\n",
    "    plt.title(graph_label)\n",
    "\n",
    "\n",
    "def grid_search(model, hyperparams, X_dataset, y_dataset, mod=None, metric='f1', print_bool=True):\n",
    "    search = GridSearchCV(model, hyperparams, scoring=metric, n_jobs=-1, verbose=0)\n",
    "\n",
    "    if mod is not None:\n",
    "        result = search.fit(mod.fit_transform(X_dataset), y_dataset)\n",
    "    else:\n",
    "        result = search.fit(X_dataset, y_dataset)\n",
    "\n",
    "    if print_bool:\n",
    "        print('Best hyperparameters: ' + str(result.best_params_))\n",
    "    return result.best_estimator_"
   ]
  },
  {
   "cell_type": "markdown",
   "id": "c2126b1c",
   "metadata": {},
   "source": [
    "To evaluate performance of each algorithm, we used accuracy, F1 score, Recall and AUC. We decided the F1 score is better for our dataset than accuracy (which was used in the replicated article) since there is an imbalance of class distribution and the false negatives are crucial (as explained further through this notebook). Because of this, when we performed grid search, we chose the hyperparameters which yield the best results for F1 score."
   ]
  },
  {
   "cell_type": "markdown",
   "id": "d613775a",
   "metadata": {
    "id": "d613775a"
   },
   "source": [
    "#### Logistic regression\n"
   ]
  },
  {
   "cell_type": "code",
   "execution_count": null,
   "id": "89dded8e",
   "metadata": {
    "colab": {
     "base_uri": "https://localhost:8080/"
    },
    "id": "89dded8e",
    "outputId": "0df148ef-a76d-4c0d-e32f-6d3dfe9fb375"
   },
   "outputs": [
    {
     "name": "stdout",
     "output_type": "stream",
     "text": [
      "Best hyperparameters: {'C': 10, 'penalty': 'l1', 'solver': 'liblinear'}\n",
      "Algorithm: Logistic regression\n",
      "Training accuracy: 0.9694835680751174\n",
      "Testing accuracy: 0.972027972027972\n",
      "Test recall: 0.9886363636363636\n",
      "Testing F1 Score: 0.9775280898876404\n",
      "Testing AUC: 0.9670454545454545\n",
      "\n"
     ]
    }
   ],
   "source": [
    "from sklearn.metrics import accuracy_score\n",
    "from sklearn.linear_model import LogisticRegression\n",
    "import warnings\n",
    "\n",
    "\n",
    "def grid_search_LogisticRegression(X_train, y_train, X_test, y_test, results, print_bool=True):\n",
    "    hyperparams = {\n",
    "        'solver': ['liblinear', 'newton-cg', 'lbfgs'],\n",
    "        'penalty': ['none', 'l1', 'l2', 'elasticnet'],\n",
    "        'C': [0.1, 1, 10, 100],\n",
    "    }\n",
    "\n",
    "    with warnings.catch_warnings(record=True):\n",
    "        clf_lr = grid_search(LogisticRegression(), hyperparams, X_train, y_train, sclr, print_bool=print_bool)\n",
    "\n",
    "    results = results.append(\n",
    "        test_model(clf_lr, 'Logistic regression', X_train, y_train, X_test, y_test, sclr, print_bool=print_bool),\n",
    "        ignore_index=True)\n",
    "    fn = get_false_negatives(clf_lr, X_test, y_test, sclr)\n",
    "\n",
    "    return clf_lr, results, fn\n",
    "\n",
    "\n",
    "clf_lr, results, logreg_fn = grid_search_LogisticRegression(X_train, y_train, X_test, y_test, results)"
   ]
  },
  {
   "cell_type": "markdown",
   "id": "3aa2e9ce",
   "metadata": {
    "id": "3aa2e9ce"
   },
   "source": [
    "#### Support Vector Machine"
   ]
  },
  {
   "cell_type": "code",
   "execution_count": null,
   "id": "abb6695e",
   "metadata": {
    "colab": {
     "base_uri": "https://localhost:8080/"
    },
    "id": "abb6695e",
    "outputId": "895195ea-cc04-405d-acb6-eb89f2d33ce9"
   },
   "outputs": [
    {
     "name": "stdout",
     "output_type": "stream",
     "text": [
      "Best hyperparameters: {'C': 10, 'gamma': 0.1, 'kernel': 'rbf'}\n",
      "Algorithm: Support Vector Machine\n",
      "Training accuracy: 0.9741784037558685\n",
      "Testing accuracy: 0.9790209790209791\n",
      "Test recall: 1.0\n",
      "Testing F1 Score: 0.9832402234636871\n",
      "Testing AUC: 0.9727272727272727\n",
      "\n"
     ]
    }
   ],
   "source": [
    "from sklearn.svm import SVC\n",
    "\n",
    "\n",
    "def grid_search_SVM(X_train, y_train, X_test, y_test, results, print_bool=True):\n",
    "    hyperparams = {\n",
    "        'kernel': ['linear', 'poly', 'rbf'],\n",
    "        'gamma': [1, 0.1, 0.01, 0.001],\n",
    "        'C': [0.1, 1, 10, 100],\n",
    "    }\n",
    "\n",
    "    clf_svm = grid_search(SVC(), hyperparams, X_train, y_train, sclr, print_bool=print_bool)\n",
    "\n",
    "    results = results.append(\n",
    "        test_model(clf_svm, 'Support Vector Machine', X_train, y_train, X_test, y_test, sclr, print_bool=print_bool),\n",
    "        ignore_index=True)\n",
    "    fn = get_false_negatives(clf_svm, X_test, y_test, sclr)\n",
    "\n",
    "    return clf_svm, results, fn\n",
    "\n",
    "\n",
    "clf_svm, results, svm_fn = grid_search_SVM(X_train, y_train, X_test, y_test, results)"
   ]
  },
  {
   "cell_type": "markdown",
   "id": "1c2a63e5",
   "metadata": {
    "id": "1c2a63e5"
   },
   "source": [
    "#### K-Nearest Neighbour"
   ]
  },
  {
   "cell_type": "code",
   "execution_count": null,
   "id": "df2f037f",
   "metadata": {
    "colab": {
     "base_uri": "https://localhost:8080/"
    },
    "id": "df2f037f",
    "outputId": "600515c2-c8c4-474f-b322-7ee3c68e132d"
   },
   "outputs": [
    {
     "name": "stdout",
     "output_type": "stream",
     "text": [
      "Best hyperparameters: {'metric': 'manhattan', 'n_neighbors': 9, 'weights': 'uniform'}\n",
      "Algorithm: KNN\n",
      "Training accuracy: 0.9694835680751174\n",
      "Testing accuracy: 0.9790209790209791\n",
      "Test recall: 1.0\n",
      "Testing F1 Score: 0.9832402234636871\n",
      "Testing AUC: 0.9727272727272727\n",
      "\n"
     ]
    }
   ],
   "source": [
    "from sklearn.neighbors import KNeighborsClassifier\n",
    "\n",
    "\n",
    "def grid_search_kNN(X_train, y_train, X_test, y_test, results, print_bool=True):\n",
    "    hyperparams = {\n",
    "        'n_neighbors': list(range(1, 15)),\n",
    "        'weights': ['uniform', 'distance'],\n",
    "        'metric': ['minkowski', 'euclidean', 'manhattan']\n",
    "    }\n",
    "\n",
    "    clf_knn = grid_search(KNeighborsClassifier(), hyperparams, X_train, y_train, sclr, print_bool=print_bool)\n",
    "\n",
    "    results = results.append(test_model(clf_knn, 'KNN', X_train, y_train, X_test, y_test, sclr, print_bool=print_bool),\n",
    "                             ignore_index=True)\n",
    "    fn = get_false_negatives(clf_knn, X_test, y_test, sclr)\n",
    "\n",
    "    return clf_knn, results, fn\n",
    "\n",
    "\n",
    "clf_knn, results, knn_fn = grid_search_kNN(X_train, y_train, X_test, y_test, results)"
   ]
  },
  {
   "cell_type": "markdown",
   "id": "2fd506af",
   "metadata": {
    "id": "2fd506af"
   },
   "source": [
    "#### Decision Tree"
   ]
  },
  {
   "cell_type": "code",
   "execution_count": null,
   "id": "b5880f19",
   "metadata": {
    "colab": {
     "base_uri": "https://localhost:8080/"
    },
    "id": "b5880f19",
    "outputId": "017e1360-bb9f-46b3-d337-802932d76ecb"
   },
   "outputs": [
    {
     "name": "stdout",
     "output_type": "stream",
     "text": [
      "Best hyperparameters: {'ccp_alpha': 0.001, 'criterion': 'entropy', 'max_depth': 6, 'max_features': 'auto'}\n",
      "Algorithm: Decision Tree\n",
      "Training accuracy: 0.9976525821596244\n",
      "Testing accuracy: 0.9440559440559441\n",
      "Test recall: 0.9431818181818182\n",
      "Testing F1 Score: 0.9540229885057472\n",
      "Testing AUC: 0.9443181818181818\n",
      "\n"
     ]
    }
   ],
   "source": [
    "from sklearn.tree import DecisionTreeClassifier\n",
    "\n",
    "\n",
    "def grid_search_DecisionTree(X_train, y_train, X_test, y_test, results, seed, print_bool=True):\n",
    "    hyperparams = {\n",
    "        'ccp_alpha': [0.1, 0.01, 0.001, 0.0001, 0],\n",
    "        'criterion': ['gini', 'entropy'],\n",
    "        'max_depth': [5, 6, 7, 8, 9, 10, None],\n",
    "        'max_features': ['auto', 'sqrt', 'log2']\n",
    "    }\n",
    "\n",
    "    clf_dt = grid_search(DecisionTreeClassifier(random_state=seed), hyperparams, X_train, y_train,\n",
    "                         print_bool=print_bool)\n",
    "\n",
    "    results = results.append(\n",
    "        test_model(clf_dt, 'Decision Tree', X_train, y_train, X_test, y_test, print_bool=print_bool), ignore_index=True)\n",
    "    fn = get_false_negatives(clf_dt, X_test, y_test)\n",
    "\n",
    "    return clf_dt, results, fn\n",
    "\n",
    "\n",
    "clf_dt, results, dt_fn = grid_search_DecisionTree(X_train, y_train, X_test, y_test, results, seed=5)"
   ]
  },
  {
   "cell_type": "markdown",
   "id": "5a6167ad",
   "metadata": {
    "id": "5a6167ad"
   },
   "source": [
    "#### Naive Bayes"
   ]
  },
  {
   "cell_type": "code",
   "execution_count": null,
   "id": "2a9bb202",
   "metadata": {
    "colab": {
     "base_uri": "https://localhost:8080/"
    },
    "id": "2a9bb202",
    "outputId": "661b6730-2371-4d9b-a4cf-eca1ed89748a"
   },
   "outputs": [
    {
     "name": "stdout",
     "output_type": "stream",
     "text": [
      "Algorithm: Naive Bayes\n",
      "Training accuracy: 0.9295774647887324\n",
      "Testing accuracy: 0.951048951048951\n",
      "Test recall: 0.9545454545454546\n",
      "Testing F1 Score: 0.96\n",
      "Testing AUC: 0.95\n",
      "\n"
     ]
    }
   ],
   "source": [
    "from sklearn.naive_bayes import GaussianNB\n",
    "\n",
    "\n",
    "def grid_search_NaiveBayes(X_train, y_train, X_test, y_test, results, print_bool=True):\n",
    "    clf_nb = GaussianNB()\n",
    "    clf_nb.fit(X_train, y_train)\n",
    "\n",
    "    results = results.append(test_model(clf_nb, 'Naive Bayes', X_train, y_train, X_test, y_test, print_bool=print_bool),\n",
    "                             ignore_index=True)\n",
    "    fn = get_false_negatives(clf_nb, X_test, y_test)\n",
    "\n",
    "    return clf_nb, results, fn\n",
    "\n",
    "\n",
    "clf_nb, results, nb_fn = grid_search_NaiveBayes(X_train, y_train, X_test, y_test, results)"
   ]
  },
  {
   "cell_type": "markdown",
   "id": "ab61cf7c",
   "metadata": {
    "id": "ab61cf7c"
   },
   "source": [
    "#### Random Forest"
   ]
  },
  {
   "cell_type": "code",
   "execution_count": null,
   "id": "5a871a3c",
   "metadata": {
    "colab": {
     "base_uri": "https://localhost:8080/"
    },
    "id": "5a871a3c",
    "outputId": "fe2455b2-0e40-43f3-c0d1-065099c0ab6b"
   },
   "outputs": [
    {
     "name": "stdout",
     "output_type": "stream",
     "text": [
      "Best hyperparameters: {'criterion': 'gini', 'max_depth': 8, 'max_features': 'auto', 'min_samples_split': 2, 'n_estimators': 500}\n",
      "Algorithm: Random Forest\n",
      "Training accuracy: 1.0\n",
      "Testing accuracy: 0.972027972027972\n",
      "Test recall: 0.9886363636363636\n",
      "Testing F1 Score: 0.9775280898876404\n",
      "Testing AUC: 0.9670454545454545\n",
      "\n"
     ]
    }
   ],
   "source": [
    "from sklearn.ensemble import RandomForestClassifier\n",
    "\n",
    "\n",
    "def grid_search_RandomForest(X_train, y_train, X_test, y_test, results, seed, print_bool=True):\n",
    "    hyperparams = {\n",
    "        'n_estimators': [50, 200, 500],\n",
    "        'max_features': ['auto', 'sqrt', 'log2'],\n",
    "        'max_depth': [4, 6, 8, None],\n",
    "        'criterion': ['gini', 'entropy'],\n",
    "        'min_samples_split': [2, 4, 6]\n",
    "    }\n",
    "\n",
    "    clf_rf = grid_search(RandomForestClassifier(random_state=seed), hyperparams, X_train, y_train,\n",
    "                         print_bool=print_bool)\n",
    "\n",
    "    results = results.append(\n",
    "        test_model(clf_rf, 'Random Forest', X_train, y_train, X_test, y_test, print_bool=print_bool), ignore_index=True)\n",
    "    fn = get_false_negatives(clf_rf, X_test, y_test)\n",
    "\n",
    "    return clf_rf, results, fn\n",
    "\n",
    "\n",
    "clf_rf, results, rf_fn = grid_search_RandomForest(X_train, y_train, X_test, y_test, results, seed=5)"
   ]
  },
  {
   "cell_type": "markdown",
   "id": "05d62ff4",
   "metadata": {
    "id": "05d62ff4"
   },
   "source": [
    "#### XGBoost"
   ]
  },
  {
   "cell_type": "code",
   "execution_count": null,
   "id": "9c4e7246",
   "metadata": {
    "colab": {
     "base_uri": "https://localhost:8080/"
    },
    "id": "9c4e7246",
    "outputId": "4af63e8a-c35b-4def-891f-001784b0c711"
   },
   "outputs": [
    {
     "name": "stdout",
     "output_type": "stream",
     "text": [
      "Best hyperparameters: {'colsample_bytree': 0.5, 'eval_metric': 'logloss', 'learning_rate': 0.01, 'max_depth': 3, 'min_child_weight': 1, 'n_estimators': 500, 'subsample': 0.9}\n",
      "Algorithm: XGB\n",
      "Training accuracy: 0.9882629107981221\n",
      "Testing accuracy: 0.972027972027972\n",
      "Test recall: 0.9886363636363636\n",
      "Testing F1 Score: 0.9775280898876404\n",
      "Testing AUC: 0.9670454545454545\n",
      "\n"
     ]
    }
   ],
   "source": [
    "import xgboost as xgb\n",
    "\n",
    "\n",
    "def grid_search_XGBoost(X_train, y_train, X_test, y_test, results, print_bool=True):\n",
    "    hyperparams = {\n",
    "        'learning_rate': [0.01, 0.1],\n",
    "        'max_depth': [3, 5, 7, 10],\n",
    "        'min_child_weight': [1, 3, 5],\n",
    "        'subsample': [0.5, 0.7, 0.9],\n",
    "        'colsample_bytree': [0.5, 0.7, 0.9],\n",
    "        'n_estimators': [100, 200, 500],\n",
    "        'eval_metric': ['logloss']\n",
    "    }\n",
    "\n",
    "    clf_xgb = grid_search(xgb.XGBClassifier(use_label_encoder=False), hyperparams, X_train, y_train,\n",
    "                          print_bool=print_bool)\n",
    "\n",
    "    results = results.append(test_model(clf_xgb, 'XGB', X_train, y_train, X_test, y_test, print_bool=print_bool),\n",
    "                             ignore_index=True)\n",
    "    fn = get_false_negatives(clf_xgb, X_test, y_test)\n",
    "\n",
    "    return clf_xgb, results, fn\n",
    "\n",
    "\n",
    "clf_xgb, results, xgb_fn = grid_search_XGBoost(X_train, y_train, X_test, y_test, results)"
   ]
  },
  {
   "cell_type": "markdown",
   "id": "btDjSvEgtARi",
   "metadata": {
    "id": "btDjSvEgtARi"
   },
   "source": [
    "#### Multilayer perceptron"
   ]
  },
  {
   "cell_type": "code",
   "execution_count": null,
   "id": "mYNXVjRIs_lX",
   "metadata": {
    "colab": {
     "base_uri": "https://localhost:8080/"
    },
    "id": "mYNXVjRIs_lX",
    "outputId": "a45f18fe-e92e-427d-ee06-72509920c079"
   },
   "outputs": [
    {
     "name": "stdout",
     "output_type": "stream",
     "text": [
      "Algorithm: Multilayer perceptron\n",
      "Training accuracy: 0.9553990610328639\n",
      "Testing accuracy: 0.972027972027972\n",
      "Test recall: 0.9772727272727273\n",
      "Testing F1 Score: 0.9772727272727273\n",
      "Testing AUC: 0.9704545454545455\n",
      "\n"
     ]
    }
   ],
   "source": [
    "import tensorflow as tf\n",
    "from tensorflow.keras.models import Sequential\n",
    "from tensorflow.keras.layers import Activation\n",
    "from tensorflow.keras.layers import Dropout\n",
    "from tensorflow.keras.layers import Dense\n",
    "from tensorflow.keras import backend as K\n",
    "from tensorflow.keras.optimizers import Adagrad\n",
    "import numpy as np\n",
    "import sklearn\n",
    "\n",
    "\n",
    "def MLP(X_train, y_train, X_test, y_test, results, print_bool=True):\n",
    "    model = tf.keras.Sequential()\n",
    "\n",
    "    #input\n",
    "    model.add(tf.keras.layers.Dense(64, input_shape=(X_train.shape[1],)))\n",
    "    model.add(Activation(\"relu\"))\n",
    "\n",
    "    #hidden\n",
    "    model.add(tf.keras.layers.Dense(32))\n",
    "    model.add(Activation(\"relu\"))\n",
    "    model.add(tf.keras.layers.Dense(32))\n",
    "    model.add(Activation(\"relu\"))\n",
    "\n",
    "    #output\n",
    "    model.add(tf.keras.layers.Dense(1, activation='sigmoid'))\n",
    "\n",
    "    INIT_LR = 0.5\n",
    "    NUM_EPOCHS = 1000\n",
    "    BS = 128\n",
    "    opt = Adagrad(learning_rate=INIT_LR, decay=INIT_LR / NUM_EPOCHS)\n",
    "    model.compile(loss=\"binary_crossentropy\", optimizer=\"adam\",\n",
    "                  metrics=[\"accuracy\"])\n",
    "\n",
    "    H = model.fit(\n",
    "        x=X_train,\n",
    "        y=y_train,\n",
    "        batch_size=BS,\n",
    "        #steps_per_epoch=X_train.shape[0] // BS,\n",
    "        epochs=NUM_EPOCHS,\n",
    "        verbose=0)\n",
    "\n",
    "    predicted_train = np.multiply(model.predict(X_train) > 0.5, 1).flatten()\n",
    "    predicted_test = np.multiply(model.predict(X_test) > 0.5, 1).flatten()\n",
    "\n",
    "    train_accuracy = accuracy_score(y_train, predicted_train)\n",
    "    test_accuracy = accuracy_score(y_test, predicted_test)\n",
    "    test_recall = recall_score(y_test, predicted_test)\n",
    "    test_f1_score = f1_score(y_test, predicted_test)\n",
    "    test_auc = roc_auc_score(y_test, predicted_test)\n",
    "\n",
    "    if print_bool:\n",
    "        print('Algorithm: Multilayer perceptron')\n",
    "        print(f'Training accuracy: {train_accuracy}\\nTesting accuracy: {test_accuracy}')\n",
    "        print(f'Test recall: {test_recall}\\nTesting F1 Score: {test_f1_score}\\nTesting AUC: {test_auc}\\n')\n",
    "\n",
    "    results = results.append({'Algorithms': \"Multilayer Perceptron\", 'Training Accuracy': train_accuracy,\n",
    "                              'Testing Accuracy': test_accuracy,\n",
    "                              'Testing Recall': test_recall,\n",
    "                              'Testing F1 Score': test_f1_score,\n",
    "                              'Testing AUC': test_auc}, ignore_index=True)\n",
    "\n",
    "    return model, results\n",
    "\n",
    "\n",
    "clf_mlp, results = MLP(X_train, y_train, X_test, y_test, results)"
   ]
  },
  {
   "cell_type": "markdown",
   "id": "BUwp98WVlJT9",
   "metadata": {
    "id": "BUwp98WVlJT9"
   },
   "source": [
    "#### ExtraTreesClassifier\n"
   ]
  },
  {
   "cell_type": "code",
   "execution_count": null,
   "id": "2wn8cuoIlNqx",
   "metadata": {
    "colab": {
     "base_uri": "https://localhost:8080/"
    },
    "id": "2wn8cuoIlNqx",
    "outputId": "cc5dfb54-428b-4601-de5f-80bebb8f4e16"
   },
   "outputs": [
    {
     "name": "stdout",
     "output_type": "stream",
     "text": [
      "Best hyperparameters: {'criterion': 'entropy', 'max_depth': None, 'max_features': 'auto', 'min_samples_split': 4, 'n_estimators': 200}\n",
      "Algorithm: Extra Trees\n",
      "Training accuracy: 1.0\n",
      "Testing accuracy: 0.9790209790209791\n",
      "Test recall: 1.0\n",
      "Testing F1 Score: 0.9832402234636871\n",
      "Testing AUC: 0.9727272727272727\n",
      "\n"
     ]
    }
   ],
   "source": [
    "from sklearn.ensemble import ExtraTreesClassifier\n",
    "\n",
    "\n",
    "def grid_search_ExtraTrees(X_train, y_train, X_test, y_test, results, seed, print_bool=True):\n",
    "    hyperparams = {\n",
    "        'n_estimators': [50, 200, 500],\n",
    "        'max_features': ['auto', 'sqrt', 'log2'],\n",
    "        'max_depth': [4, 6, 8, None],\n",
    "        'criterion': ['gini', 'entropy'],\n",
    "        'min_samples_split': [2, 4, 6]\n",
    "    }\n",
    "\n",
    "    clf_etc = grid_search(ExtraTreesClassifier(random_state=seed), hyperparams, X_train, y_train, print_bool=print_bool)\n",
    "\n",
    "    results = results.append(\n",
    "        test_model(clf_etc, 'Extra Trees', X_train, y_train, X_test, y_test, print_bool=print_bool),\n",
    "        ignore_index=True)\n",
    "    fn = get_false_negatives(clf_etc, X_test, y_test)\n",
    "\n",
    "    return clf_etc, results, fn\n",
    "\n",
    "\n",
    "clf_etc, results, etc_fn = grid_search_ExtraTrees(X_train, y_train, X_test, y_test, results, seed=5)"
   ]
  },
  {
   "cell_type": "markdown",
   "id": "e4a13b31",
   "metadata": {
    "id": "e4a13b31"
   },
   "source": [
    "---\n",
    "\n",
    "###  Analysis of Training Results"
   ]
  },
  {
   "cell_type": "code",
   "execution_count": null,
   "id": "a834f9c4",
   "metadata": {
    "colab": {
     "base_uri": "https://localhost:8080/",
     "height": 332
    },
    "id": "a834f9c4",
    "outputId": "acdfcf5f-e0e0-4830-f1b1-7a56ff7d0e25"
   },
   "outputs": [
    {
     "data": {
      "text/html": [
       "\n",
       "  <div id=\"df-c66cfd2a-6146-412f-98cc-4d837ef33686\">\n",
       "    <div class=\"colab-df-container\">\n",
       "      <div>\n",
       "<style scoped>\n",
       "    .dataframe tbody tr th:only-of-type {\n",
       "        vertical-align: middle;\n",
       "    }\n",
       "\n",
       "    .dataframe tbody tr th {\n",
       "        vertical-align: top;\n",
       "    }\n",
       "\n",
       "    .dataframe thead th {\n",
       "        text-align: right;\n",
       "    }\n",
       "</style>\n",
       "<table border=\"1\" class=\"dataframe\">\n",
       "  <thead>\n",
       "    <tr style=\"text-align: right;\">\n",
       "      <th></th>\n",
       "      <th>Algorithms</th>\n",
       "      <th>Training Accuracy</th>\n",
       "      <th>Testing Accuracy</th>\n",
       "      <th>Testing Recall</th>\n",
       "      <th>Testing F1 Score</th>\n",
       "      <th>Testing AUC</th>\n",
       "    </tr>\n",
       "  </thead>\n",
       "  <tbody>\n",
       "    <tr>\n",
       "      <th>0</th>\n",
       "      <td>Logistic regression</td>\n",
       "      <td>0.969484</td>\n",
       "      <td>0.972028</td>\n",
       "      <td>0.988636</td>\n",
       "      <td>0.977528</td>\n",
       "      <td>0.967045</td>\n",
       "    </tr>\n",
       "    <tr>\n",
       "      <th>1</th>\n",
       "      <td>Support Vector Machine</td>\n",
       "      <td>0.974178</td>\n",
       "      <td>0.979021</td>\n",
       "      <td>1.000000</td>\n",
       "      <td>0.983240</td>\n",
       "      <td>0.972727</td>\n",
       "    </tr>\n",
       "    <tr>\n",
       "      <th>2</th>\n",
       "      <td>KNN</td>\n",
       "      <td>0.969484</td>\n",
       "      <td>0.979021</td>\n",
       "      <td>1.000000</td>\n",
       "      <td>0.983240</td>\n",
       "      <td>0.972727</td>\n",
       "    </tr>\n",
       "    <tr>\n",
       "      <th>3</th>\n",
       "      <td>Decision Tree</td>\n",
       "      <td>0.997653</td>\n",
       "      <td>0.944056</td>\n",
       "      <td>0.943182</td>\n",
       "      <td>0.954023</td>\n",
       "      <td>0.944318</td>\n",
       "    </tr>\n",
       "    <tr>\n",
       "      <th>4</th>\n",
       "      <td>Naive Bayes</td>\n",
       "      <td>0.929577</td>\n",
       "      <td>0.951049</td>\n",
       "      <td>0.954545</td>\n",
       "      <td>0.960000</td>\n",
       "      <td>0.950000</td>\n",
       "    </tr>\n",
       "    <tr>\n",
       "      <th>5</th>\n",
       "      <td>Random Forest</td>\n",
       "      <td>1.000000</td>\n",
       "      <td>0.972028</td>\n",
       "      <td>0.988636</td>\n",
       "      <td>0.977528</td>\n",
       "      <td>0.967045</td>\n",
       "    </tr>\n",
       "    <tr>\n",
       "      <th>6</th>\n",
       "      <td>XGB</td>\n",
       "      <td>0.988263</td>\n",
       "      <td>0.972028</td>\n",
       "      <td>0.988636</td>\n",
       "      <td>0.977528</td>\n",
       "      <td>0.967045</td>\n",
       "    </tr>\n",
       "    <tr>\n",
       "      <th>7</th>\n",
       "      <td>Multilayer Perceptron</td>\n",
       "      <td>0.955399</td>\n",
       "      <td>0.972028</td>\n",
       "      <td>0.977273</td>\n",
       "      <td>0.977273</td>\n",
       "      <td>0.970455</td>\n",
       "    </tr>\n",
       "    <tr>\n",
       "      <th>8</th>\n",
       "      <td>Extra Trees</td>\n",
       "      <td>1.000000</td>\n",
       "      <td>0.979021</td>\n",
       "      <td>1.000000</td>\n",
       "      <td>0.983240</td>\n",
       "      <td>0.972727</td>\n",
       "    </tr>\n",
       "  </tbody>\n",
       "</table>\n",
       "</div>\n",
       "      <button class=\"colab-df-convert\" onclick=\"convertToInteractive('df-c66cfd2a-6146-412f-98cc-4d837ef33686')\"\n",
       "              title=\"Convert this dataframe to an interactive table.\"\n",
       "              style=\"display:none;\">\n",
       "        \n",
       "  <svg xmlns=\"http://www.w3.org/2000/svg\" height=\"24px\"viewBox=\"0 0 24 24\"\n",
       "       width=\"24px\">\n",
       "    <path d=\"M0 0h24v24H0V0z\" fill=\"none\"/>\n",
       "    <path d=\"M18.56 5.44l.94 2.06.94-2.06 2.06-.94-2.06-.94-.94-2.06-.94 2.06-2.06.94zm-11 1L8.5 8.5l.94-2.06 2.06-.94-2.06-.94L8.5 2.5l-.94 2.06-2.06.94zm10 10l.94 2.06.94-2.06 2.06-.94-2.06-.94-.94-2.06-.94 2.06-2.06.94z\"/><path d=\"M17.41 7.96l-1.37-1.37c-.4-.4-.92-.59-1.43-.59-.52 0-1.04.2-1.43.59L10.3 9.45l-7.72 7.72c-.78.78-.78 2.05 0 2.83L4 21.41c.39.39.9.59 1.41.59.51 0 1.02-.2 1.41-.59l7.78-7.78 2.81-2.81c.8-.78.8-2.07 0-2.86zM5.41 20L4 18.59l7.72-7.72 1.47 1.35L5.41 20z\"/>\n",
       "  </svg>\n",
       "      </button>\n",
       "      \n",
       "  <style>\n",
       "    .colab-df-container {\n",
       "      display:flex;\n",
       "      flex-wrap:wrap;\n",
       "      gap: 12px;\n",
       "    }\n",
       "\n",
       "    .colab-df-convert {\n",
       "      background-color: #E8F0FE;\n",
       "      border: none;\n",
       "      border-radius: 50%;\n",
       "      cursor: pointer;\n",
       "      display: none;\n",
       "      fill: #1967D2;\n",
       "      height: 32px;\n",
       "      padding: 0 0 0 0;\n",
       "      width: 32px;\n",
       "    }\n",
       "\n",
       "    .colab-df-convert:hover {\n",
       "      background-color: #E2EBFA;\n",
       "      box-shadow: 0px 1px 2px rgba(60, 64, 67, 0.3), 0px 1px 3px 1px rgba(60, 64, 67, 0.15);\n",
       "      fill: #174EA6;\n",
       "    }\n",
       "\n",
       "    [theme=dark] .colab-df-convert {\n",
       "      background-color: #3B4455;\n",
       "      fill: #D2E3FC;\n",
       "    }\n",
       "\n",
       "    [theme=dark] .colab-df-convert:hover {\n",
       "      background-color: #434B5C;\n",
       "      box-shadow: 0px 1px 3px 1px rgba(0, 0, 0, 0.15);\n",
       "      filter: drop-shadow(0px 1px 2px rgba(0, 0, 0, 0.3));\n",
       "      fill: #FFFFFF;\n",
       "    }\n",
       "  </style>\n",
       "\n",
       "      <script>\n",
       "        const buttonEl =\n",
       "          document.querySelector('#df-c66cfd2a-6146-412f-98cc-4d837ef33686 button.colab-df-convert');\n",
       "        buttonEl.style.display =\n",
       "          google.colab.kernel.accessAllowed ? 'block' : 'none';\n",
       "\n",
       "        async function convertToInteractive(key) {\n",
       "          const element = document.querySelector('#df-c66cfd2a-6146-412f-98cc-4d837ef33686');\n",
       "          const dataTable =\n",
       "            await google.colab.kernel.invokeFunction('convertToInteractive',\n",
       "                                                     [key], {});\n",
       "          if (!dataTable) return;\n",
       "\n",
       "          const docLinkHtml = 'Like what you see? Visit the ' +\n",
       "            '<a target=\"_blank\" href=https://colab.research.google.com/notebooks/data_table.ipynb>data table notebook</a>'\n",
       "            + ' to learn more about interactive tables.';\n",
       "          element.innerHTML = '';\n",
       "          dataTable['output_type'] = 'display_data';\n",
       "          await google.colab.output.renderOutput(dataTable, element);\n",
       "          const docLink = document.createElement('div');\n",
       "          docLink.innerHTML = docLinkHtml;\n",
       "          element.appendChild(docLink);\n",
       "        }\n",
       "      </script>\n",
       "    </div>\n",
       "  </div>\n",
       "  "
      ],
      "text/plain": [
       "               Algorithms  Training Accuracy  ...  Testing F1 Score  Testing AUC\n",
       "0     Logistic regression           0.969484  ...          0.977528     0.967045\n",
       "1  Support Vector Machine           0.974178  ...          0.983240     0.972727\n",
       "2                     KNN           0.969484  ...          0.983240     0.972727\n",
       "3           Decision Tree           0.997653  ...          0.954023     0.944318\n",
       "4             Naive Bayes           0.929577  ...          0.960000     0.950000\n",
       "5           Random Forest           1.000000  ...          0.977528     0.967045\n",
       "6                     XGB           0.988263  ...          0.977528     0.967045\n",
       "7   Multilayer Perceptron           0.955399  ...          0.977273     0.970455\n",
       "8             Extra Trees           1.000000  ...          0.983240     0.972727\n",
       "\n",
       "[9 rows x 6 columns]"
      ]
     },
     "execution_count": 26,
     "metadata": {},
     "output_type": "execute_result"
    }
   ],
   "source": [
    "results"
   ]
  },
  {
   "cell_type": "code",
   "execution_count": null,
   "id": "c8581158",
   "metadata": {
    "colab": {
     "base_uri": "https://localhost:8080/",
     "height": 625
    },
    "id": "c8581158",
    "outputId": "c337a98c-b828-4852-8f59-61b8701c7975"
   },
   "outputs": [
    {
     "data": {
      "image/png": "[encoded data removed]",
      "text/plain": [
       "<Figure size 1008x1008 with 18 Axes>"
      ]
     },
     "metadata": {
      "needs_background": "light"
     },
     "output_type": "display_data"
    }
   ],
   "source": [
    "from sklearn.metrics import confusion_matrix\n",
    "\n",
    "plt.figure(figsize=(14, 14))\n",
    "\n",
    "plt.subplot(4, 3, 1)\n",
    "draw_confusion_matrix(clf_lr, 'Logistic regression', X_test, y_test, sclr)\n",
    "plt.subplot(4, 3, 2)\n",
    "draw_confusion_matrix(clf_svm, 'SVM', X_test, y_test, sclr)\n",
    "plt.subplot(4, 3, 3)\n",
    "draw_confusion_matrix(clf_knn, 'KNN', X_test, y_test, sclr)\n",
    "plt.subplot(4, 3, 4)\n",
    "draw_confusion_matrix(clf_dt, 'Decision Tree', X_test, y_test)\n",
    "plt.subplot(4, 3, 5)\n",
    "draw_confusion_matrix(clf_nb, 'Naive Bayes', X_test, y_test)\n",
    "plt.subplot(4, 3, 6)\n",
    "draw_confusion_matrix(clf_rf, 'Random Forest', X_test, y_test)\n",
    "plt.subplot(4, 3, 7)\n",
    "draw_confusion_matrix(clf_xgb, 'XGBoost', X_test, y_test)\n",
    "plt.subplot(4, 3, 8)\n",
    "\n",
    "##MLP\n",
    "y_preds = np.multiply(clf_mlp.predict(X_test) > 0.5, 1).flatten()\n",
    "cf_matrix = confusion_matrix(y_test, y_preds)\n",
    "cbar_kws = {\n",
    "    \"ticks\": np.array([15, 30, 45, 60, 75]),\n",
    "}\n",
    "sns.heatmap(cf_matrix, annot=True, cmap='Blues', linewidths=5, cbar_kws=cbar_kws)\n",
    "\n",
    "plt.title(\"Multilayer Perceptron\")\n",
    "plt.subplot(4, 3, 9)\n",
    "draw_confusion_matrix(clf_etc, 'Extra Tree', X_test, y_test, None)"
   ]
  },
  {
   "cell_type": "markdown",
   "id": "valid-merchant",
   "metadata": {
    "id": "valid-merchant"
   },
   "source": [
    "False positives in the case of cancer classification aren't nearly as dangerous as false negatives, because additional tests are usually done on patients before starting any treatments which for cancer usually come with significant health risks.\n",
    "However, false negative classifications are potentially very dangerous because they could delay further breast cancer tests being done on the patient, allowing the cancer to further grow and become harder to treat.\n",
    "The confusion matrices show us that all models have a negative false rate of 7.27% or bigger.\n"
   ]
  },
  {
   "cell_type": "markdown",
   "id": "ALu4i-ojCs3P",
   "metadata": {
    "id": "ALu4i-ojCs3P"
   },
   "source": [
    "#### Considering Multiple-Model for Classification\n",
    "If multiple trained models gave different classifications for the same samples, we can consider making a model which would combine the output of all models to get a better prediction and hopefully eliminate false negatives."
   ]
  },
  {
   "cell_type": "code",
   "execution_count": null,
   "id": "nnaY_hOEBgpk",
   "metadata": {
    "colab": {
     "base_uri": "https://localhost:8080/"
    },
    "id": "nnaY_hOEBgpk",
    "outputId": "6a00d333-7b24-4eac-8fc7-32beac346bbf"
   },
   "outputs": [
    {
     "name": "stdout",
     "output_type": "stream",
     "text": [
      "False negatives of algorithm logreg: [40, 297, 197]\n",
      "False negatives of algorithm svm: [40, 297, 197]\n",
      "False negatives of algorithm knn: [40, 297, 414]\n",
      "False negatives of algorithm dt: [40, 297, 414]\n",
      "False negatives of algorithm nb: [40, 297, 414]\n",
      "False negatives of algorithm rf: [40, 297, 414]\n",
      "False negatives of algorithm xgb: [40, 297, 414]\n",
      "False negatives of algorithm etc: [40, 297, 414]\n"
     ]
    }
   ],
   "source": [
    "false_negatives = {'logreg': logreg_fn, 'svm': svm_fn, 'knn': knn_fn, 'dt': dt_fn, 'nb': nb_fn, 'rf': rf_fn,\n",
    "                   'xgb': xgb_fn, 'etc': etc_fn}\n",
    "\n",
    "for algorithm in false_negatives:\n",
    "    samples = []\n",
    "    for sample in false_negatives[algorithm]:\n",
    "        samples.append(sample.name)\n",
    "    print(f'False negatives of algorithm {algorithm}: {samples}')"
   ]
  },
  {
   "cell_type": "markdown",
   "id": "tOSeR3nLCkf2",
   "metadata": {
    "id": "tOSeR3nLCkf2"
   },
   "source": [
    "We can see that all algorithms failed to classify the same samples (in this split, its samples 40, 99, and 297). If different algorithms had had different false negatives and false positives, we would have constructed a model which would pick a classification by considering the classifications made by each algorithm individually. This was not the case. \n",
    "\n",
    "Considering there are multiple kinds of breast cancer, maybe these particular samples were of the more rare kind of breast cancer resulting in wrong classification. Or there might have been some other underlying pattern which we couldn't recognize with our models."
   ]
  },
  {
   "cell_type": "markdown",
   "id": "fv73HDa2caiO",
   "metadata": {
    "id": "fv73HDa2caiO"
   },
   "source": [
    "### Evaluation "
   ]
  },
  {
   "cell_type": "markdown",
   "id": "tODr-aEVdIGK",
   "metadata": {
    "id": "tODr-aEVdIGK"
   },
   "source": [
    "After training of our models was finished, we became curious about how much impact the randomness of the data split had on the performance of our models. To find out, we ran everything again through 30 different random states and watched how the performance measures of each algorithm fared."
   ]
  },
  {
   "cell_type": "code",
   "execution_count": null,
   "id": "0UZlnQ6X2FhL",
   "metadata": {
    "colab": {
     "base_uri": "https://localhost:8080/"
    },
    "id": "0UZlnQ6X2FhL",
    "outputId": "78195b7b-44cb-4336-f0da-71b2d4847266"
   },
   "outputs": [
    {
     "name": "stdout",
     "output_type": "stream",
     "text": [
      "SEED 0\n",
      "SEED 1\n",
      "SEED 2\n",
      "SEED 3\n",
      "SEED 4\n",
      "SEED 5\n",
      "SEED 6\n",
      "SEED 7\n",
      "SEED 8\n",
      "SEED 9\n",
      "SEED 10\n",
      "SEED 11\n",
      "SEED 12\n",
      "SEED 13\n",
      "SEED 14\n",
      "SEED 15\n",
      "SEED 16\n",
      "SEED 17\n",
      "SEED 18\n",
      "SEED 19\n",
      "SEED 20\n",
      "SEED 21\n",
      "SEED 22\n",
      "SEED 23\n",
      "SEED 24\n",
      "SEED 25\n",
      "SEED 26\n",
      "SEED 27\n",
      "SEED 28\n",
      "SEED 29\n"
     ]
    }
   ],
   "source": [
    "'''\n",
    "all_iterations\n",
    "  |_seed\n",
    "    |_dropped_highly_correlated_features\n",
    "    |_features\n",
    "    |_results\n",
    "    |_models\n",
    "      |_LogReg\n",
    "      |_SVM\n",
    "      |_kNN\n",
    "      |_DT\n",
    "      |_NB\n",
    "      |_RF\n",
    "      |_XGB\n",
    "      |_MLP\n",
    "      |_ETC\n",
    "'''\n",
    "all_iterations = {}\n",
    "\n",
    "seed_range = range(30)\n",
    "\n",
    "for seed in seed_range:\n",
    "    print(\"SEED \" + str(seed))\n",
    "    current_seed_iteration = {}\n",
    "\n",
    "    # Train-test split\n",
    "    X_train, X_test, y_train, y_test = train_test_split(X, y, test_size=0.25, random_state=seed)\n",
    "\n",
    "    # Feature selection\n",
    "    cor_matrix_without_target = X_train.phik_matrix(interval_cols=X_train.columns)\n",
    "\n",
    "    # Drop highly correlated featyres\n",
    "    upper_tri = cor_matrix_without_target.abs().where(\n",
    "        np.triu(np.ones(cor_matrix_without_target.shape), k=1).astype(np.bool_))\n",
    "    to_drop = [column for column in upper_tri.columns if any(upper_tri[column] > float(drop_cutoff))]\n",
    "\n",
    "    X_train = X_train.drop(list(to_drop), axis=1)\n",
    "    X_test = X_test.drop(list(to_drop), axis=1)\n",
    "\n",
    "    current_seed_iteration[\"dropped_highly_correlated_features\"] = to_drop\n",
    "\n",
    "    # Feature selection SequentialFeature\n",
    "    X_best = SequentialFeatureSelector(estimator=LogisticRegression(max_iter=500), n_features_to_select=num_features,\n",
    "                                       cv=10,\n",
    "                                       direction='forward', n_jobs=4).fit(X_train, y_train)\n",
    "    mask = X_best.get_support()\n",
    "    best_features = []\n",
    "    for curr_bool, feature in zip(mask, X_train.columns):\n",
    "        if curr_bool:\n",
    "            best_features.append(feature)\n",
    "\n",
    "    # Use best fetures obtained from SequentialFeatureSelector\n",
    "    X_train = X_train[X_train.columns[X_best.get_support(indices=True)]]\n",
    "    X_test = X_test[X_test.columns[X_best.get_support(indices=True)]]\n",
    "\n",
    "    current_seed_iteration[\"features\"] = best_features\n",
    "\n",
    "    # Training and testing\n",
    "    results = pd.DataFrame(\n",
    "        columns=['Algorithms', 'Training Accuracy', 'Testing Accuracy', 'Testing Recall', 'Testing F1 Score',\n",
    "                 'Testing AUC'])\n",
    "\n",
    "    models = {}\n",
    "    # Logistic Regression\n",
    "    clf_lr, results, non = grid_search_LogisticRegression(X_train, y_train, X_test, y_test, results, print_bool=False)\n",
    "    models[\"LogReg\"] = clf_lr\n",
    "    # Support Vector Machine\n",
    "    clf_svm, results, __ = grid_search_SVM(X_train, y_train, X_test, y_test, results, print_bool=False)\n",
    "    models[\"SVM\"] = clf_svm\n",
    "    # K-Nearest Neighbour\n",
    "    clf_knn, results, __ = grid_search_kNN(X_train, y_train, X_test, y_test, results, print_bool=False)\n",
    "    models[\"kNN\"] = clf_knn\n",
    "    # Decision Tree\n",
    "    clf_dt, results, __ = grid_search_DecisionTree(X_train, y_train, X_test, y_test, results, seed, print_bool=False)\n",
    "    models[\"DT\"] = clf_dt\n",
    "    # Naive Bayes\n",
    "    clf_nb, results, __ = grid_search_NaiveBayes(X_train, y_train, X_test, y_test, results, print_bool=False)\n",
    "    models[\"NB\"] = clf_nb\n",
    "    # Random Forest\n",
    "    clf_rf, results, __ = grid_search_RandomForest(X_train, y_train, X_test, y_test, results, seed, print_bool=False)\n",
    "    models[\"RF\"] = clf_rf\n",
    "    # XGBoost\n",
    "    clf_xgb, results, __ = grid_search_XGBoost(X_train, y_train, X_test, y_test, results, print_bool=False)\n",
    "    models[\"XGB\"] = clf_xgb\n",
    "    # Multilayer Perceptron\n",
    "    clf_mlp, results = MLP(X_train, y_train, X_test, y_test, results, print_bool=False)\n",
    "    models[\"mlp\"] = clf_mlp\n",
    "    # ExtraTreesClassifier\n",
    "    clf_etc, results, __ = grid_search_ExtraTrees(X_train, y_train, X_test, y_test, results, seed, print_bool=False)\n",
    "    models[\"ETC\"] = clf_etc\n",
    "\n",
    "    current_seed_iteration[\"models\"] = models\n",
    "    current_seed_iteration[\"results\"] = results\n",
    "\n",
    "    all_iterations[seed] = current_seed_iteration"
   ]
  },
  {
   "cell_type": "code",
   "execution_count": null,
   "id": "PDHHtNl0ECqe",
   "metadata": {
    "colab": {
     "base_uri": "https://localhost:8080/",
     "height": 265
    },
    "id": "PDHHtNl0ECqe",
    "outputId": "9256cdb1-4258-4d1c-95af-aae568e15040"
   },
   "outputs": [
    {
     "data": {
      "image/png": "[encoded data removed]",
      "text/plain": [
       "<Figure size 720x288 with 1 Axes>"
      ]
     },
     "metadata": {
      "needs_background": "light"
     },
     "output_type": "display_data"
    }
   ],
   "source": [
    "'''\n",
    "model_summary\n",
    "        |_model\n",
    "          |_worst\n",
    "          |_median\n",
    "          |_best\n",
    "'''\n",
    "model_summary = {}\n",
    "model_names = list(all_iterations[list(seed_range)[0]][\"results\"][\"Algorithms\"])\n",
    "for model_name in model_names:\n",
    "    model_scores = []\n",
    "    for seed in seed_range:\n",
    "        model_results = all_iterations[seed][\"results\"]\n",
    "        model_score = float(model_results[model_results['Algorithms'] == model_name][\"Testing F1 Score\"])\n",
    "        model_scores.append(model_score)\n",
    "\n",
    "    model_summary[model_name] = {\n",
    "        \"worst\": np.min(model_scores),\n",
    "        \"median\": np.median(model_scores),\n",
    "        \"best\": np.max(model_scores)\n",
    "    }\n",
    "\n",
    "#print(model_accs)\n",
    "fig, ax = plt.subplots(figsize=(10, 4))\n",
    "\n",
    "for i, model_name in enumerate(model_names):\n",
    "    ax.arrow(model_summary[model_name][\"median\"], i,\n",
    "             model_summary[model_name][\"worst\"] - model_summary[model_name][\"median\"], 0)\n",
    "    ax.arrow(model_summary[model_name][\"median\"], i,\n",
    "             model_summary[model_name][\"best\"] - model_summary[model_name][\"median\"], 0)\n",
    "    plt.plot(model_summary[model_name][\"median\"], i, 'bo')\n",
    "\n",
    "    ax.set_yticks(np.arange(len(model_names)))\n",
    "    ax.set_yticklabels(model_names)\n",
    "    ax.set_xlim(0.8, 1)\n",
    "    ax.grid()\n",
    "\n",
    "plt.show()"
   ]
  },
  {
   "cell_type": "markdown",
   "id": "ngkgG4gxhThH",
   "metadata": {
    "id": "ngkgG4gxhThH"
   },
   "source": [
    "Result of the evaluation can be seen in the plot above. Lines represent ranges of the F1 score for each algorithm, while dots represent median values. \n",
    "\n",
    "We can see that most of the algorithms achieved similar F1 score and range. However, Multilayer Perceptron, Naive Bayes and Decision Tree seem to have performed the worst, either in terms of F1 score or the range. We wouldn't recommend using them for the classification of the breast cancer. Out of the well performing algorithms SVM seems to be a good choice because of the small range and high F1 score as well as the simplicity and widespread usage of the algorithm. "
   ]
  },
  {
   "cell_type": "markdown",
   "id": "008c7918",
   "metadata": {
    "id": "008c7918"
   },
   "source": [
    "## Conclusion\n",
    "Breast cancer is the second most often occuring cancer and still one of the leading causes of death in women. In this article, we've improved upon feature selection, using sequential feature selection to improve our results across all algorithms. We have used Support Vector Machine, Logistic Regression, K-Nearest Neighbors, Decision Tree, Naive Bayes and Random Forest Classifier just like the authors of the replicated article, as well as added Extra Trees Classifier, XGBoost and Multilayer Perceptron. We included multiple classification performance measures: accuracy, F1 score, Recall and AUC. We used grid search technique to optimize the hyperparameters of the algorithms for which it was possible to do so. We compared the models and analyzed their behaivour for different train-test splits. Across the board, all algorithms worked fairly well, with Logistic Regression, SVM, KNN, Random Forest, XGBoost and Extra Trees perfoming better than Multilayer Perceptron, Naive Bayes and Decision Tree.\n",
    "The use of ML algorithms in classifying breast cancer with this dataset shows promise. We are optimistic it would work on a larger dataset and are hoping to see similar technology used for real medical diagnosis in the future. "
   ]
  },
  {
   "cell_type": "markdown",
   "id": "a4266302",
   "metadata": {
    "id": "a4266302"
   },
   "source": [
    "### Acknowledgements\n",
    "Special thanks to...\n",
    "\n",
    "- Creators of the article:\n",
    " \n",
    " Sharmin Ara, Department of CSE, CUET, Chittagong-4349, Bangladesh, u1604044@student.cuet.ac.bd\n",
    " \n",
    " Annesha Das, Department of CSE, CUET, Chittagong-4349, Bangladesh, annesha@cuet.ac.bd\n",
    "\n",
    " Ashim Dey, Department of CSE, CUET, Chittagong-4349, Bangladesh, ashim@cuet.ac.bd\n",
    " \n",
    " \n",
    "- Creators of the dataset:\n",
    "\n",
    " Dr. William H. Wolberg, General Surgery Dept., University of\n",
    "Wisconsin,  Clinical Sciences Center, Madison, WI 53792\n",
    "wolberg@eagle.surgery.wisc.edu\n",
    "\n",
    " W. Nick Street, Computer Sciences Dept., University of\n",
    "Wisconsin, 1210 West Dayton St., Madison, WI 53706\n",
    "street@cs.wisc.edu  608-262-6619\n",
    "\n",
    " Olvi L. Mangasarian, Computer Sciences Dept., University of\n",
    "Wisconsin, 1210 West Dayton St., Madison, WI 53706\n",
    "olvi@cs.wisc.edu \n",
    "\n",
    "\n",
    "- Project mentor:\n",
    "\n",
    " Eugen Vušak, Department of Electronics, Microelectronics, Computer and Intelligent Systems, Faculty of Electrical Engineering and Computing, University of Zagreb, eugen.vusak@fer.hr"
   ]
  },
  {
   "cell_type": "markdown",
   "id": "72868423",
   "metadata": {},
   "source": [
    "### Sources\n",
    "\n",
    "- S. Ara, A. Das and A. Dey: Malignant and Benign Breast Cancer Classification using Machine Learning Algorithms, 2021 International Conference on Artificial Intelligence (ICAI), 2021, pp. 97-101, doi: 10.1109/ICAI52203.2021.9445249 ​\n",
    "\n",
    "- W.N. Street, W.H. Wolberg and O.L. Mangasarian. Nuclear feature extraction for breast tumor diagnosis. IS&T/SPIE 1993 International Symposium on Electronic Imaging: Science and Technology, volume 1905, pages 861-870, San Jose, CA, 1993.​\n",
    "\n",
    "- Scikit-learn Documentation  1.0.2  https://scikit-learn.org/\n",
    "\n",
    "- Seaborn Documentation 0.11.2 https://seaborn.pydata.org/"
   ]
  }
 ],
 "metadata": {
  "accelerator": "GPU",
  "colab": {
   "collapsed_sections": [
    "d613775a",
    "3aa2e9ce",
    "1c2a63e5",
    "2fd506af",
    "5a6167ad",
    "ab61cf7c",
    "05d62ff4",
    "btDjSvEgtARi",
    "BUwp98WVlJT9"
   ],
   "name": "projectNotebook(5).ipynb",
   "provenance": []
  },
  "kernelspec": {
   "display_name": "Python 3 (ipykernel)",
   "language": "python",
   "name": "python3"
  },
  "language_info": {
   "codemirror_mode": {
    "name": "ipython",
    "version": 3
   },
   "file_extension": ".py",
   "mimetype": "text/x-python",
   "name": "python",
   "nbconvert_exporter": "python",
   "pygments_lexer": "ipython3",
   "version": "3.9.7"
  }
 },
 "nbformat": 4,
 "nbformat_minor": 5
}
