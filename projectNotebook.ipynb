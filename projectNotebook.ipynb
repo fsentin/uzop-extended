{
 "cells": [
  {
   "cell_type": "markdown",
   "id": "b75e5cc9",
   "metadata": {
    "id": "b75e5cc9"
   },
   "source": [
    "University of Zagreb, Faculty of Electrical Engineering and Computing\n",
    "\n",
    "# Introduction to Data Science Course Project\n",
    "## Malignant and Benign Breast Cancer Classification using Machine Learning Algorithms\n",
    "\n",
    "#### Fani Sentinella-Jerbić, Matej Čubek, Leon Novački, Fran Hrabar, 2021\n",
    "\n",
    "---\n",
    "\n",
    "This project's aim is to replicate and creatively expand a data science themed scientific article using a Jupyter notebook. We replicated the following article:\n",
    "\n",
    "S. Ara, A. Das and A. Dey, _Malignant and Benign Breast Cancer Classification using Machine Learning Algorithms_, 2021 International Conference on Artificial Intelligence (ICAI), 2021, pp. 97-101, doi: 10.1109/ICAI52203.2021.9445249.\n"
   ]
  },
  {
   "cell_type": "code",
   "execution_count": 2,
   "id": "7f5e4302",
   "metadata": {
    "id": "7f5e4302"
   },
   "outputs": [],
   "source": [
    "import pandas as pd\n",
    "import numpy as np\n",
    "import seaborn as sns\n",
    "import matplotlib.pyplot as plt\n",
    "import collections\n",
    "\n",
    "plt.style.use('seaborn')"
   ]
  },
  {
   "cell_type": "markdown",
   "id": "1ab1cd27",
   "metadata": {
    "id": "1ab1cd27"
   },
   "source": [
    "### About the article\n",
    "\n",
    "\n",
    "#### Research type classification:\n",
    "- according to purpose: **applied** - uses known methods on new problems, doesn't answer any general questions in the field of artificial science nor does it introduce any new methods\n",
    "- according to information origin: **secondary** - uses dataset provided by another institution\n",
    "- according to time: **cross-sectional study** - made from an existing dataset during the International Conference on Artificial Intelligence in Islamabad\n",
    "- according to method of gathering: **documentary** - uses existing data for the analysis, doesn't collect any new data\n",
    "- according to data type: **quantitative** - all features have numerical values which are then used to compute the predictions\n",
    "- according to degree of manipulation: **observational** - the data was collected from real patients already having the breast cancer\n",
    "- according to depth of conclusion: **correlational** - tries to determine a model which predicts if a person has benign or malignant breast cancer based on the collected features\n",
    "- according to type of conclusion: **deductive** - some things can be predicted by ML algorithms and that is what the authors of this article tried to do for breast cancer classification\n",
    "\n",
    "\n",
    "#### Method of information retrieval:\n",
    "\n",
    "Authors used an existing dataset provided by the University of Wisconsin Hospitals and donated by Nick Street in November 1995.\n",
    "\n",
    "\n",
    "#### Research ethics:\n",
    "\n",
    "The article was made and published as a part of the International Conference on Artificial Intelligence in Islamabad which is under sponsorship of IEEE. This leads me to believe it is published legally and with a certain level of academic dignity. The research did not include dealing with patients since they used a pre-existing dataset so I believe they caused minimum risk of harm to society. \n",
    "\n",
    "However, the article contains some logical issues in interpreting graphical data (described further in this notebook) so one could argue that the academic dignity of the article is questionable. This is not unusual for an article written at a conference since the time spent on the article is limited. Also, the article could have given more academic credit to the authors of the dataset which wanted certain information to be provided when the dataset is used in research (can be seen at the end of this notebook). "
   ]
  },
  {
   "cell_type": "markdown",
   "id": "dfe9e923",
   "metadata": {
    "id": "dfe9e923"
   },
   "source": [
    "### Descriptive analysis\n",
    "The dataset used is a special dataset called \"Wisconsin Diagnostic Breast Cancer (WDBC)\". It consists of 357 benign and 212 malignant cancer samples, as seen in the barchart below. "
   ]
  },
  {
   "cell_type": "code",
   "execution_count": 3,
   "id": "3bb027f7",
   "metadata": {
    "id": "3bb027f7"
   },
   "outputs": [],
   "source": [
    "from sklearn import datasets\n",
    "\n",
    "data = datasets.load_breast_cancer()"
   ]
  },
  {
   "cell_type": "code",
   "execution_count": 4,
   "id": "f469ece9-6dc6-42d7-9641-8dd2f4eb1d4f",
   "metadata": {
    "colab": {
     "base_uri": "https://localhost:8080/",
     "height": 361
    },
    "id": "f469ece9-6dc6-42d7-9641-8dd2f4eb1d4f",
    "outputId": "95764a28-27e2-4a95-f026-15f17825f4d3"
   },
   "outputs": [
    {
     "output_type": "display_data",
     "data": {
      "image/png": "[encoded data removed]",
      "text/plain": [
       "<Figure size 576x396 with 1 Axes>"
      ]
     },
     "metadata": {}
    }
   ],
   "source": [
    "cnt = np.bincount(data.target)\n",
    "plt.bar(data.target_names[::-1], cnt[::-1], color=['skyblue', 'lightcoral'])\n",
    "plt.xlabel(\"Diagnosis\")\n",
    "plt.ylabel(\"Count\")\n",
    "plt.show()"
   ]
  },
  {
   "cell_type": "markdown",
   "id": "b6fd6e35",
   "metadata": {
    "id": "b6fd6e35"
   },
   "source": [
    "It contains calculated measures such as **mean**, **standard error** and **the worst (largest) value** of 30 different parameters determined by microscopic analysis on the breast tissue. The tissue is collected from a patient through *Fine Needle Aspiration* biopsy procedure. "
   ]
  },
  {
   "cell_type": "code",
   "execution_count": 5,
   "id": "233c4c30-6908-4b33-8291-ec1a7138a2fb",
   "metadata": {
    "colab": {
     "base_uri": "https://localhost:8080/",
     "height": 305
    },
    "id": "233c4c30-6908-4b33-8291-ec1a7138a2fb",
    "outputId": "14e0a948-e836-4289-c678-1c8f3e451bc4"
   },
   "outputs": [
    {
     "output_type": "execute_result",
     "data": {
      "text/html": [
       "\n",
       "  <div id=\"df-5c2f28e9-e040-4778-a783-78508a32e010\">\n",
       "    <div class=\"colab-df-container\">\n",
       "      <div>\n",
       "<style scoped>\n",
       "    .dataframe tbody tr th:only-of-type {\n",
       "        vertical-align: middle;\n",
       "    }\n",
       "\n",
       "    .dataframe tbody tr th {\n",
       "        vertical-align: top;\n",
       "    }\n",
       "\n",
       "    .dataframe thead th {\n",
       "        text-align: right;\n",
       "    }\n",
       "</style>\n",
       "<table border=\"1\" class=\"dataframe\">\n",
       "  <thead>\n",
       "    <tr style=\"text-align: right;\">\n",
       "      <th></th>\n",
       "      <th>mean radius</th>\n",
       "      <th>mean texture</th>\n",
       "      <th>mean perimeter</th>\n",
       "      <th>mean area</th>\n",
       "      <th>mean smoothness</th>\n",
       "      <th>mean compactness</th>\n",
       "      <th>mean concavity</th>\n",
       "      <th>mean concave points</th>\n",
       "      <th>mean symmetry</th>\n",
       "      <th>mean fractal dimension</th>\n",
       "      <th>radius error</th>\n",
       "      <th>texture error</th>\n",
       "      <th>perimeter error</th>\n",
       "      <th>area error</th>\n",
       "      <th>smoothness error</th>\n",
       "      <th>compactness error</th>\n",
       "      <th>concavity error</th>\n",
       "      <th>concave points error</th>\n",
       "      <th>symmetry error</th>\n",
       "      <th>fractal dimension error</th>\n",
       "      <th>worst radius</th>\n",
       "      <th>worst texture</th>\n",
       "      <th>worst perimeter</th>\n",
       "      <th>worst area</th>\n",
       "      <th>worst smoothness</th>\n",
       "      <th>worst compactness</th>\n",
       "      <th>worst concavity</th>\n",
       "      <th>worst concave points</th>\n",
       "      <th>worst symmetry</th>\n",
       "      <th>worst fractal dimension</th>\n",
       "    </tr>\n",
       "  </thead>\n",
       "  <tbody>\n",
       "    <tr>\n",
       "      <th>0</th>\n",
       "      <td>17.99</td>\n",
       "      <td>10.38</td>\n",
       "      <td>122.80</td>\n",
       "      <td>1001.0</td>\n",
       "      <td>0.11840</td>\n",
       "      <td>0.27760</td>\n",
       "      <td>0.3001</td>\n",
       "      <td>0.14710</td>\n",
       "      <td>0.2419</td>\n",
       "      <td>0.07871</td>\n",
       "      <td>1.0950</td>\n",
       "      <td>0.9053</td>\n",
       "      <td>8.589</td>\n",
       "      <td>153.40</td>\n",
       "      <td>0.006399</td>\n",
       "      <td>0.04904</td>\n",
       "      <td>0.05373</td>\n",
       "      <td>0.01587</td>\n",
       "      <td>0.03003</td>\n",
       "      <td>0.006193</td>\n",
       "      <td>25.38</td>\n",
       "      <td>17.33</td>\n",
       "      <td>184.60</td>\n",
       "      <td>2019.0</td>\n",
       "      <td>0.1622</td>\n",
       "      <td>0.6656</td>\n",
       "      <td>0.7119</td>\n",
       "      <td>0.2654</td>\n",
       "      <td>0.4601</td>\n",
       "      <td>0.11890</td>\n",
       "    </tr>\n",
       "    <tr>\n",
       "      <th>1</th>\n",
       "      <td>20.57</td>\n",
       "      <td>17.77</td>\n",
       "      <td>132.90</td>\n",
       "      <td>1326.0</td>\n",
       "      <td>0.08474</td>\n",
       "      <td>0.07864</td>\n",
       "      <td>0.0869</td>\n",
       "      <td>0.07017</td>\n",
       "      <td>0.1812</td>\n",
       "      <td>0.05667</td>\n",
       "      <td>0.5435</td>\n",
       "      <td>0.7339</td>\n",
       "      <td>3.398</td>\n",
       "      <td>74.08</td>\n",
       "      <td>0.005225</td>\n",
       "      <td>0.01308</td>\n",
       "      <td>0.01860</td>\n",
       "      <td>0.01340</td>\n",
       "      <td>0.01389</td>\n",
       "      <td>0.003532</td>\n",
       "      <td>24.99</td>\n",
       "      <td>23.41</td>\n",
       "      <td>158.80</td>\n",
       "      <td>1956.0</td>\n",
       "      <td>0.1238</td>\n",
       "      <td>0.1866</td>\n",
       "      <td>0.2416</td>\n",
       "      <td>0.1860</td>\n",
       "      <td>0.2750</td>\n",
       "      <td>0.08902</td>\n",
       "    </tr>\n",
       "    <tr>\n",
       "      <th>2</th>\n",
       "      <td>19.69</td>\n",
       "      <td>21.25</td>\n",
       "      <td>130.00</td>\n",
       "      <td>1203.0</td>\n",
       "      <td>0.10960</td>\n",
       "      <td>0.15990</td>\n",
       "      <td>0.1974</td>\n",
       "      <td>0.12790</td>\n",
       "      <td>0.2069</td>\n",
       "      <td>0.05999</td>\n",
       "      <td>0.7456</td>\n",
       "      <td>0.7869</td>\n",
       "      <td>4.585</td>\n",
       "      <td>94.03</td>\n",
       "      <td>0.006150</td>\n",
       "      <td>0.04006</td>\n",
       "      <td>0.03832</td>\n",
       "      <td>0.02058</td>\n",
       "      <td>0.02250</td>\n",
       "      <td>0.004571</td>\n",
       "      <td>23.57</td>\n",
       "      <td>25.53</td>\n",
       "      <td>152.50</td>\n",
       "      <td>1709.0</td>\n",
       "      <td>0.1444</td>\n",
       "      <td>0.4245</td>\n",
       "      <td>0.4504</td>\n",
       "      <td>0.2430</td>\n",
       "      <td>0.3613</td>\n",
       "      <td>0.08758</td>\n",
       "    </tr>\n",
       "    <tr>\n",
       "      <th>3</th>\n",
       "      <td>11.42</td>\n",
       "      <td>20.38</td>\n",
       "      <td>77.58</td>\n",
       "      <td>386.1</td>\n",
       "      <td>0.14250</td>\n",
       "      <td>0.28390</td>\n",
       "      <td>0.2414</td>\n",
       "      <td>0.10520</td>\n",
       "      <td>0.2597</td>\n",
       "      <td>0.09744</td>\n",
       "      <td>0.4956</td>\n",
       "      <td>1.1560</td>\n",
       "      <td>3.445</td>\n",
       "      <td>27.23</td>\n",
       "      <td>0.009110</td>\n",
       "      <td>0.07458</td>\n",
       "      <td>0.05661</td>\n",
       "      <td>0.01867</td>\n",
       "      <td>0.05963</td>\n",
       "      <td>0.009208</td>\n",
       "      <td>14.91</td>\n",
       "      <td>26.50</td>\n",
       "      <td>98.87</td>\n",
       "      <td>567.7</td>\n",
       "      <td>0.2098</td>\n",
       "      <td>0.8663</td>\n",
       "      <td>0.6869</td>\n",
       "      <td>0.2575</td>\n",
       "      <td>0.6638</td>\n",
       "      <td>0.17300</td>\n",
       "    </tr>\n",
       "    <tr>\n",
       "      <th>4</th>\n",
       "      <td>20.29</td>\n",
       "      <td>14.34</td>\n",
       "      <td>135.10</td>\n",
       "      <td>1297.0</td>\n",
       "      <td>0.10030</td>\n",
       "      <td>0.13280</td>\n",
       "      <td>0.1980</td>\n",
       "      <td>0.10430</td>\n",
       "      <td>0.1809</td>\n",
       "      <td>0.05883</td>\n",
       "      <td>0.7572</td>\n",
       "      <td>0.7813</td>\n",
       "      <td>5.438</td>\n",
       "      <td>94.44</td>\n",
       "      <td>0.011490</td>\n",
       "      <td>0.02461</td>\n",
       "      <td>0.05688</td>\n",
       "      <td>0.01885</td>\n",
       "      <td>0.01756</td>\n",
       "      <td>0.005115</td>\n",
       "      <td>22.54</td>\n",
       "      <td>16.67</td>\n",
       "      <td>152.20</td>\n",
       "      <td>1575.0</td>\n",
       "      <td>0.1374</td>\n",
       "      <td>0.2050</td>\n",
       "      <td>0.4000</td>\n",
       "      <td>0.1625</td>\n",
       "      <td>0.2364</td>\n",
       "      <td>0.07678</td>\n",
       "    </tr>\n",
       "  </tbody>\n",
       "</table>\n",
       "</div>\n",
       "      <button class=\"colab-df-convert\" onclick=\"convertToInteractive('df-5c2f28e9-e040-4778-a783-78508a32e010')\"\n",
       "              title=\"Convert this dataframe to an interactive table.\"\n",
       "              style=\"display:none;\">\n",
       "        \n",
       "  <svg xmlns=\"http://www.w3.org/2000/svg\" height=\"24px\"viewBox=\"0 0 24 24\"\n",
       "       width=\"24px\">\n",
       "    <path d=\"M0 0h24v24H0V0z\" fill=\"none\"/>\n",
       "    <path d=\"M18.56 5.44l.94 2.06.94-2.06 2.06-.94-2.06-.94-.94-2.06-.94 2.06-2.06.94zm-11 1L8.5 8.5l.94-2.06 2.06-.94-2.06-.94L8.5 2.5l-.94 2.06-2.06.94zm10 10l.94 2.06.94-2.06 2.06-.94-2.06-.94-.94-2.06-.94 2.06-2.06.94z\"/><path d=\"M17.41 7.96l-1.37-1.37c-.4-.4-.92-.59-1.43-.59-.52 0-1.04.2-1.43.59L10.3 9.45l-7.72 7.72c-.78.78-.78 2.05 0 2.83L4 21.41c.39.39.9.59 1.41.59.51 0 1.02-.2 1.41-.59l7.78-7.78 2.81-2.81c.8-.78.8-2.07 0-2.86zM5.41 20L4 18.59l7.72-7.72 1.47 1.35L5.41 20z\"/>\n",
       "  </svg>\n",
       "      </button>\n",
       "      \n",
       "  <style>\n",
       "    .colab-df-container {\n",
       "      display:flex;\n",
       "      flex-wrap:wrap;\n",
       "      gap: 12px;\n",
       "    }\n",
       "\n",
       "    .colab-df-convert {\n",
       "      background-color: #E8F0FE;\n",
       "      border: none;\n",
       "      border-radius: 50%;\n",
       "      cursor: pointer;\n",
       "      display: none;\n",
       "      fill: #1967D2;\n",
       "      height: 32px;\n",
       "      padding: 0 0 0 0;\n",
       "      width: 32px;\n",
       "    }\n",
       "\n",
       "    .colab-df-convert:hover {\n",
       "      background-color: #E2EBFA;\n",
       "      box-shadow: 0px 1px 2px rgba(60, 64, 67, 0.3), 0px 1px 3px 1px rgba(60, 64, 67, 0.15);\n",
       "      fill: #174EA6;\n",
       "    }\n",
       "\n",
       "    [theme=dark] .colab-df-convert {\n",
       "      background-color: #3B4455;\n",
       "      fill: #D2E3FC;\n",
       "    }\n",
       "\n",
       "    [theme=dark] .colab-df-convert:hover {\n",
       "      background-color: #434B5C;\n",
       "      box-shadow: 0px 1px 3px 1px rgba(0, 0, 0, 0.15);\n",
       "      filter: drop-shadow(0px 1px 2px rgba(0, 0, 0, 0.3));\n",
       "      fill: #FFFFFF;\n",
       "    }\n",
       "  </style>\n",
       "\n",
       "      <script>\n",
       "        const buttonEl =\n",
       "          document.querySelector('#df-5c2f28e9-e040-4778-a783-78508a32e010 button.colab-df-convert');\n",
       "        buttonEl.style.display =\n",
       "          google.colab.kernel.accessAllowed ? 'block' : 'none';\n",
       "\n",
       "        async function convertToInteractive(key) {\n",
       "          const element = document.querySelector('#df-5c2f28e9-e040-4778-a783-78508a32e010');\n",
       "          const dataTable =\n",
       "            await google.colab.kernel.invokeFunction('convertToInteractive',\n",
       "                                                     [key], {});\n",
       "          if (!dataTable) return;\n",
       "\n",
       "          const docLinkHtml = 'Like what you see? Visit the ' +\n",
       "            '<a target=\"_blank\" href=https://colab.research.google.com/notebooks/data_table.ipynb>data table notebook</a>'\n",
       "            + ' to learn more about interactive tables.';\n",
       "          element.innerHTML = '';\n",
       "          dataTable['output_type'] = 'display_data';\n",
       "          await google.colab.output.renderOutput(dataTable, element);\n",
       "          const docLink = document.createElement('div');\n",
       "          docLink.innerHTML = docLinkHtml;\n",
       "          element.appendChild(docLink);\n",
       "        }\n",
       "      </script>\n",
       "    </div>\n",
       "  </div>\n",
       "  "
      ],
      "text/plain": [
       "   mean radius  mean texture  ...  worst symmetry  worst fractal dimension\n",
       "0        17.99         10.38  ...          0.4601                  0.11890\n",
       "1        20.57         17.77  ...          0.2750                  0.08902\n",
       "2        19.69         21.25  ...          0.3613                  0.08758\n",
       "3        11.42         20.38  ...          0.6638                  0.17300\n",
       "4        20.29         14.34  ...          0.2364                  0.07678\n",
       "\n",
       "[5 rows x 30 columns]"
      ]
     },
     "metadata": {},
     "execution_count": 5
    }
   ],
   "source": [
    "# original samples\n",
    "X = pd.DataFrame(data.data, columns=data.feature_names)\n",
    "y = data.target\n",
    "\n",
    "X.head()"
   ]
  },
  {
   "cell_type": "markdown",
   "id": "ba964e0b",
   "metadata": {
    "id": "ba964e0b"
   },
   "source": [
    "Below we can see the counterplot of the mean radius. "
   ]
  },
  {
   "cell_type": "code",
   "execution_count": 6,
   "id": "0cd302b5",
   "metadata": {
    "scrolled": true,
    "colab": {
     "base_uri": "https://localhost:8080/",
     "height": 510
    },
    "id": "0cd302b5",
    "outputId": "5c60b640-41bd-451b-8bdf-2a63096a1b83"
   },
   "outputs": [
    {
     "output_type": "display_data",
     "data": {
      "image/png": "[encoded data removed]",
      "text/plain": [
       "<Figure size 1800x576 with 1 Axes>"
      ]
     },
     "metadata": {}
    }
   ],
   "source": [
    "plt.figure(figsize=(25, 8))\n",
    "ax = sns.countplot(x=X['mean radius'])\n",
    "ax.set_xticklabels(ax.get_xticklabels(), rotation=90, ha=\"left\", fontsize=3)\n",
    "plt.title('Automatic counter plot')\n",
    "plt.show()"
   ]
  },
  {
   "cell_type": "markdown",
   "id": "91c7c044",
   "metadata": {
    "id": "91c7c044"
   },
   "source": [
    "As the x-axis values are not recognizable, we have plotted another counterplot:"
   ]
  },
  {
   "cell_type": "code",
   "execution_count": 7,
   "id": "c2c4fbd7",
   "metadata": {
    "colab": {
     "base_uri": "https://localhost:8080/",
     "height": 512
    },
    "id": "c2c4fbd7",
    "outputId": "d465625f-205d-4a07-b992-83cd0c7edf57"
   },
   "outputs": [
    {
     "output_type": "display_data",
     "data": {
      "image/png": "[encoded data removed]",
      "text/plain": [
       "<Figure size 1296x576 with 1 Axes>"
      ]
     },
     "metadata": {}
    }
   ],
   "source": [
    "import matplotlib.colors as mcolors\n",
    "\n",
    "w = collections.Counter(X['mean radius'])\n",
    "\n",
    "clist = [(0, \"red\"), (0.125, \"red\"), (0.25, \"orange\"), (0.5, \"green\"),\n",
    "         (0.7, \"green\"), (0.75, \"blue\"), (1, \"blue\")]\n",
    "rvb = mcolors.LinearSegmentedColormap.from_list(\"\", clist)\n",
    "plt.figure(figsize=(18, 8))\n",
    "xp = np.array(list(w.keys())).astype(float)\n",
    "yp = np.array(list(w.values())).astype(float)\n",
    "plt.bar(xp, yp, color=rvb(20 * xp / len(xp) - 0.3), width=0.1)\n",
    "plt.title('Manual counter plot')\n",
    "plt.xlabel('Mean radius')\n",
    "plt.ylabel('Count')\n",
    "plt.show()"
   ]
  },
  {
   "cell_type": "markdown",
   "id": "01ca06cd",
   "metadata": {
    "id": "01ca06cd"
   },
   "source": [
    "The authors of the scientific paper have determined the following from the counter graph: *it can be observed that suspected patients not bearing cancer have a mean radius of around 1, whereas suspected patients bearing cancer have a \n",
    "mean radius of more than 1*, however I believe  the authors have made a mistake. The graph doesn't show the radius being around 1 for any of the patients. In fact, the smallest radius mean in the dataset is 6.981 and the mean of all radius means is 14.127292 (calculated in the previous section), which is far from 1. \n",
    "\n",
    "The proof of this can also be seen in the histogram below."
   ]
  },
  {
   "cell_type": "code",
   "execution_count": 8,
   "id": "0109646b",
   "metadata": {
    "scrolled": true,
    "colab": {
     "base_uri": "https://localhost:8080/",
     "height": 361
    },
    "id": "0109646b",
    "outputId": "78f0a471-42d3-4554-c8d4-e7049baacb96"
   },
   "outputs": [
    {
     "output_type": "display_data",
     "data": {
      "image/png": "[encoded data removed]",
      "text/plain": [
       "<Figure size 576x396 with 1 Axes>"
      ]
     },
     "metadata": {}
    }
   ],
   "source": [
    "D = pd.DataFrame(X.copy())\n",
    "D.insert(0, 'diagnosis', data.target)\n",
    "\n",
    "D['mean radius'][D['diagnosis'] == 0].hist(color='skyblue', label='0')\n",
    "D['mean radius'][D['diagnosis'] == 1].hist(color='lightcoral', label='1')\n",
    "plt.xlabel('mean radius')\n",
    "plt.ylabel('frequency')\n",
    "plt.legend()\n",
    "plt.show()"
   ]
  },
  {
   "cell_type": "markdown",
   "id": "3afbee2e",
   "metadata": {
    "id": "3afbee2e"
   },
   "source": [
    "### Train-test split"
   ]
  },
  {
   "cell_type": "code",
   "execution_count": 33,
   "id": "4db3b98d",
   "metadata": {
    "id": "4db3b98d"
   },
   "outputs": [],
   "source": [
    "from sklearn.model_selection import train_test_split\n",
    "\n",
    "X_train, X_test, y_train, y_test = train_test_split(X, y, test_size=0.25, random_state=5)\n",
    "\n",
    "D_train = pd.DataFrame(X_train.copy())\n",
    "D_train.insert(0, 'diagnosis', y_train)"
   ]
  },
  {
   "cell_type": "markdown",
   "id": "3f040956",
   "metadata": {
    "id": "3f040956"
   },
   "source": [
    "### Feature selection\n",
    "For feature selecton we will start with comparing all features present in the dataset. Using a heatmap correlations between all the available features is graphicaly shown. The correlation value is in range [0,1] where 1 presents perfect correlation and 0 presents no correlation whatsoever. Correlation value is calculated using the Phi coefficient also known as the Matthews correlation coefficient."
   ]
  },
  {
   "cell_type": "code",
   "execution_count": 34,
   "id": "f36b0629",
   "metadata": {
    "pycharm": {
     "name": "#%%\n"
    },
    "colab": {
     "base_uri": "https://localhost:8080/",
     "height": 1000
    },
    "id": "f36b0629",
    "outputId": "705d2d14-8c15-4620-9504-5237d0a76bbf"
   },
   "outputs": [
    {
     "output_type": "stream",
     "name": "stdout",
     "text": [
      "Requirement already satisfied: phik in /usr/local/lib/python3.7/dist-packages (0.12.0)\n",
      "Requirement already satisfied: pandas>=0.25.1 in /usr/local/lib/python3.7/dist-packages (from phik) (1.1.5)\n",
      "Requirement already satisfied: joblib>=0.14.1 in /usr/local/lib/python3.7/dist-packages (from phik) (1.1.0)\n",
      "Requirement already satisfied: matplotlib>=2.2.3 in /usr/local/lib/python3.7/dist-packages (from phik) (3.2.2)\n",
      "Requirement already satisfied: scipy>=1.5.2 in /usr/local/lib/python3.7/dist-packages (from phik) (1.7.3)\n",
      "Requirement already satisfied: numpy>=1.18.0 in /usr/local/lib/python3.7/dist-packages (from phik) (1.19.5)\n",
      "Requirement already satisfied: pyparsing!=2.0.4,!=2.1.2,!=2.1.6,>=2.0.1 in /usr/local/lib/python3.7/dist-packages (from matplotlib>=2.2.3->phik) (3.0.6)\n",
      "Requirement already satisfied: cycler>=0.10 in /usr/local/lib/python3.7/dist-packages (from matplotlib>=2.2.3->phik) (0.11.0)\n",
      "Requirement already satisfied: kiwisolver>=1.0.1 in /usr/local/lib/python3.7/dist-packages (from matplotlib>=2.2.3->phik) (1.3.2)\n",
      "Requirement already satisfied: python-dateutil>=2.1 in /usr/local/lib/python3.7/dist-packages (from matplotlib>=2.2.3->phik) (2.8.2)\n",
      "Requirement already satisfied: pytz>=2017.2 in /usr/local/lib/python3.7/dist-packages (from pandas>=0.25.1->phik) (2018.9)\n",
      "Requirement already satisfied: six>=1.5 in /usr/local/lib/python3.7/dist-packages (from python-dateutil>=2.1->matplotlib>=2.2.3->phik) (1.15.0)\n"
     ]
    },
    {
     "output_type": "display_data",
     "data": {
      "image/png": "[encoded data removed]",
      "text/plain": [
       "<Figure size 1080x936 with 2 Axes>"
      ]
     },
     "metadata": {}
    }
   ],
   "source": [
    "!pip install phik\n",
    "import phik\n",
    "\n",
    "D_train = pd.DataFrame(X_train.copy())\n",
    "D_train.insert(0, 'diagnosis', y_train)\n",
    "\n",
    "#cor_matrix = D_train.corr()\n",
    "cor_matrix_with_target = D_train.phik_matrix(interval_cols=D_train.columns)\n",
    "cor_matrix_without_target = X_train.phik_matrix(interval_cols=X_train.columns)\n",
    "\n",
    "plt.figure(figsize=(15, 13))\n",
    "sns.heatmap(cor_matrix_with_target, cmap=\"vlag\", linewidths=.5)  #, mask=np.triu(D_train_mean.corr()))\n",
    "plt.title(\"Heatmap of correlation between features and diagnosis\")\n",
    "plt.show()"
   ]
  },
  {
   "cell_type": "markdown",
   "id": "02c56184",
   "metadata": {
    "id": "02c56184"
   },
   "source": [
    "From the heatmap we can note that there are many features that are higly correlated each other. Those features can negativly impact out ML models, so we need to remove them from the dataset before we start training our models. We will do so using the correlation matrix and searching for pairs with a correlation of grater then 0.9. From each of those pairs one feature can be removed. Features marked as redundant by correlation with others are printed below."
   ]
  },
  {
   "cell_type": "code",
   "execution_count": 35,
   "id": "92907f13",
   "metadata": {
    "pycharm": {
     "name": "#%%\n"
    },
    "colab": {
     "base_uri": "https://localhost:8080/"
    },
    "id": "92907f13",
    "outputId": "27a14e24-dc58-4d46-da53-71bbbbbc4583"
   },
   "outputs": [
    {
     "output_type": "stream",
     "name": "stdout",
     "text": [
      "['mean perimeter', 'mean area', 'mean concavity', 'mean concave points', 'perimeter error', 'area error', 'worst radius', 'worst texture', 'worst perimeter', 'worst area', 'worst concavity']\n"
     ]
    }
   ],
   "source": [
    "upper_tri = cor_matrix_without_target.abs().where(\n",
    "    np.triu(np.ones(cor_matrix_without_target.shape), k=1).astype(np.bool_))\n",
    "to_drop = [column for column in upper_tri.columns if any(upper_tri[column] > 0.9)]\n",
    "\n",
    "print(list(to_drop))"
   ]
  },
  {
   "cell_type": "code",
   "execution_count": 36,
   "id": "49ad2052",
   "metadata": {
    "pycharm": {
     "name": "#%%\n"
    },
    "colab": {
     "base_uri": "https://localhost:8080/"
    },
    "id": "49ad2052",
    "outputId": "92266922-7030-4022-f193-147a8eddb475"
   },
   "outputs": [
    {
     "output_type": "execute_result",
     "data": {
      "text/plain": [
       "(426, 19)"
      ]
     },
     "metadata": {},
     "execution_count": 36
    }
   ],
   "source": [
    "X_train = X_train.drop(list(to_drop), axis=1)\n",
    "X_test = X_test.drop(list(to_drop), axis=1)\n",
    "D_train = D_train.drop(list(to_drop), axis=1)\n",
    "\n",
    "X_train.shape"
   ]
  },
  {
   "cell_type": "markdown",
   "source": [
    "Next we will compare the correlation of the remaining features with the target feature. For this comparison the pi coeffitient is used once again. From the barplot we can note what the most interesting features for us to train our models could be.\n"
   ],
   "metadata": {
    "collapsed": false
   }
  },
  {
   "cell_type": "code",
   "execution_count": 37,
   "id": "208a4313",
   "metadata": {
    "colab": {
     "base_uri": "https://localhost:8080/",
     "height": 485
    },
    "id": "208a4313",
    "outputId": "6986f988-797d-4777-85b9-199bba14ec92"
   },
   "outputs": [
    {
     "output_type": "display_data",
     "data": {
      "text/plain": [
       "<Figure size 720x360 with 0 Axes>"
      ]
     },
     "metadata": {}
    },
    {
     "output_type": "display_data",
     "data": {
      "image/png": "[encoded data removed]",
      "text/plain": [
       "<Figure size 720x432 with 1 Axes>"
      ]
     },
     "metadata": {}
    }
   ],
   "source": [
    "plt.figure(figsize=(10, 5))\n",
    "\n",
    "corr_with_target = D_train.phik_matrix(interval_cols=X_train.columns)['diagnosis'].drop(labels=['diagnosis'])\n",
    "\n",
    "plt.figure(figsize=(10, 6))\n",
    "sns.barplot(x=corr_with_target.index, y=corr_with_target.values)\n",
    "plt.xticks(rotation=90)\n",
    "plt.show()"
   ]
  },
  {
   "cell_type": "markdown",
   "id": "a8bdea96",
   "metadata": {
    "id": "a8bdea96"
   },
   "source": [
    "Now we will use a Feature selection method to select a subset of the remaining features in the dataset. We only to select some features that can impact our models the positivly and drop the rest as that will yield the best results.\n",
    "\n",
    "The method for Feature Selection used is SequentialFeatureSelector. It is a greedy algorithm that selects the best subset of features by going forward based on a cross validation score of an estimator. It starts with zero features and then finds a feature that maximizes the cross-validated score on the selected feature. Then the process is repeated by adding another feature until the point that the desired number is reached. The logistic regression algorithm is used as an estimator for this feature selection method."
   ]
  },
  {
   "cell_type": "code",
   "execution_count": 39,
   "id": "4e71b09a",
   "metadata": {
    "pycharm": {
     "name": "#%%\n"
    },
    "colab": {
     "base_uri": "https://localhost:8080/"
    },
    "id": "4e71b09a",
    "outputId": "09cae319-cf17-4bcf-e0c5-577b5c658c31"
   },
   "outputs": [
    {
     "output_type": "stream",
     "name": "stdout",
     "text": [
      "Best features are: ['mean radius', 'mean texture', 'mean fractal dimension', 'radius error', 'smoothness error', 'compactness error', 'worst compactness']\n"
     ]
    }
   ],
   "source": [
    "from sklearn.feature_selection import SequentialFeatureSelector\n",
    "from sklearn.linear_model import LogisticRegression\n",
    "\n",
    "X_best = SequentialFeatureSelector(estimator=LogisticRegression(max_iter=500), n_features_to_select=7, cv=10,\n",
    "                                   direction='forward', n_jobs=4).fit(X_train, y_train)\n",
    "mask = X_best.get_support()\n",
    "best_features = []\n",
    "for curr_bool, feature in zip(mask, X_train.columns):\n",
    "    if curr_bool:\n",
    "        best_features.append(feature)\n",
    "\n",
    "print(f\"Best features are: {best_features}\")"
   ]
  },
  {
   "cell_type": "code",
   "execution_count": 40,
   "id": "5b305f94",
   "metadata": {
    "pycharm": {
     "name": "#%%\n"
    },
    "colab": {
     "base_uri": "https://localhost:8080/"
    },
    "id": "5b305f94",
    "outputId": "a7da1102-abc5-44ae-d9dd-2c76282298b3"
   },
   "outputs": [
    {
     "output_type": "execute_result",
     "data": {
      "text/plain": [
       "(426, 7)"
      ]
     },
     "metadata": {},
     "execution_count": 40
    }
   ],
   "source": [
    "X_train = X_train[X_train.columns[X_best.get_support(indices=True)]]\n",
    "X_test = X_test[X_test.columns[X_best.get_support(indices=True)]]\n",
    "\n",
    "X_train.shape"
   ]
  },
  {
   "cell_type": "markdown",
   "id": "d9338451",
   "metadata": {
    "id": "d9338451"
   },
   "source": [
    "--- \n",
    "\n",
    "### Training and testing\n",
    "\n",
    "Some algorithms perform better when the data is scaled so that is what I did here. Article authors mention using scaling as well."
   ]
  },
  {
   "cell_type": "code",
   "execution_count": 41,
   "id": "ac0a97d3",
   "metadata": {
    "id": "ac0a97d3"
   },
   "outputs": [],
   "source": [
    "from sklearn.preprocessing import StandardScaler\n",
    "\n",
    "sclr = StandardScaler()\n",
    "X_train_s = sclr.fit_transform(X_train)\n",
    "X_test_s = sclr.fit_transform(X_test)"
   ]
  },
  {
   "cell_type": "code",
   "execution_count": 42,
   "id": "c9b70e08",
   "metadata": {
    "id": "c9b70e08"
   },
   "outputs": [],
   "source": [
    "from sklearn.metrics import confusion_matrix\n",
    "from sklearn.metrics import f1_score\n",
    "from sklearn.metrics import roc_auc_score\n",
    "from sklearn.metrics import recall_score\n",
    "from sklearn.model_selection import GridSearchCV\n",
    "\n",
    "results = pd.DataFrame(\n",
    "    columns=['Algorithms', 'Training Accuracy', 'Testing Accuracy', 'Testing Recall', 'Testing F1 Score',\n",
    "             'Testing AUC'])\n",
    "\n",
    "\n",
    "def test_model(model, model_label, X_train, y_train, X_test, y_test, mod=None, print_bool=True):\n",
    "    if mod is not None:\n",
    "        predicted_train = model.predict(mod.fit_transform(X_train))\n",
    "        predicted_test = model.predict(mod.fit_transform(X_test))\n",
    "    else:\n",
    "        predicted_train = model.predict(X_train)\n",
    "        predicted_test = model.predict(X_test)\n",
    "\n",
    "    train_accuracy = accuracy_score(y_train, predicted_train)\n",
    "    test_accuracy = accuracy_score(y_test, predicted_test)\n",
    "    test_recall = recall_score(y_test, predicted_test)\n",
    "    test_f1_score = f1_score(y_test, predicted_test)\n",
    "    test_auc = roc_auc_score(y_test, predicted_test)\n",
    "\n",
    "    if print_bool:\n",
    "        print(f'Algorithm: {model_label}')\n",
    "        print(f'Training accuracy: {train_accuracy}\\nTesting accuracy: {test_accuracy}')\n",
    "        print(f'Test recall: {test_recall}\\nTesting F1 Score: {test_f1_score}\\nTesting AUC: {test_auc}\\n')\n",
    "\n",
    "    return {'Algorithms': model_label, 'Training Accuracy': train_accuracy,\n",
    "            'Testing Accuracy': test_accuracy,\n",
    "            'Testing Recall': test_recall,\n",
    "            'Testing F1 Score': test_f1_score,\n",
    "            'Testing AUC': test_auc}\n",
    "\n",
    "\n",
    "def draw_confusion_matrix(model, graph_label, X_dataset, y_dataset, mod=None):\n",
    "    if mod is None:\n",
    "        y_generated = model.predict(X_dataset)\n",
    "    else:\n",
    "        y_generated = model.predict(mod.fit_transform(X_dataset))\n",
    "\n",
    "    cf_matrix = confusion_matrix(y_dataset, y_generated)\n",
    "\n",
    "    cbar_kws = {\n",
    "        \"ticks\": np.array([15, 30, 45, 60, 75]),\n",
    "    }\n",
    "\n",
    "    sns.heatmap(cf_matrix, annot=True, cmap='Blues', linewidths=5, cbar_kws=cbar_kws)\n",
    "    plt.title(graph_label)\n",
    "\n",
    "\n",
    "def grid_search(model, hyperparams, X_dataset, y_dataset, mod=None, metric='f1', print_bool=True):\n",
    "    search = GridSearchCV(model, hyperparams, scoring=metric, n_jobs=-1, verbose=0)\n",
    "\n",
    "    if mod is not None:\n",
    "        result = search.fit(mod.fit_transform(X_dataset), y_dataset)\n",
    "    else:\n",
    "        result = search.fit(X_dataset, y_dataset)\n",
    "\n",
    "    if print_bool:\n",
    "        print('Best hyperparameters: ' + str(result.best_params_))\n",
    "    return result.best_estimator_"
   ]
  },
  {
   "cell_type": "markdown",
   "id": "d613775a",
   "metadata": {
    "id": "d613775a"
   },
   "source": [
    "#### Logistic regression\n"
   ]
  },
  {
   "cell_type": "code",
   "execution_count": 43,
   "id": "89dded8e",
   "metadata": {
    "colab": {
     "base_uri": "https://localhost:8080/"
    },
    "id": "89dded8e",
    "outputId": "2ec051b1-558e-4ffe-afa8-d3612f8a6f32"
   },
   "outputs": [
    {
     "output_type": "stream",
     "name": "stdout",
     "text": [
      "Best hyperparameters: {'C': 1, 'penalty': 'l2', 'solver': 'liblinear'}\n",
      "Training accuracy: 0.960093896713615\n",
      "Testing accuracy: 0.972027972027972\n",
      "Test recall: 1.0\n",
      "Testing F1 Score: 0.9777777777777777\n",
      "Testing AUC: 0.9636363636363636\n",
      "\n"
     ]
    }
   ],
   "source": [
    "from sklearn.metrics import accuracy_score\n",
    "from sklearn.linear_model import LogisticRegression\n",
    "import warnings\n",
    "\n",
    "\n",
    "def grid_search_LogisticRegression(X_train, y_train, X_test, y_test, results, print_bool=True):\n",
    "    hyperparams = {\n",
    "        'solver': ['liblinear', 'newton-cg', 'lbfgs'],\n",
    "        'penalty': ['none', 'l1', 'l2', 'elasticnet'],\n",
    "        'C': [0.1, 1, 10, 100],\n",
    "    }\n",
    "\n",
    "    with warnings.catch_warnings(record=True):\n",
    "        clf_lr = grid_search(LogisticRegression(), hyperparams, X_train, y_train, sclr, print_bool=print_bool)\n",
    "\n",
    "    results = results.append(\n",
    "        test_model(clf_lr, 'Logistic regression', X_train, y_train, X_test, y_test, sclr, print_bool=print_bool),\n",
    "        ignore_index=True)\n",
    "\n",
    "    return clf_lr, results\n",
    "\n",
    "\n",
    "clf_lr, results = grid_search_LogisticRegression(X_train, y_train, X_test, y_test, results)"
   ]
  },
  {
   "cell_type": "markdown",
   "id": "3aa2e9ce",
   "metadata": {
    "id": "3aa2e9ce"
   },
   "source": [
    "#### Support Vector Machine"
   ]
  },
  {
   "cell_type": "code",
   "execution_count": 44,
   "id": "abb6695e",
   "metadata": {
    "colab": {
     "base_uri": "https://localhost:8080/"
    },
    "id": "abb6695e",
    "outputId": "adf39be0-5d6d-49ae-b327-a131661a159f"
   },
   "outputs": [
    {
     "output_type": "stream",
     "name": "stdout",
     "text": [
      "Best hyperparameters: {'C': 10, 'gamma': 0.01, 'kernel': 'rbf'}\n",
      "Training accuracy: 0.9647887323943662\n",
      "Testing accuracy: 0.965034965034965\n",
      "Test recall: 1.0\n",
      "Testing F1 Score: 0.9723756906077349\n",
      "Testing AUC: 0.9545454545454545\n",
      "\n"
     ]
    }
   ],
   "source": [
    "from sklearn.svm import SVC\n",
    "\n",
    "\n",
    "def grid_search_SVM(X_train, y_train, X_test, y_test, results, print_bool=True):\n",
    "    hyperparams = {\n",
    "        'kernel': ['linear', 'poly', 'rbf'],\n",
    "        'gamma': [1, 0.1, 0.01, 0.001],\n",
    "        'C': [0.1, 1, 10, 100],\n",
    "    }\n",
    "\n",
    "    clf_svm = grid_search(SVC(), hyperparams, X_train, y_train, sclr, print_bool=print_bool)\n",
    "\n",
    "    results = results.append(\n",
    "        test_model(clf_svm, 'Support Vector Machine', X_train, y_train, X_test, y_test, sclr, print_bool=print_bool),\n",
    "        ignore_index=True)\n",
    "\n",
    "    return clf_svm, results\n",
    "\n",
    "\n",
    "clf_svm, results = grid_search_SVM(X_train, y_train, X_test, y_test, results)"
   ]
  },
  {
   "cell_type": "markdown",
   "id": "1c2a63e5",
   "metadata": {
    "id": "1c2a63e5"
   },
   "source": [
    "#### K-Nearest Neighbour"
   ]
  },
  {
   "cell_type": "code",
   "execution_count": 45,
   "id": "df2f037f",
   "metadata": {
    "colab": {
     "base_uri": "https://localhost:8080/"
    },
    "id": "df2f037f",
    "outputId": "28a58ab4-a21f-4378-b4c4-1ec2c3e9afd5"
   },
   "outputs": [
    {
     "output_type": "stream",
     "name": "stdout",
     "text": [
      "Best hyperparameters: {'metric': 'manhattan', 'n_neighbors': 6, 'weights': 'distance'}\n",
      "Training accuracy: 1.0\n",
      "Testing accuracy: 0.951048951048951\n",
      "Test recall: 1.0\n",
      "Testing F1 Score: 0.9617486338797814\n",
      "Testing AUC: 0.9363636363636364\n",
      "\n"
     ]
    }
   ],
   "source": [
    "from sklearn.neighbors import KNeighborsClassifier\n",
    "\n",
    "\n",
    "def grid_search_kNN(X_train, y_train, X_test, y_test, results, print_bool=True):\n",
    "    hyperparams = {\n",
    "        'n_neighbors': list(range(1, 15)),\n",
    "        'weights': ['uniform', 'distance'],\n",
    "        'metric': ['minkowski', 'euclidean', 'manhattan']\n",
    "    }\n",
    "\n",
    "    clf_knn = grid_search(KNeighborsClassifier(), hyperparams, X_train, y_train, sclr, print_bool=print_bool)\n",
    "\n",
    "    results = results.append(test_model(clf_knn, 'KNN', X_train, y_train, X_test, y_test, sclr, print_bool=print_bool),\n",
    "                             ignore_index=True)\n",
    "\n",
    "    return clf_knn, results\n",
    "\n",
    "\n",
    "clf_knn, results = grid_search_kNN(X_train, y_train, X_test, y_test, results)"
   ]
  },
  {
   "cell_type": "markdown",
   "id": "2fd506af",
   "metadata": {
    "id": "2fd506af"
   },
   "source": [
    "#### Decision Tree"
   ]
  },
  {
   "cell_type": "code",
   "execution_count": 46,
   "id": "b5880f19",
   "metadata": {
    "colab": {
     "base_uri": "https://localhost:8080/"
    },
    "id": "b5880f19",
    "outputId": "2fe98e4a-7269-4d09-cba8-7137759aec5b"
   },
   "outputs": [
    {
     "output_type": "stream",
     "name": "stdout",
     "text": [
      "Best hyperparameters: {'ccp_alpha': 0.01, 'criterion': 'entropy', 'max_depth': 5, 'max_features': 'auto'}\n",
      "Training accuracy: 0.9436619718309859\n",
      "Testing accuracy: 0.951048951048951\n",
      "Test recall: 0.9886363636363636\n",
      "Testing F1 Score: 0.9613259668508287\n",
      "Testing AUC: 0.9397727272727273\n",
      "\n"
     ]
    }
   ],
   "source": [
    "from sklearn.tree import DecisionTreeClassifier\n",
    "\n",
    "\n",
    "#from sklearn import tree\n",
    "\n",
    "def grid_search_DecisionTree(X_train, y_train, X_test, y_test, results, seed, print_bool=True):\n",
    "    hyperparams = {\n",
    "        'ccp_alpha': [0.1, 0.01, 0.001, 0.0001, 0],\n",
    "        'criterion': ['gini', 'entropy'],\n",
    "        'max_depth': [5, 6, 7, 8, 9, 10, None],\n",
    "        'max_features': ['auto', 'sqrt', 'log2']\n",
    "    }\n",
    "\n",
    "    clf_dt = grid_search(DecisionTreeClassifier(random_state=seed), hyperparams, X_train, y_train,\n",
    "                         print_bool=print_bool)\n",
    "\n",
    "    #plt.figure(figsize = (10,7))\n",
    "    #tree.plot_tree(clf_dt)\n",
    "\n",
    "    results = results.append(\n",
    "        test_model(clf_dt, 'Decision Tree', X_train, y_train, X_test, y_test, print_bool=print_bool), ignore_index=True)\n",
    "\n",
    "    return clf_dt, results\n",
    "\n",
    "\n",
    "clf_dt, results = grid_search_DecisionTree(X_train, y_train, X_test, y_test, results, seed=5)"
   ]
  },
  {
   "cell_type": "markdown",
   "id": "5a6167ad",
   "metadata": {
    "id": "5a6167ad"
   },
   "source": [
    "#### Naive Bayes"
   ]
  },
  {
   "cell_type": "code",
   "execution_count": 47,
   "id": "2a9bb202",
   "metadata": {
    "colab": {
     "base_uri": "https://localhost:8080/"
    },
    "id": "2a9bb202",
    "outputId": "1ca1a856-7645-4446-f7c6-04da5c9a2023"
   },
   "outputs": [
    {
     "output_type": "stream",
     "name": "stdout",
     "text": [
      "Training accuracy: 0.8896713615023474\n",
      "Testing accuracy: 0.916083916083916\n",
      "Test recall: 0.9090909090909091\n",
      "Testing F1 Score: 0.9302325581395349\n",
      "Testing AUC: 0.9181818181818182\n",
      "\n"
     ]
    }
   ],
   "source": [
    "from sklearn.naive_bayes import GaussianNB\n",
    "\n",
    "\n",
    "def grid_search_NaiveBayes(X_train, y_train, X_test, y_test, results, print_bool=True):\n",
    "    clf_nb = GaussianNB()\n",
    "    clf_nb.fit(X_train, y_train)\n",
    "\n",
    "    results = results.append(test_model(clf_nb, 'Naive Bayes', X_train, y_train, X_test, y_test, print_bool=print_bool),\n",
    "                             ignore_index=True)\n",
    "\n",
    "    return clf_nb, results\n",
    "\n",
    "\n",
    "clf_nb, results = grid_search_NaiveBayes(X_train, y_train, X_test, y_test, results)"
   ]
  },
  {
   "cell_type": "markdown",
   "id": "ab61cf7c",
   "metadata": {
    "id": "ab61cf7c"
   },
   "source": [
    "#### Random Forest"
   ]
  },
  {
   "cell_type": "code",
   "execution_count": 48,
   "id": "5a871a3c",
   "metadata": {
    "colab": {
     "base_uri": "https://localhost:8080/"
    },
    "id": "5a871a3c",
    "outputId": "ff0dde0a-e128-46f9-c159-1afe8c986e24"
   },
   "outputs": [
    {
     "output_type": "stream",
     "name": "stdout",
     "text": [
      "Best hyperparameters: {'criterion': 'gini', 'max_depth': 6, 'max_features': 'auto', 'min_samples_split': 6, 'n_estimators': 50}\n",
      "Training accuracy: 0.9882629107981221\n",
      "Testing accuracy: 0.965034965034965\n",
      "Test recall: 0.9886363636363636\n",
      "Testing F1 Score: 0.9720670391061453\n",
      "Testing AUC: 0.9579545454545455\n",
      "\n"
     ]
    }
   ],
   "source": [
    "from sklearn.ensemble import RandomForestClassifier\n",
    "\n",
    "\n",
    "def grid_search_RandomForest(X_train, y_train, X_test, y_test, results, seed, print_bool=True):\n",
    "    hyperparams = {\n",
    "        'n_estimators': [50, 200, 500],\n",
    "        'max_features': ['auto', 'sqrt', 'log2'],\n",
    "        'max_depth': [4, 6, 8, None],\n",
    "        'criterion': ['gini', 'entropy'],\n",
    "        'min_samples_split': [2, 4, 6]\n",
    "    }\n",
    "\n",
    "    clf_rf = grid_search(RandomForestClassifier(random_state=seed), hyperparams, X_train, y_train,\n",
    "                         print_bool=print_bool)\n",
    "\n",
    "    results = results.append(\n",
    "        test_model(clf_rf, 'Random Forest', X_train, y_train, X_test, y_test, print_bool=print_bool), ignore_index=True)\n",
    "\n",
    "    return clf_rf, results\n",
    "\n",
    "\n",
    "clf_rf, results = grid_search_RandomForest(X_train, y_train, X_test, y_test, results, seed=5)"
   ]
  },
  {
   "cell_type": "markdown",
   "id": "05d62ff4",
   "metadata": {
    "id": "05d62ff4"
   },
   "source": [
    "#### XGBoost"
   ]
  },
  {
   "cell_type": "code",
   "execution_count": 49,
   "id": "9c4e7246",
   "metadata": {
    "colab": {
     "base_uri": "https://localhost:8080/"
    },
    "id": "9c4e7246",
    "outputId": "57effb78-ea7d-44c7-a6e4-b07d0bc1f7aa"
   },
   "outputs": [
    {
     "output_type": "stream",
     "name": "stdout",
     "text": [
      "Best hyperparameters: {'colsample_bytree': 0.9, 'eval_metric': 'logloss', 'learning_rate': 0.1, 'max_depth': 3, 'min_child_weight': 1, 'n_estimators': 100, 'subsample': 0.7}\n",
      "Training accuracy: 1.0\n",
      "Testing accuracy: 0.958041958041958\n",
      "Test recall: 0.9772727272727273\n",
      "Testing F1 Score: 0.9662921348314608\n",
      "Testing AUC: 0.9522727272727273\n",
      "\n"
     ]
    }
   ],
   "source": [
    "import xgboost as xgb\n",
    "\n",
    "\n",
    "def grid_search_XGBoost(X_train, y_train, X_test, y_test, results, print_bool=True):\n",
    "    hyperparams = {\n",
    "        'learning_rate': [0.01, 0.1],\n",
    "        'max_depth': [3, 5, 7, 10],\n",
    "        'min_child_weight': [1, 3, 5],\n",
    "        'subsample': [0.5, 0.7, 0.9],\n",
    "        'colsample_bytree': [0.5, 0.7, 0.9],\n",
    "        'n_estimators': [100, 200, 500],\n",
    "        'eval_metric': ['logloss']\n",
    "    }\n",
    "\n",
    "    clf_xgb = grid_search(xgb.XGBClassifier(use_label_encoder=False), hyperparams, X_train, y_train,\n",
    "                          print_bool=print_bool)\n",
    "\n",
    "    results = results.append(test_model(clf_xgb, 'XGB', X_train, y_train, X_test, y_test, print_bool=print_bool),\n",
    "                             ignore_index=True)\n",
    "\n",
    "    return clf_xgb, results\n",
    "\n",
    "\n",
    "clf_xgb, results = grid_search_XGBoost(X_train, y_train, X_test, y_test, results)"
   ]
  },
  {
   "cell_type": "markdown",
   "source": [
    "#### Multilayer perceptron"
   ],
   "metadata": {
    "id": "btDjSvEgtARi"
   },
   "id": "btDjSvEgtARi"
  },
  {
   "cell_type": "code",
   "source": [
    "import tensorflow as tf\n",
    "from tensorflow.keras.models import Sequential\n",
    "from tensorflow.keras.layers import Activation\n",
    "from tensorflow.keras.layers import Dropout\n",
    "from tensorflow.keras.layers import Dense\n",
    "from tensorflow.keras import backend as K\n",
    "from tensorflow.keras.optimizers import Adagrad\n",
    "import numpy as np\n",
    "import sklearn\n",
    "\n",
    "\n",
    "def MLP(X_train, y_train, X_test, y_test, results, print_bool=True):\n",
    "    model = tf.keras.Sequential()\n",
    "\n",
    "    #input\n",
    "    model.add(tf.keras.layers.Dense(64, input_shape=(X_train.shape[1],)))\n",
    "    model.add(Activation(\"relu\"))\n",
    "\n",
    "    #hidden\n",
    "    model.add(tf.keras.layers.Dense(32))\n",
    "    model.add(Activation(\"relu\"))\n",
    "    model.add(tf.keras.layers.Dense(32))\n",
    "    model.add(Activation(\"relu\"))\n",
    "\n",
    "    #output\n",
    "    model.add(tf.keras.layers.Dense(1, activation='sigmoid'))\n",
    "\n",
    "    INIT_LR = 0.5\n",
    "    NUM_EPOCHS = 1000\n",
    "    BS = 128\n",
    "    opt = Adagrad(learning_rate=INIT_LR, decay=INIT_LR / NUM_EPOCHS)\n",
    "    model.compile(loss=\"binary_crossentropy\", optimizer=\"adam\",\n",
    "                  metrics=[\"accuracy\"])\n",
    "\n",
    "    H = model.fit(\n",
    "        x=X_train,\n",
    "        y=y_train,\n",
    "        batch_size=BS,\n",
    "        #steps_per_epoch=X_train.shape[0] // BS,\n",
    "        epochs=NUM_EPOCHS,\n",
    "        verbose=0)\n",
    "\n",
    "    predicted_train = np.multiply(model.predict(X_train) > 0.5, 1).flatten()\n",
    "    predicted_test = np.multiply(model.predict(X_test) > 0.5, 1).flatten()\n",
    "\n",
    "    train_accuracy = accuracy_score(y_train, predicted_train)\n",
    "    test_accuracy = accuracy_score(y_test, predicted_test)\n",
    "    test_recall = recall_score(y_test, predicted_test)\n",
    "    test_f1_score = f1_score(y_test, predicted_test)\n",
    "    test_auc = roc_auc_score(y_test, predicted_test)\n",
    "\n",
    "    if print_bool:\n",
    "        print('Algorithm: Multilayer perceptron')\n",
    "        print(f'Training accuracy: {train_accuracy}\\nTesting accuracy: {test_accuracy}')\n",
    "        print(f'Test recall: {test_recall}\\nTesting F1 Score: {test_f1_score}\\nTesting AUC: {test_auc}\\n')\n",
    "\n",
    "    results = results.append({'Algorithms': \"Multilayer Perceptron\", 'Training Accuracy': train_accuracy,\n",
    "                              'Testing Accuracy': test_accuracy,\n",
    "                              'Testing Recall': test_recall,\n",
    "                              'Testing F1 Score': test_f1_score,\n",
    "                              'Testing AUC': test_auc}, ignore_index=True)\n",
    "\n",
    "    return model, results\n",
    "\n",
    "\n",
    "clf_mlp, results = MLP(X_train, y_train, X_test, y_test, results)"
   ],
   "metadata": {
    "colab": {
     "base_uri": "https://localhost:8080/"
    },
    "id": "mYNXVjRIs_lX",
    "outputId": "c03a263d-798b-4d4f-d4e6-051312340a77"
   },
   "execution_count": 50,
   "outputs": [
    {
     "output_type": "stream",
     "name": "stdout",
     "text": [
      "Training accuracy: 0.9553990610328639\n",
      "Testing accuracy: 0.965034965034965\n",
      "Test recall: 0.9886363636363636\n",
      "Testing F1 Score: 0.9720670391061453\n",
      "Testing AUC: 0.9579545454545455\n",
      "\n"
     ]
    }
   ],
   "id": "mYNXVjRIs_lX"
  },
  {
   "cell_type": "markdown",
   "source": [
    "#### ExtraTreesClassifier\n"
   ],
   "metadata": {
    "id": "BUwp98WVlJT9"
   },
   "id": "BUwp98WVlJT9"
  },
  {
   "cell_type": "code",
   "source": [
    "from sklearn.ensemble import ExtraTreesClassifier\n",
    "\n",
    "\n",
    "def grid_search_ExtraTrees(X_train, y_train, X_test, y_test, results, seed, print_bool=True):\n",
    "    hyperparams = {\n",
    "        'n_estimators': [50, 200, 500],\n",
    "        'max_features': ['auto', 'sqrt', 'log2'],\n",
    "        'max_depth': [4, 6, 8, None],\n",
    "        'criterion': ['gini', 'entropy'],\n",
    "        'min_samples_split': [2, 4, 6]\n",
    "    }\n",
    "\n",
    "    clf_etc = grid_search(ExtraTreesClassifier(random_state=seed), hyperparams, X_train, y_train, print_bool=print_bool)\n",
    "\n",
    "    #clf_etc = ExtraTreesClassifier(n_estimators=100, random_state=5)\n",
    "    #clf_etc.fit(X_train, y_train)\n",
    "\n",
    "    results = results.append(\n",
    "        test_model(clf_etc, 'Extra Trees', X_train, y_train, X_test, y_test, print_bool=print_bool),\n",
    "        ignore_index=True)\n",
    "\n",
    "    return clf_etc, results\n",
    "\n",
    "\n",
    "clf_etc, results = grid_search_ExtraTrees(X_train, y_train, X_test, y_test, results, seed=5)"
   ],
   "metadata": {
    "colab": {
     "base_uri": "https://localhost:8080/"
    },
    "id": "2wn8cuoIlNqx",
    "outputId": "c609a792-e204-4ff2-8b07-d909dcd79190"
   },
   "execution_count": 51,
   "outputs": [
    {
     "output_type": "stream",
     "name": "stdout",
     "text": [
      "Best hyperparameters: {'criterion': 'entropy', 'max_depth': None, 'max_features': 'auto', 'min_samples_split': 4, 'n_estimators': 200}\n",
      "Training accuracy: 1.0\n",
      "Testing accuracy: 0.965034965034965\n",
      "Test recall: 0.9886363636363636\n",
      "Testing F1 Score: 0.9720670391061453\n",
      "Testing AUC: 0.9579545454545455\n",
      "\n"
     ]
    }
   ],
   "id": "2wn8cuoIlNqx"
  },
  {
   "cell_type": "markdown",
   "id": "e4a13b31",
   "metadata": {
    "id": "e4a13b31"
   },
   "source": [
    "---\n",
    "\n",
    "### Conclusion"
   ]
  },
  {
   "cell_type": "code",
   "execution_count": 52,
   "id": "a834f9c4",
   "metadata": {
    "colab": {
     "base_uri": "https://localhost:8080/",
     "height": 332
    },
    "id": "a834f9c4",
    "outputId": "02503cda-9314-4268-a794-78bac5afdc6a"
   },
   "outputs": [
    {
     "output_type": "execute_result",
     "data": {
      "text/html": [
       "\n",
       "  <div id=\"df-3ad2d4ad-7f0b-4047-ab36-5acfe2196421\">\n",
       "    <div class=\"colab-df-container\">\n",
       "      <div>\n",
       "<style scoped>\n",
       "    .dataframe tbody tr th:only-of-type {\n",
       "        vertical-align: middle;\n",
       "    }\n",
       "\n",
       "    .dataframe tbody tr th {\n",
       "        vertical-align: top;\n",
       "    }\n",
       "\n",
       "    .dataframe thead th {\n",
       "        text-align: right;\n",
       "    }\n",
       "</style>\n",
       "<table border=\"1\" class=\"dataframe\">\n",
       "  <thead>\n",
       "    <tr style=\"text-align: right;\">\n",
       "      <th></th>\n",
       "      <th>Algorithms</th>\n",
       "      <th>Training Accuracy</th>\n",
       "      <th>Testing Accuracy</th>\n",
       "      <th>Testing Recall</th>\n",
       "      <th>Testing F1 Score</th>\n",
       "      <th>Testing AUC</th>\n",
       "    </tr>\n",
       "  </thead>\n",
       "  <tbody>\n",
       "    <tr>\n",
       "      <th>0</th>\n",
       "      <td>Logistic regression</td>\n",
       "      <td>0.960094</td>\n",
       "      <td>0.972028</td>\n",
       "      <td>1.000000</td>\n",
       "      <td>0.977778</td>\n",
       "      <td>0.963636</td>\n",
       "    </tr>\n",
       "    <tr>\n",
       "      <th>1</th>\n",
       "      <td>Support Vector Machine</td>\n",
       "      <td>0.964789</td>\n",
       "      <td>0.965035</td>\n",
       "      <td>1.000000</td>\n",
       "      <td>0.972376</td>\n",
       "      <td>0.954545</td>\n",
       "    </tr>\n",
       "    <tr>\n",
       "      <th>2</th>\n",
       "      <td>KNN</td>\n",
       "      <td>1.000000</td>\n",
       "      <td>0.951049</td>\n",
       "      <td>1.000000</td>\n",
       "      <td>0.961749</td>\n",
       "      <td>0.936364</td>\n",
       "    </tr>\n",
       "    <tr>\n",
       "      <th>3</th>\n",
       "      <td>Decision Tree</td>\n",
       "      <td>0.943662</td>\n",
       "      <td>0.951049</td>\n",
       "      <td>0.988636</td>\n",
       "      <td>0.961326</td>\n",
       "      <td>0.939773</td>\n",
       "    </tr>\n",
       "    <tr>\n",
       "      <th>4</th>\n",
       "      <td>Naive Bayes</td>\n",
       "      <td>0.889671</td>\n",
       "      <td>0.916084</td>\n",
       "      <td>0.909091</td>\n",
       "      <td>0.930233</td>\n",
       "      <td>0.918182</td>\n",
       "    </tr>\n",
       "    <tr>\n",
       "      <th>5</th>\n",
       "      <td>Random Forest</td>\n",
       "      <td>0.988263</td>\n",
       "      <td>0.965035</td>\n",
       "      <td>0.988636</td>\n",
       "      <td>0.972067</td>\n",
       "      <td>0.957955</td>\n",
       "    </tr>\n",
       "    <tr>\n",
       "      <th>6</th>\n",
       "      <td>XGB</td>\n",
       "      <td>1.000000</td>\n",
       "      <td>0.958042</td>\n",
       "      <td>0.977273</td>\n",
       "      <td>0.966292</td>\n",
       "      <td>0.952273</td>\n",
       "    </tr>\n",
       "    <tr>\n",
       "      <th>7</th>\n",
       "      <td>Multilayer Perceptron</td>\n",
       "      <td>0.955399</td>\n",
       "      <td>0.965035</td>\n",
       "      <td>0.988636</td>\n",
       "      <td>0.972067</td>\n",
       "      <td>0.957955</td>\n",
       "    </tr>\n",
       "    <tr>\n",
       "      <th>8</th>\n",
       "      <td>Extra Trees</td>\n",
       "      <td>1.000000</td>\n",
       "      <td>0.965035</td>\n",
       "      <td>0.988636</td>\n",
       "      <td>0.972067</td>\n",
       "      <td>0.957955</td>\n",
       "    </tr>\n",
       "  </tbody>\n",
       "</table>\n",
       "</div>\n",
       "      <button class=\"colab-df-convert\" onclick=\"convertToInteractive('df-3ad2d4ad-7f0b-4047-ab36-5acfe2196421')\"\n",
       "              title=\"Convert this dataframe to an interactive table.\"\n",
       "              style=\"display:none;\">\n",
       "        \n",
       "  <svg xmlns=\"http://www.w3.org/2000/svg\" height=\"24px\"viewBox=\"0 0 24 24\"\n",
       "       width=\"24px\">\n",
       "    <path d=\"M0 0h24v24H0V0z\" fill=\"none\"/>\n",
       "    <path d=\"M18.56 5.44l.94 2.06.94-2.06 2.06-.94-2.06-.94-.94-2.06-.94 2.06-2.06.94zm-11 1L8.5 8.5l.94-2.06 2.06-.94-2.06-.94L8.5 2.5l-.94 2.06-2.06.94zm10 10l.94 2.06.94-2.06 2.06-.94-2.06-.94-.94-2.06-.94 2.06-2.06.94z\"/><path d=\"M17.41 7.96l-1.37-1.37c-.4-.4-.92-.59-1.43-.59-.52 0-1.04.2-1.43.59L10.3 9.45l-7.72 7.72c-.78.78-.78 2.05 0 2.83L4 21.41c.39.39.9.59 1.41.59.51 0 1.02-.2 1.41-.59l7.78-7.78 2.81-2.81c.8-.78.8-2.07 0-2.86zM5.41 20L4 18.59l7.72-7.72 1.47 1.35L5.41 20z\"/>\n",
       "  </svg>\n",
       "      </button>\n",
       "      \n",
       "  <style>\n",
       "    .colab-df-container {\n",
       "      display:flex;\n",
       "      flex-wrap:wrap;\n",
       "      gap: 12px;\n",
       "    }\n",
       "\n",
       "    .colab-df-convert {\n",
       "      background-color: #E8F0FE;\n",
       "      border: none;\n",
       "      border-radius: 50%;\n",
       "      cursor: pointer;\n",
       "      display: none;\n",
       "      fill: #1967D2;\n",
       "      height: 32px;\n",
       "      padding: 0 0 0 0;\n",
       "      width: 32px;\n",
       "    }\n",
       "\n",
       "    .colab-df-convert:hover {\n",
       "      background-color: #E2EBFA;\n",
       "      box-shadow: 0px 1px 2px rgba(60, 64, 67, 0.3), 0px 1px 3px 1px rgba(60, 64, 67, 0.15);\n",
       "      fill: #174EA6;\n",
       "    }\n",
       "\n",
       "    [theme=dark] .colab-df-convert {\n",
       "      background-color: #3B4455;\n",
       "      fill: #D2E3FC;\n",
       "    }\n",
       "\n",
       "    [theme=dark] .colab-df-convert:hover {\n",
       "      background-color: #434B5C;\n",
       "      box-shadow: 0px 1px 3px 1px rgba(0, 0, 0, 0.15);\n",
       "      filter: drop-shadow(0px 1px 2px rgba(0, 0, 0, 0.3));\n",
       "      fill: #FFFFFF;\n",
       "    }\n",
       "  </style>\n",
       "\n",
       "      <script>\n",
       "        const buttonEl =\n",
       "          document.querySelector('#df-3ad2d4ad-7f0b-4047-ab36-5acfe2196421 button.colab-df-convert');\n",
       "        buttonEl.style.display =\n",
       "          google.colab.kernel.accessAllowed ? 'block' : 'none';\n",
       "\n",
       "        async function convertToInteractive(key) {\n",
       "          const element = document.querySelector('#df-3ad2d4ad-7f0b-4047-ab36-5acfe2196421');\n",
       "          const dataTable =\n",
       "            await google.colab.kernel.invokeFunction('convertToInteractive',\n",
       "                                                     [key], {});\n",
       "          if (!dataTable) return;\n",
       "\n",
       "          const docLinkHtml = 'Like what you see? Visit the ' +\n",
       "            '<a target=\"_blank\" href=https://colab.research.google.com/notebooks/data_table.ipynb>data table notebook</a>'\n",
       "            + ' to learn more about interactive tables.';\n",
       "          element.innerHTML = '';\n",
       "          dataTable['output_type'] = 'display_data';\n",
       "          await google.colab.output.renderOutput(dataTable, element);\n",
       "          const docLink = document.createElement('div');\n",
       "          docLink.innerHTML = docLinkHtml;\n",
       "          element.appendChild(docLink);\n",
       "        }\n",
       "      </script>\n",
       "    </div>\n",
       "  </div>\n",
       "  "
      ],
      "text/plain": [
       "               Algorithms  Training Accuracy  ...  Testing F1 Score  Testing AUC\n",
       "0     Logistic regression           0.960094  ...          0.977778     0.963636\n",
       "1  Support Vector Machine           0.964789  ...          0.972376     0.954545\n",
       "2                     KNN           1.000000  ...          0.961749     0.936364\n",
       "3           Decision Tree           0.943662  ...          0.961326     0.939773\n",
       "4             Naive Bayes           0.889671  ...          0.930233     0.918182\n",
       "5           Random Forest           0.988263  ...          0.972067     0.957955\n",
       "6                     XGB           1.000000  ...          0.966292     0.952273\n",
       "7   Multilayer Perceptron           0.955399  ...          0.972067     0.957955\n",
       "8             Extra Trees           1.000000  ...          0.972067     0.957955\n",
       "\n",
       "[9 rows x 6 columns]"
      ]
     },
     "metadata": {},
     "execution_count": 52
    }
   ],
   "source": [
    "results"
   ]
  },
  {
   "cell_type": "code",
   "execution_count": 53,
   "id": "c8581158",
   "metadata": {
    "colab": {
     "base_uri": "https://localhost:8080/",
     "height": 625
    },
    "id": "c8581158",
    "outputId": "1f8ea164-dafd-4248-bd87-32c37d9b08b2"
   },
   "outputs": [
    {
     "output_type": "display_data",
     "data": {
      "image/png": "[encoded data removed]",
      "text/plain": [
       "<Figure size 1008x1008 with 18 Axes>"
      ]
     },
     "metadata": {}
    }
   ],
   "source": [
    "from sklearn.metrics import confusion_matrix\n",
    "plt.figure(figsize=(14, 14))\n",
    "\n",
    "plt.subplot(4, 3, 1)\n",
    "draw_confusion_matrix(clf_lr, 'Logistic regression', X_test, y_test, sclr)\n",
    "plt.subplot(4, 3, 2)\n",
    "draw_confusion_matrix(clf_svm, 'SVM', X_test, y_test, sclr)\n",
    "plt.subplot(4, 3, 3)\n",
    "draw_confusion_matrix(clf_knn, 'KNN', X_test, y_test, sclr)\n",
    "plt.subplot(4, 3, 4)\n",
    "draw_confusion_matrix(clf_dt, 'Decision Tree', X_test, y_test)\n",
    "plt.subplot(4, 3, 5)\n",
    "draw_confusion_matrix(clf_nb, 'Naive Bayes', X_test, y_test)\n",
    "plt.subplot(4, 3, 6)\n",
    "draw_confusion_matrix(clf_rf, 'Random Forest', X_test, y_test)\n",
    "plt.subplot(4, 3, 7)\n",
    "draw_confusion_matrix(clf_xgb, 'XGBoost', X_test, y_test)\n",
    "plt.subplot(4, 3, 8)\n",
    "\n",
    "##MLP\n",
    "y_preds = np.multiply(clf_mlp.predict(X_test) > 0.5, 1).flatten()\n",
    "cf_matrix = confusion_matrix(y_test, y_preds)\n",
    "cbar_kws = {\n",
    "    \"ticks\": np.array([15, 30, 45, 60, 75]),\n",
    "}\n",
    "sns.heatmap(cf_matrix, annot=True, cmap='Blues', linewidths=5, cbar_kws=cbar_kws)\n",
    "\n",
    "plt.title(\"Multilayer Perceptron\")\n",
    "plt.subplot(4, 3, 9)\n",
    "draw_confusion_matrix(clf_etc, 'Extra Tree', X_test, y_test, None)"
   ]
  },
  {
   "cell_type": "markdown",
   "source": [
    "### Evalution"
   ],
   "metadata": {
    "id": "fv73HDa2caiO"
   },
   "id": "fv73HDa2caiO"
  },
  {
   "cell_type": "markdown",
   "source": [
    "In this chapter we go through a set of random states (used in train-test splitting and some algorithms) and see how testing accuracy of each algorithm fares."
   ],
   "metadata": {
    "id": "tODr-aEVdIGK"
   },
   "id": "tODr-aEVdIGK"
  },
  {
   "cell_type": "code",
   "source": [
    "'''\n",
    "all_iterations\n",
    "  |_seed\n",
    "    |_dropped_highly_correlated_features\n",
    "    |_features\n",
    "    |_results\n",
    "    |_models\n",
    "      |_LogReg\n",
    "      |_SVM\n",
    "      |_kNN\n",
    "      |_DT\n",
    "      |_NB\n",
    "      |_RF\n",
    "      |_XGB\n",
    "      |_MLP\n",
    "      |_ETC\n",
    "'''\n",
    "all_iterations = {}\n",
    "\n",
    "seed_range = range(11)\n",
    "\n",
    "for seed in seed_range:\n",
    "    print(\"SEED \" + str(seed))\n",
    "    current_seed_iteration = {}\n",
    "\n",
    "    # Train-test split\n",
    "    X_train, X_test, y_train, y_test = train_test_split(X, y, test_size=0.25, random_state=seed)\n",
    "\n",
    "    # Feature selection\n",
    "    cor_matrix_without_target = X_train.phik_matrix(interval_cols=X_train.columns)\n",
    "\n",
    "    # Drop highly correlated featyres\n",
    "    upper_tri = cor_matrix_without_target.abs().where(\n",
    "        np.triu(np.ones(cor_matrix_without_target.shape), k=1).astype(np.bool_))\n",
    "    to_drop = [column for column in upper_tri.columns if any(upper_tri[column] > 0.9)]\n",
    "\n",
    "    X_train = X_train.drop(list(to_drop), axis=1)\n",
    "    X_test = X_test.drop(list(to_drop), axis=1)\n",
    "\n",
    "    current_seed_iteration[\"dropped_highly_correlated_features\"] = to_drop\n",
    "\n",
    "    # Feature selection SequentialFeature\n",
    "    X_best = SequentialFeatureSelector(estimator=LogisticRegression(max_iter=500), n_features_to_select=7, cv=10,\n",
    "                                       direction='forward', n_jobs=4).fit(X_train, y_train)\n",
    "    mask = X_best.get_support()\n",
    "    best_features = []\n",
    "    for curr_bool, feature in zip(mask, X_train.columns):\n",
    "        if curr_bool:\n",
    "            best_features.append(feature)\n",
    "\n",
    "    # Use best fetures obtained from SequentialFeatureSelector\n",
    "    X_train = X_train[X_train.columns[X_best.get_support(indices=True)]]\n",
    "    X_test = X_test[X_test.columns[X_best.get_support(indices=True)]]\n",
    "\n",
    "    current_seed_iteration[\"features\"] = best_features\n",
    "\n",
    "    # Training and testing\n",
    "    results = pd.DataFrame(\n",
    "        columns=['Algorithms', 'Training Accuracy', 'Testing Accuracy', 'Testing Recall', 'Testing F1 Score',\n",
    "                 'Testing AUC'])\n",
    "\n",
    "    models = {}\n",
    "    # Logistic Regression\n",
    "    clf_lr, results = grid_search_LogisticRegression(X_train, y_train, X_test, y_test, results, print_bool=False)\n",
    "    models[\"LogReg\"] = clf_lr\n",
    "    # Support Vector Machine\n",
    "    clf_svm, results = grid_search_SVM(X_train, y_train, X_test, y_test, results, print_bool=False)\n",
    "    models[\"SVM\"] = clf_svm\n",
    "    # K-Nearest Neighbour\n",
    "    clf_knn, results = grid_search_kNN(X_train, y_train, X_test, y_test, results, print_bool=False)\n",
    "    models[\"kNN\"] = clf_knn\n",
    "    # Decision Tree\n",
    "    clf_dt, results = grid_search_DecisionTree(X_train, y_train, X_test, y_test, results, seed, print_bool=False)\n",
    "    models[\"DT\"] = clf_dt\n",
    "    # Naive Bayes\n",
    "    clf_nb, results = grid_search_NaiveBayes(X_train, y_train, X_test, y_test, results, print_bool=False)\n",
    "    models[\"NB\"] = clf_nb\n",
    "    # Random Forest\n",
    "    clf_rf, results = grid_search_RandomForest(X_train, y_train, X_test, y_test, results, seed, print_bool=False)\n",
    "    models[\"RF\"] = clf_rf\n",
    "    # XGBoost\n",
    "    clf_xgb, results = grid_search_XGBoost(X_train, y_train, X_test, y_test, results, print_bool=False)\n",
    "    models[\"XGB\"] = clf_xgb\n",
    "    # Multilayer Perceptron\n",
    "    clf_mlp, results = MLP(X_train, y_train, X_test, y_test, results, print_bool=False)\n",
    "    models[\"mlp\"] = clf_mlp\n",
    "    # ExtraTreesClassifier\n",
    "    clf_etc, results = grid_search_ExtraTrees(X_train, y_train, X_test, y_test, results, seed, print_bool=False)\n",
    "    models[\"ETC\"] = clf_etc\n",
    "\n",
    "    current_seed_iteration[\"models\"] = models\n",
    "    current_seed_iteration[\"results\"] = results\n",
    "\n",
    "    all_iterations[seed] = current_seed_iteration"
   ],
   "metadata": {
    "colab": {
     "base_uri": "https://localhost:8080/"
    },
    "id": "0UZlnQ6X2FhL",
    "outputId": "b5fcf39b-fc34-4159-820c-21f21776738c"
   },
   "id": "0UZlnQ6X2FhL",
   "execution_count": 85,
   "outputs": [
    {
     "output_type": "stream",
     "name": "stdout",
     "text": [
      "SEED 0\n",
      "Best hyperparameters: {'C': 0.1, 'penalty': 'l2', 'solver': 'newton-cg'}\n",
      "Training accuracy: 0.9647887323943662\n",
      "Testing accuracy: 0.958041958041958\n",
      "Test recall: 0.9777777777777777\n",
      "Testing F1 Score: 0.967032967032967\n",
      "Testing AUC: 0.9511530398322852\n",
      "\n",
      "Best hyperparameters: {'C': 100, 'gamma': 0.001, 'kernel': 'rbf'}\n",
      "Training accuracy: 0.971830985915493\n",
      "Testing accuracy: 0.958041958041958\n",
      "Test recall: 0.9666666666666667\n",
      "Testing F1 Score: 0.9666666666666667\n",
      "Testing AUC: 0.9550314465408806\n",
      "\n",
      "Best hyperparameters: {'metric': 'minkowski', 'n_neighbors': 13, 'weights': 'distance'}\n",
      "Training accuracy: 1.0\n",
      "Testing accuracy: 0.9370629370629371\n",
      "Test recall: 0.9555555555555556\n",
      "Testing F1 Score: 0.9502762430939227\n",
      "Testing AUC: 0.9306079664570233\n",
      "\n",
      "Best hyperparameters: {'ccp_alpha': 0.001, 'criterion': 'entropy', 'max_depth': 6, 'max_features': 'auto'}\n",
      "Training accuracy: 0.9788732394366197\n",
      "Testing accuracy: 0.9090909090909091\n",
      "Test recall: 0.9444444444444444\n",
      "Testing F1 Score: 0.9289617486338798\n",
      "Testing AUC: 0.8967505241090147\n",
      "\n",
      "Training accuracy: 0.9483568075117371\n",
      "Testing accuracy: 0.9090909090909091\n",
      "Test recall: 0.9222222222222223\n",
      "Testing F1 Score: 0.9273743016759777\n",
      "Testing AUC: 0.9045073375262055\n",
      "\n",
      "Best hyperparameters: {'criterion': 'gini', 'max_depth': 4, 'max_features': 'auto', 'min_samples_split': 2, 'n_estimators': 50}\n",
      "Training accuracy: 0.9812206572769953\n",
      "Testing accuracy: 0.9440559440559441\n",
      "Test recall: 0.9555555555555556\n",
      "Testing F1 Score: 0.9555555555555556\n",
      "Testing AUC: 0.9400419287211741\n",
      "\n",
      "Best hyperparameters: {'colsample_bytree': 0.5, 'eval_metric': 'logloss', 'learning_rate': 0.01, 'max_depth': 5, 'min_child_weight': 1, 'n_estimators': 200, 'subsample': 0.5}\n",
      "Training accuracy: 0.971830985915493\n",
      "Testing accuracy: 0.9440559440559441\n",
      "Test recall: 0.9555555555555556\n",
      "Testing F1 Score: 0.9555555555555556\n",
      "Testing AUC: 0.9400419287211741\n",
      "\n",
      "Training accuracy: 0.9671361502347418\n",
      "Testing accuracy: 0.9370629370629371\n",
      "Test recall: 0.9333333333333333\n",
      "Testing F1 Score: 0.9491525423728815\n",
      "Testing AUC: 0.9383647798742139\n",
      "\n",
      "Best hyperparameters: {'criterion': 'entropy', 'max_depth': 8, 'max_features': 'auto', 'min_samples_split': 4, 'n_estimators': 50}\n",
      "Training accuracy: 0.9765258215962441\n",
      "Testing accuracy: 0.9440559440559441\n",
      "Test recall: 0.9666666666666667\n",
      "Testing F1 Score: 0.956043956043956\n",
      "Testing AUC: 0.9361635220125787\n",
      "\n",
      "SEED 1\n",
      "Best hyperparameters: {'C': 1, 'penalty': 'l1', 'solver': 'liblinear'}\n",
      "Training accuracy: 0.9624413145539906\n",
      "Testing accuracy: 0.9370629370629371\n",
      "Test recall: 0.9545454545454546\n",
      "Testing F1 Score: 0.9491525423728814\n",
      "Testing AUC: 0.9318181818181819\n",
      "\n",
      "Best hyperparameters: {'C': 100, 'gamma': 0.001, 'kernel': 'rbf'}\n",
      "Training accuracy: 0.960093896713615\n",
      "Testing accuracy: 0.9440559440559441\n",
      "Test recall: 0.9659090909090909\n",
      "Testing F1 Score: 0.9550561797752809\n",
      "Testing AUC: 0.9374999999999999\n",
      "\n",
      "Best hyperparameters: {'metric': 'manhattan', 'n_neighbors': 6, 'weights': 'distance'}\n",
      "Training accuracy: 1.0\n",
      "Testing accuracy: 0.9300699300699301\n",
      "Test recall: 0.9545454545454546\n",
      "Testing F1 Score: 0.9438202247191012\n",
      "Testing AUC: 0.9227272727272727\n",
      "\n",
      "Best hyperparameters: {'ccp_alpha': 0.001, 'criterion': 'gini', 'max_depth': 5, 'max_features': 'auto'}\n",
      "Training accuracy: 0.9765258215962441\n",
      "Testing accuracy: 0.8671328671328671\n",
      "Test recall: 0.9090909090909091\n",
      "Testing F1 Score: 0.8938547486033518\n",
      "Testing AUC: 0.8545454545454546\n",
      "\n",
      "Training accuracy: 0.931924882629108\n",
      "Testing accuracy: 0.9370629370629371\n",
      "Test recall: 0.9545454545454546\n",
      "Testing F1 Score: 0.9491525423728814\n",
      "Testing AUC: 0.9318181818181819\n",
      "\n",
      "Best hyperparameters: {'criterion': 'gini', 'max_depth': 8, 'max_features': 'auto', 'min_samples_split': 2, 'n_estimators': 50}\n",
      "Training accuracy: 1.0\n",
      "Testing accuracy: 0.9440559440559441\n",
      "Test recall: 0.9431818181818182\n",
      "Testing F1 Score: 0.9540229885057472\n",
      "Testing AUC: 0.9443181818181818\n",
      "\n",
      "Best hyperparameters: {'colsample_bytree': 0.5, 'eval_metric': 'logloss', 'learning_rate': 0.1, 'max_depth': 7, 'min_child_weight': 1, 'n_estimators': 100, 'subsample': 0.5}\n",
      "Training accuracy: 0.9953051643192489\n",
      "Testing accuracy: 0.951048951048951\n",
      "Test recall: 0.9545454545454546\n",
      "Testing F1 Score: 0.96\n",
      "Testing AUC: 0.95\n",
      "\n",
      "Training accuracy: 0.9577464788732394\n",
      "Testing accuracy: 0.9370629370629371\n",
      "Test recall: 0.9431818181818182\n",
      "Testing F1 Score: 0.9485714285714286\n",
      "Testing AUC: 0.9352272727272728\n",
      "\n",
      "Best hyperparameters: {'criterion': 'entropy', 'max_depth': None, 'max_features': 'auto', 'min_samples_split': 2, 'n_estimators': 50}\n",
      "Training accuracy: 1.0\n",
      "Testing accuracy: 0.9440559440559441\n",
      "Test recall: 0.9659090909090909\n",
      "Testing F1 Score: 0.9550561797752809\n",
      "Testing AUC: 0.9374999999999999\n",
      "\n",
      "SEED 2\n",
      "Best hyperparameters: {'C': 1, 'penalty': 'l2', 'solver': 'liblinear'}\n",
      "Training accuracy: 0.9507042253521126\n",
      "Testing accuracy: 0.9230769230769231\n",
      "Test recall: 0.9540229885057471\n",
      "Testing F1 Score: 0.9378531073446328\n",
      "Testing AUC: 0.9145114942528736\n",
      "\n",
      "Best hyperparameters: {'C': 10, 'gamma': 1, 'kernel': 'linear'}\n",
      "Training accuracy: 0.9553990610328639\n",
      "Testing accuracy: 0.9230769230769231\n",
      "Test recall: 0.9655172413793104\n",
      "Testing F1 Score: 0.9385474860335196\n",
      "Testing AUC: 0.9113300492610839\n",
      "\n",
      "Best hyperparameters: {'metric': 'minkowski', 'n_neighbors': 6, 'weights': 'distance'}\n",
      "Training accuracy: 1.0\n",
      "Testing accuracy: 0.9300699300699301\n",
      "Test recall: 0.9885057471264368\n",
      "Testing F1 Score: 0.945054945054945\n",
      "Testing AUC: 0.9138957307060755\n",
      "\n",
      "Best hyperparameters: {'ccp_alpha': 0.01, 'criterion': 'entropy', 'max_depth': 7, 'max_features': 'auto'}\n",
      "Training accuracy: 0.9507042253521126\n",
      "Testing accuracy: 0.8741258741258742\n",
      "Test recall: 0.9080459770114943\n",
      "Testing F1 Score: 0.8977272727272727\n",
      "Testing AUC: 0.8647372742200329\n",
      "\n",
      "Training accuracy: 0.8943661971830986\n",
      "Testing accuracy: 0.9020979020979021\n",
      "Test recall: 0.9425287356321839\n",
      "Testing F1 Score: 0.9213483146067416\n",
      "Testing AUC: 0.8909072249589491\n",
      "\n",
      "Best hyperparameters: {'criterion': 'gini', 'max_depth': 8, 'max_features': 'auto', 'min_samples_split': 2, 'n_estimators': 200}\n",
      "Training accuracy: 1.0\n",
      "Testing accuracy: 0.9230769230769231\n",
      "Test recall: 0.9310344827586207\n",
      "Testing F1 Score: 0.9364161849710984\n",
      "Testing AUC: 0.9208743842364531\n",
      "\n",
      "Best hyperparameters: {'colsample_bytree': 0.9, 'eval_metric': 'logloss', 'learning_rate': 0.1, 'max_depth': 5, 'min_child_weight': 1, 'n_estimators': 100, 'subsample': 0.5}\n",
      "Training accuracy: 0.9906103286384976\n",
      "Testing accuracy: 0.951048951048951\n",
      "Test recall: 0.9655172413793104\n",
      "Testing F1 Score: 0.96\n",
      "Testing AUC: 0.9470443349753696\n",
      "\n",
      "Training accuracy: 0.9389671361502347\n",
      "Testing accuracy: 0.9020979020979021\n",
      "Test recall: 0.9540229885057471\n",
      "Testing F1 Score: 0.9222222222222222\n",
      "Testing AUC: 0.8877257799671593\n",
      "\n",
      "Best hyperparameters: {'criterion': 'gini', 'max_depth': None, 'max_features': 'auto', 'min_samples_split': 2, 'n_estimators': 500}\n",
      "Training accuracy: 1.0\n",
      "Testing accuracy: 0.9090909090909091\n",
      "Test recall: 0.9425287356321839\n",
      "Testing F1 Score: 0.9265536723163842\n",
      "Testing AUC: 0.8998357963875206\n",
      "\n",
      "SEED 3\n",
      "Best hyperparameters: {'C': 0.1, 'penalty': 'none', 'solver': 'newton-cg'}\n",
      "Training accuracy: 0.960093896713615\n",
      "Testing accuracy: 0.958041958041958\n",
      "Test recall: 0.9666666666666667\n",
      "Testing F1 Score: 0.9666666666666667\n",
      "Testing AUC: 0.9550314465408806\n",
      "\n",
      "Best hyperparameters: {'C': 10, 'gamma': 0.1, 'kernel': 'rbf'}\n",
      "Training accuracy: 0.971830985915493\n",
      "Testing accuracy: 0.951048951048951\n",
      "Test recall: 0.9444444444444444\n",
      "Testing F1 Score: 0.96045197740113\n",
      "Testing AUC: 0.9533542976939203\n",
      "\n",
      "Best hyperparameters: {'metric': 'manhattan', 'n_neighbors': 7, 'weights': 'uniform'}\n",
      "Training accuracy: 0.9436619718309859\n",
      "Testing accuracy: 0.9300699300699301\n",
      "Test recall: 0.9555555555555556\n",
      "Testing F1 Score: 0.945054945054945\n",
      "Testing AUC: 0.9211740041928722\n",
      "\n",
      "Best hyperparameters: {'ccp_alpha': 0.001, 'criterion': 'gini', 'max_depth': 7, 'max_features': 'auto'}\n",
      "Training accuracy: 0.9929577464788732\n",
      "Testing accuracy: 0.8811188811188811\n",
      "Test recall: 0.9111111111111111\n",
      "Testing F1 Score: 0.9060773480662984\n",
      "Testing AUC: 0.870649895178197\n",
      "\n",
      "Training accuracy: 0.931924882629108\n",
      "Testing accuracy: 0.9090909090909091\n",
      "Test recall: 0.9333333333333333\n",
      "Testing F1 Score: 0.9281767955801106\n",
      "Testing AUC: 0.9006289308176101\n",
      "\n",
      "Best hyperparameters: {'criterion': 'entropy', 'max_depth': 8, 'max_features': 'auto', 'min_samples_split': 6, 'n_estimators': 200}\n",
      "Training accuracy: 0.9929577464788732\n",
      "Testing accuracy: 0.9370629370629371\n",
      "Test recall: 0.9444444444444444\n",
      "Testing F1 Score: 0.9497206703910613\n",
      "Testing AUC: 0.9344863731656184\n",
      "\n",
      "Best hyperparameters: {'colsample_bytree': 0.9, 'eval_metric': 'logloss', 'learning_rate': 0.01, 'max_depth': 3, 'min_child_weight': 1, 'n_estimators': 500, 'subsample': 0.9}\n",
      "Training accuracy: 0.9929577464788732\n",
      "Testing accuracy: 0.9440559440559441\n",
      "Test recall: 0.9555555555555556\n",
      "Testing F1 Score: 0.9555555555555556\n",
      "Testing AUC: 0.9400419287211741\n",
      "\n",
      "Training accuracy: 0.9694835680751174\n",
      "Testing accuracy: 0.9370629370629371\n",
      "Test recall: 0.9444444444444444\n",
      "Testing F1 Score: 0.9497206703910613\n",
      "Testing AUC: 0.9344863731656184\n",
      "\n",
      "Best hyperparameters: {'criterion': 'gini', 'max_depth': None, 'max_features': 'auto', 'min_samples_split': 6, 'n_estimators': 200}\n",
      "Training accuracy: 0.9953051643192489\n",
      "Testing accuracy: 0.9370629370629371\n",
      "Test recall: 0.9444444444444444\n",
      "Testing F1 Score: 0.9497206703910613\n",
      "Testing AUC: 0.9344863731656184\n",
      "\n",
      "SEED 4\n",
      "Best hyperparameters: {'C': 10, 'penalty': 'l2', 'solver': 'liblinear'}\n",
      "Training accuracy: 0.9694835680751174\n",
      "Testing accuracy: 0.9370629370629371\n",
      "Test recall: 0.9263157894736842\n",
      "Testing F1 Score: 0.9513513513513514\n",
      "Testing AUC: 0.9423245614035087\n",
      "\n",
      "Best hyperparameters: {'C': 100, 'gamma': 0.01, 'kernel': 'rbf'}\n",
      "Training accuracy: 0.9765258215962441\n",
      "Testing accuracy: 0.972027972027972\n",
      "Test recall: 0.968421052631579\n",
      "Testing F1 Score: 0.9787234042553192\n",
      "Testing AUC: 0.9737938596491227\n",
      "\n",
      "Best hyperparameters: {'metric': 'manhattan', 'n_neighbors': 8, 'weights': 'distance'}\n",
      "Training accuracy: 1.0\n",
      "Testing accuracy: 0.9790209790209791\n",
      "Test recall: 0.9894736842105263\n",
      "Testing F1 Score: 0.9842931937172775\n",
      "Testing AUC: 0.9739035087719299\n",
      "\n",
      "Best hyperparameters: {'ccp_alpha': 0.001, 'criterion': 'entropy', 'max_depth': 9, 'max_features': 'auto'}\n",
      "Training accuracy: 0.9976525821596244\n",
      "Testing accuracy: 0.9020979020979021\n",
      "Test recall: 0.8947368421052632\n",
      "Testing F1 Score: 0.9239130434782609\n",
      "Testing AUC: 0.9057017543859649\n",
      "\n",
      "Training accuracy: 0.9014084507042254\n",
      "Testing accuracy: 0.9300699300699301\n",
      "Test recall: 0.9157894736842105\n",
      "Testing F1 Score: 0.9456521739130435\n",
      "Testing AUC: 0.937061403508772\n",
      "\n",
      "Best hyperparameters: {'criterion': 'gini', 'max_depth': 8, 'max_features': 'auto', 'min_samples_split': 4, 'n_estimators': 500}\n",
      "Training accuracy: 0.9976525821596244\n",
      "Testing accuracy: 0.9440559440559441\n",
      "Test recall: 0.9368421052631579\n",
      "Testing F1 Score: 0.956989247311828\n",
      "Testing AUC: 0.9475877192982456\n",
      "\n",
      "Best hyperparameters: {'colsample_bytree': 0.7, 'eval_metric': 'logloss', 'learning_rate': 0.1, 'max_depth': 3, 'min_child_weight': 1, 'n_estimators': 100, 'subsample': 0.7}\n",
      "Training accuracy: 0.9953051643192489\n",
      "Testing accuracy: 0.958041958041958\n",
      "Test recall: 0.9473684210526315\n",
      "Testing F1 Score: 0.967741935483871\n",
      "Testing AUC: 0.963267543859649\n",
      "\n",
      "Training accuracy: 0.9577464788732394\n",
      "Testing accuracy: 0.9440559440559441\n",
      "Test recall: 0.9157894736842105\n",
      "Testing F1 Score: 0.956043956043956\n",
      "Testing AUC: 0.9578947368421052\n",
      "\n",
      "Best hyperparameters: {'criterion': 'gini', 'max_depth': None, 'max_features': 'auto', 'min_samples_split': 4, 'n_estimators': 500}\n",
      "Training accuracy: 1.0\n",
      "Testing accuracy: 0.9440559440559441\n",
      "Test recall: 0.9368421052631579\n",
      "Testing F1 Score: 0.956989247311828\n",
      "Testing AUC: 0.9475877192982456\n",
      "\n",
      "SEED 5\n",
      "Best hyperparameters: {'C': 1, 'penalty': 'l2', 'solver': 'liblinear'}\n",
      "Training accuracy: 0.960093896713615\n",
      "Testing accuracy: 0.972027972027972\n",
      "Test recall: 1.0\n",
      "Testing F1 Score: 0.9777777777777777\n",
      "Testing AUC: 0.9636363636363636\n",
      "\n",
      "Best hyperparameters: {'C': 10, 'gamma': 0.01, 'kernel': 'rbf'}\n",
      "Training accuracy: 0.9647887323943662\n",
      "Testing accuracy: 0.965034965034965\n",
      "Test recall: 1.0\n",
      "Testing F1 Score: 0.9723756906077349\n",
      "Testing AUC: 0.9545454545454545\n",
      "\n",
      "Best hyperparameters: {'metric': 'manhattan', 'n_neighbors': 6, 'weights': 'distance'}\n",
      "Training accuracy: 1.0\n",
      "Testing accuracy: 0.951048951048951\n",
      "Test recall: 1.0\n",
      "Testing F1 Score: 0.9617486338797814\n",
      "Testing AUC: 0.9363636363636364\n",
      "\n",
      "Best hyperparameters: {'ccp_alpha': 0.01, 'criterion': 'entropy', 'max_depth': 5, 'max_features': 'auto'}\n",
      "Training accuracy: 0.9436619718309859\n",
      "Testing accuracy: 0.951048951048951\n",
      "Test recall: 0.9886363636363636\n",
      "Testing F1 Score: 0.9613259668508287\n",
      "Testing AUC: 0.9397727272727273\n",
      "\n",
      "Training accuracy: 0.8896713615023474\n",
      "Testing accuracy: 0.916083916083916\n",
      "Test recall: 0.9090909090909091\n",
      "Testing F1 Score: 0.9302325581395349\n",
      "Testing AUC: 0.9181818181818182\n",
      "\n",
      "Best hyperparameters: {'criterion': 'gini', 'max_depth': 6, 'max_features': 'auto', 'min_samples_split': 6, 'n_estimators': 50}\n",
      "Training accuracy: 0.9882629107981221\n",
      "Testing accuracy: 0.965034965034965\n",
      "Test recall: 0.9886363636363636\n",
      "Testing F1 Score: 0.9720670391061453\n",
      "Testing AUC: 0.9579545454545455\n",
      "\n",
      "Best hyperparameters: {'colsample_bytree': 0.9, 'eval_metric': 'logloss', 'learning_rate': 0.1, 'max_depth': 3, 'min_child_weight': 1, 'n_estimators': 100, 'subsample': 0.7}\n",
      "Training accuracy: 1.0\n",
      "Testing accuracy: 0.958041958041958\n",
      "Test recall: 0.9772727272727273\n",
      "Testing F1 Score: 0.9662921348314608\n",
      "Testing AUC: 0.9522727272727273\n",
      "\n",
      "Training accuracy: 0.960093896713615\n",
      "Testing accuracy: 0.9790209790209791\n",
      "Test recall: 0.9886363636363636\n",
      "Testing F1 Score: 0.983050847457627\n",
      "Testing AUC: 0.9761363636363637\n",
      "\n",
      "Best hyperparameters: {'criterion': 'entropy', 'max_depth': None, 'max_features': 'auto', 'min_samples_split': 4, 'n_estimators': 200}\n",
      "Training accuracy: 1.0\n",
      "Testing accuracy: 0.965034965034965\n",
      "Test recall: 0.9886363636363636\n",
      "Testing F1 Score: 0.9720670391061453\n",
      "Testing AUC: 0.9579545454545455\n",
      "\n",
      "SEED 6\n",
      "Best hyperparameters: {'C': 0.1, 'penalty': 'l1', 'solver': 'liblinear'}\n",
      "Training accuracy: 0.9647887323943662\n",
      "Testing accuracy: 0.9370629370629371\n",
      "Test recall: 1.0\n",
      "Testing F1 Score: 0.9447852760736196\n",
      "Testing AUC: 0.9318181818181819\n",
      "\n",
      "Best hyperparameters: {'C': 100, 'gamma': 0.01, 'kernel': 'rbf'}\n",
      "Training accuracy: 0.9788732394366197\n",
      "Testing accuracy: 0.9230769230769231\n",
      "Test recall: 1.0\n",
      "Testing F1 Score: 0.9333333333333333\n",
      "Testing AUC: 0.9166666666666667\n",
      "\n",
      "Best hyperparameters: {'metric': 'minkowski', 'n_neighbors': 6, 'weights': 'distance'}\n",
      "Training accuracy: 1.0\n",
      "Testing accuracy: 0.9230769230769231\n",
      "Test recall: 1.0\n",
      "Testing F1 Score: 0.9333333333333333\n",
      "Testing AUC: 0.9166666666666667\n",
      "\n",
      "Best hyperparameters: {'ccp_alpha': 0.01, 'criterion': 'entropy', 'max_depth': 5, 'max_features': 'auto'}\n",
      "Training accuracy: 0.971830985915493\n",
      "Testing accuracy: 0.8881118881118881\n",
      "Test recall: 0.922077922077922\n",
      "Testing F1 Score: 0.8987341772151898\n",
      "Testing AUC: 0.8852813852813853\n",
      "\n",
      "Training accuracy: 0.931924882629108\n",
      "Testing accuracy: 0.9300699300699301\n",
      "Test recall: 0.974025974025974\n",
      "Testing F1 Score: 0.9375\n",
      "Testing AUC: 0.9264069264069265\n",
      "\n",
      "Best hyperparameters: {'criterion': 'entropy', 'max_depth': 8, 'max_features': 'auto', 'min_samples_split': 4, 'n_estimators': 50}\n",
      "Training accuracy: 0.9976525821596244\n",
      "Testing accuracy: 0.9370629370629371\n",
      "Test recall: 0.974025974025974\n",
      "Testing F1 Score: 0.9433962264150942\n",
      "Testing AUC: 0.9339826839826839\n",
      "\n",
      "Best hyperparameters: {'colsample_bytree': 0.9, 'eval_metric': 'logloss', 'learning_rate': 0.1, 'max_depth': 3, 'min_child_weight': 1, 'n_estimators': 100, 'subsample': 0.9}\n",
      "Training accuracy: 1.0\n",
      "Testing accuracy: 0.9370629370629371\n",
      "Test recall: 0.961038961038961\n",
      "Testing F1 Score: 0.9426751592356688\n",
      "Testing AUC: 0.9350649350649352\n",
      "\n",
      "Training accuracy: 0.9671361502347418\n",
      "Testing accuracy: 0.958041958041958\n",
      "Test recall: 1.0\n",
      "Testing F1 Score: 0.9625\n",
      "Testing AUC: 0.9545454545454545\n",
      "\n",
      "Best hyperparameters: {'criterion': 'entropy', 'max_depth': None, 'max_features': 'auto', 'min_samples_split': 2, 'n_estimators': 50}\n",
      "Training accuracy: 1.0\n",
      "Testing accuracy: 0.9370629370629371\n",
      "Test recall: 0.987012987012987\n",
      "Testing F1 Score: 0.9440993788819876\n",
      "Testing AUC: 0.9329004329004329\n",
      "\n",
      "SEED 7\n",
      "Best hyperparameters: {'C': 0.1, 'penalty': 'none', 'solver': 'newton-cg'}\n",
      "Training accuracy: 0.9671361502347418\n",
      "Testing accuracy: 0.972027972027972\n",
      "Test recall: 0.9795918367346939\n",
      "Testing F1 Score: 0.9795918367346939\n",
      "Testing AUC: 0.9675736961451248\n",
      "\n",
      "Best hyperparameters: {'C': 100, 'gamma': 1, 'kernel': 'linear'}\n",
      "Training accuracy: 0.9671361502347418\n",
      "Testing accuracy: 0.9790209790209791\n",
      "Test recall: 0.9897959183673469\n",
      "Testing F1 Score: 0.9847715736040609\n",
      "Testing AUC: 0.9726757369614514\n",
      "\n",
      "Best hyperparameters: {'metric': 'manhattan', 'n_neighbors': 13, 'weights': 'uniform'}\n",
      "Training accuracy: 0.9483568075117371\n",
      "Testing accuracy: 0.9300699300699301\n",
      "Test recall: 0.9489795918367347\n",
      "Testing F1 Score: 0.9489795918367347\n",
      "Testing AUC: 0.9189342403628118\n",
      "\n",
      "Best hyperparameters: {'ccp_alpha': 0.01, 'criterion': 'entropy', 'max_depth': 8, 'max_features': 'auto'}\n",
      "Training accuracy: 0.9413145539906104\n",
      "Testing accuracy: 0.9230769230769231\n",
      "Test recall: 0.9081632653061225\n",
      "Testing F1 Score: 0.9417989417989417\n",
      "Testing AUC: 0.9318594104308391\n",
      "\n",
      "Training accuracy: 0.9295774647887324\n",
      "Testing accuracy: 0.8951048951048951\n",
      "Test recall: 0.9285714285714286\n",
      "Testing F1 Score: 0.9238578680203046\n",
      "Testing AUC: 0.8753968253968254\n",
      "\n",
      "Best hyperparameters: {'criterion': 'entropy', 'max_depth': 4, 'max_features': 'auto', 'min_samples_split': 6, 'n_estimators': 500}\n",
      "Training accuracy: 0.9624413145539906\n",
      "Testing accuracy: 0.9230769230769231\n",
      "Test recall: 0.9795918367346939\n",
      "Testing F1 Score: 0.9458128078817734\n",
      "Testing AUC: 0.889795918367347\n",
      "\n",
      "Best hyperparameters: {'colsample_bytree': 0.5, 'eval_metric': 'logloss', 'learning_rate': 0.1, 'max_depth': 5, 'min_child_weight': 3, 'n_estimators': 200, 'subsample': 0.5}\n",
      "Training accuracy: 0.9741784037558685\n",
      "Testing accuracy: 0.9300699300699301\n",
      "Test recall: 0.9795918367346939\n",
      "Testing F1 Score: 0.9504950495049506\n",
      "Testing AUC: 0.900907029478458\n",
      "\n",
      "Training accuracy: 0.9577464788732394\n",
      "Testing accuracy: 0.958041958041958\n",
      "Test recall: 0.9897959183673469\n",
      "Testing F1 Score: 0.9700000000000001\n",
      "Testing AUC: 0.9393424036281179\n",
      "\n",
      "Best hyperparameters: {'criterion': 'entropy', 'max_depth': 8, 'max_features': 'auto', 'min_samples_split': 2, 'n_estimators': 50}\n",
      "Training accuracy: 0.9741784037558685\n",
      "Testing accuracy: 0.9300699300699301\n",
      "Test recall: 0.9795918367346939\n",
      "Testing F1 Score: 0.9504950495049506\n",
      "Testing AUC: 0.900907029478458\n",
      "\n",
      "SEED 8\n",
      "Best hyperparameters: {'C': 1, 'penalty': 'l2', 'solver': 'liblinear'}\n",
      "Training accuracy: 0.9460093896713615\n",
      "Testing accuracy: 0.9370629370629371\n",
      "Test recall: 0.9764705882352941\n",
      "Testing F1 Score: 0.9485714285714287\n",
      "Testing AUC: 0.9278904665314403\n",
      "\n",
      "Best hyperparameters: {'C': 10, 'gamma': 0.1, 'kernel': 'rbf'}\n",
      "Training accuracy: 0.9624413145539906\n",
      "Testing accuracy: 0.9370629370629371\n",
      "Test recall: 0.9882352941176471\n",
      "Testing F1 Score: 0.9491525423728814\n",
      "Testing AUC: 0.9251521298174442\n",
      "\n",
      "Best hyperparameters: {'metric': 'manhattan', 'n_neighbors': 10, 'weights': 'uniform'}\n",
      "Training accuracy: 0.9342723004694836\n",
      "Testing accuracy: 0.916083916083916\n",
      "Test recall: 0.9647058823529412\n",
      "Testing F1 Score: 0.9318181818181819\n",
      "Testing AUC: 0.9047667342799189\n",
      "\n",
      "Best hyperparameters: {'ccp_alpha': 0.001, 'criterion': 'gini', 'max_depth': 8, 'max_features': 'auto'}\n",
      "Training accuracy: 0.9906103286384976\n",
      "Testing accuracy: 0.8601398601398601\n",
      "Test recall: 0.8823529411764706\n",
      "Testing F1 Score: 0.8823529411764706\n",
      "Testing AUC: 0.8549695740365112\n",
      "\n",
      "Training accuracy: 0.9154929577464789\n",
      "Testing accuracy: 0.9300699300699301\n",
      "Test recall: 0.9529411764705882\n",
      "Testing F1 Score: 0.941860465116279\n",
      "Testing AUC: 0.9247464503042596\n",
      "\n",
      "Best hyperparameters: {'criterion': 'entropy', 'max_depth': 8, 'max_features': 'auto', 'min_samples_split': 4, 'n_estimators': 50}\n",
      "Training accuracy: 0.9976525821596244\n",
      "Testing accuracy: 0.9230769230769231\n",
      "Test recall: 0.9411764705882353\n",
      "Testing F1 Score: 0.935672514619883\n",
      "Testing AUC: 0.9188640973630832\n",
      "\n",
      "Best hyperparameters: {'colsample_bytree': 0.5, 'eval_metric': 'logloss', 'learning_rate': 0.1, 'max_depth': 7, 'min_child_weight': 1, 'n_estimators': 100, 'subsample': 0.9}\n",
      "Training accuracy: 1.0\n",
      "Testing accuracy: 0.9230769230769231\n",
      "Test recall: 0.9411764705882353\n",
      "Testing F1 Score: 0.935672514619883\n",
      "Testing AUC: 0.9188640973630832\n",
      "\n",
      "Training accuracy: 0.9460093896713615\n",
      "Testing accuracy: 0.9300699300699301\n",
      "Test recall: 0.9529411764705882\n",
      "Testing F1 Score: 0.941860465116279\n",
      "Testing AUC: 0.9247464503042596\n",
      "\n",
      "Best hyperparameters: {'criterion': 'entropy', 'max_depth': None, 'max_features': 'auto', 'min_samples_split': 2, 'n_estimators': 50}\n",
      "Training accuracy: 1.0\n",
      "Testing accuracy: 0.9230769230769231\n",
      "Test recall: 0.9529411764705882\n",
      "Testing F1 Score: 0.9364161849710982\n",
      "Testing AUC: 0.9161257606490871\n",
      "\n",
      "SEED 9\n",
      "Best hyperparameters: {'C': 1, 'penalty': 'l2', 'solver': 'newton-cg'}\n",
      "Training accuracy: 0.9647887323943662\n",
      "Testing accuracy: 0.972027972027972\n",
      "Test recall: 0.9888888888888889\n",
      "Testing F1 Score: 0.978021978021978\n",
      "Testing AUC: 0.9661425576519916\n",
      "\n",
      "Best hyperparameters: {'C': 1, 'gamma': 1, 'kernel': 'linear'}\n",
      "Training accuracy: 0.9624413145539906\n",
      "Testing accuracy: 0.958041958041958\n",
      "Test recall: 0.9666666666666667\n",
      "Testing F1 Score: 0.9666666666666667\n",
      "Testing AUC: 0.9550314465408806\n",
      "\n",
      "Best hyperparameters: {'metric': 'manhattan', 'n_neighbors': 10, 'weights': 'uniform'}\n",
      "Training accuracy: 0.9624413145539906\n",
      "Testing accuracy: 0.965034965034965\n",
      "Test recall: 0.9777777777777777\n",
      "Testing F1 Score: 0.9723756906077348\n",
      "Testing AUC: 0.9605870020964361\n",
      "\n",
      "Best hyperparameters: {'ccp_alpha': 0.01, 'criterion': 'entropy', 'max_depth': 10, 'max_features': 'auto'}\n",
      "Training accuracy: 0.960093896713615\n",
      "Testing accuracy: 0.916083916083916\n",
      "Test recall: 0.9333333333333333\n",
      "Testing F1 Score: 0.9333333333333333\n",
      "Testing AUC: 0.910062893081761\n",
      "\n",
      "Training accuracy: 0.9061032863849765\n",
      "Testing accuracy: 0.916083916083916\n",
      "Test recall: 0.9111111111111111\n",
      "Testing F1 Score: 0.9318181818181819\n",
      "Testing AUC: 0.9178197064989517\n",
      "\n",
      "Best hyperparameters: {'criterion': 'gini', 'max_depth': 8, 'max_features': 'auto', 'min_samples_split': 4, 'n_estimators': 200}\n",
      "Training accuracy: 0.9976525821596244\n",
      "Testing accuracy: 0.965034965034965\n",
      "Test recall: 0.9888888888888889\n",
      "Testing F1 Score: 0.9726775956284154\n",
      "Testing AUC: 0.9567085953878407\n",
      "\n",
      "Best hyperparameters: {'colsample_bytree': 0.9, 'eval_metric': 'logloss', 'learning_rate': 0.1, 'max_depth': 5, 'min_child_weight': 1, 'n_estimators': 100, 'subsample': 0.7}\n",
      "Training accuracy: 0.9976525821596244\n",
      "Testing accuracy: 0.972027972027972\n",
      "Test recall: 0.9888888888888889\n",
      "Testing F1 Score: 0.978021978021978\n",
      "Testing AUC: 0.9661425576519916\n",
      "\n",
      "Training accuracy: 0.9483568075117371\n",
      "Testing accuracy: 0.9370629370629371\n",
      "Test recall: 0.9222222222222223\n",
      "Testing F1 Score: 0.9485714285714287\n",
      "Testing AUC: 0.9422431865828093\n",
      "\n",
      "Best hyperparameters: {'criterion': 'entropy', 'max_depth': None, 'max_features': 'auto', 'min_samples_split': 2, 'n_estimators': 50}\n",
      "Training accuracy: 1.0\n",
      "Testing accuracy: 0.9790209790209791\n",
      "Test recall: 1.0\n",
      "Testing F1 Score: 0.9836065573770492\n",
      "Testing AUC: 0.9716981132075472\n",
      "\n",
      "SEED 10\n",
      "Best hyperparameters: {'C': 0.1, 'penalty': 'l2', 'solver': 'liblinear'}\n",
      "Training accuracy: 0.9460093896713615\n",
      "Testing accuracy: 0.9790209790209791\n",
      "Test recall: 0.978021978021978\n",
      "Testing F1 Score: 0.9834254143646408\n",
      "Testing AUC: 0.9793956043956045\n",
      "\n",
      "Best hyperparameters: {'C': 0.1, 'gamma': 1, 'kernel': 'linear'}\n",
      "Training accuracy: 0.9507042253521126\n",
      "Testing accuracy: 0.986013986013986\n",
      "Test recall: 0.978021978021978\n",
      "Testing F1 Score: 0.9888888888888888\n",
      "Testing AUC: 0.989010989010989\n",
      "\n",
      "Best hyperparameters: {'metric': 'manhattan', 'n_neighbors': 13, 'weights': 'uniform'}\n",
      "Training accuracy: 0.9460093896713615\n",
      "Testing accuracy: 0.958041958041958\n",
      "Test recall: 0.967032967032967\n",
      "Testing F1 Score: 0.967032967032967\n",
      "Testing AUC: 0.9546703296703296\n",
      "\n",
      "Best hyperparameters: {'ccp_alpha': 0.01, 'criterion': 'entropy', 'max_depth': 6, 'max_features': 'auto'}\n",
      "Training accuracy: 0.9553990610328639\n",
      "Testing accuracy: 0.916083916083916\n",
      "Test recall: 0.945054945054945\n",
      "Testing F1 Score: 0.9347826086956522\n",
      "Testing AUC: 0.9052197802197803\n",
      "\n",
      "Training accuracy: 0.9248826291079812\n",
      "Testing accuracy: 0.9300699300699301\n",
      "Test recall: 0.9560439560439561\n",
      "Testing F1 Score: 0.9456521739130435\n",
      "Testing AUC: 0.9203296703296704\n",
      "\n",
      "Best hyperparameters: {'criterion': 'gini', 'max_depth': 8, 'max_features': 'auto', 'min_samples_split': 4, 'n_estimators': 50}\n",
      "Training accuracy: 0.9929577464788732\n",
      "Testing accuracy: 0.965034965034965\n",
      "Test recall: 0.967032967032967\n",
      "Testing F1 Score: 0.9723756906077348\n",
      "Testing AUC: 0.9642857142857143\n",
      "\n",
      "Best hyperparameters: {'colsample_bytree': 0.9, 'eval_metric': 'logloss', 'learning_rate': 0.1, 'max_depth': 7, 'min_child_weight': 1, 'n_estimators': 100, 'subsample': 0.9}\n",
      "Training accuracy: 1.0\n",
      "Testing accuracy: 0.9790209790209791\n",
      "Test recall: 0.967032967032967\n",
      "Testing F1 Score: 0.9832402234636871\n",
      "Testing AUC: 0.9835164835164836\n",
      "\n",
      "Training accuracy: 0.9413145539906104\n",
      "Testing accuracy: 0.9440559440559441\n",
      "Test recall: 0.9560439560439561\n",
      "Testing F1 Score: 0.9560439560439561\n",
      "Testing AUC: 0.9395604395604397\n",
      "\n",
      "Best hyperparameters: {'criterion': 'gini', 'max_depth': None, 'max_features': 'auto', 'min_samples_split': 6, 'n_estimators': 200}\n",
      "Training accuracy: 0.9953051643192489\n",
      "Testing accuracy: 0.972027972027972\n",
      "Test recall: 0.978021978021978\n",
      "Testing F1 Score: 0.978021978021978\n",
      "Testing AUC: 0.9697802197802199\n",
      "\n"
     ]
    }
   ]
  },
  {
   "cell_type": "code",
   "source": [
    "'''\n",
    "model_summary\n",
    "        |_model\n",
    "          |_worst\n",
    "          |_median\n",
    "          |_best\n",
    "'''\n",
    "model_summary = {}\n",
    "model_names = list(all_iterations[list(seed_range)[0]][\"results\"][\"Algorithms\"])\n",
    "for model_name in model_names:\n",
    "    model_scores = []\n",
    "    for seed in seed_range:\n",
    "        model_results = all_iterations[seed][\"results\"]\n",
    "        model_score = float(model_results[model_results['Algorithms'] == model_name][\"Testing F1 Score\"])\n",
    "        model_scores.append(model_score)\n",
    "\n",
    "    model_summary[model_name] = {\n",
    "        \"worst\": np.min(model_scores),\n",
    "        \"median\": np.median(model_scores),\n",
    "        \"best\": np.max(model_scores)\n",
    "    }\n",
    "\n",
    "#print(model_accs)\n",
    "fig, ax = plt.subplots(figsize=(10, 4))\n",
    "\n",
    "for i, model_name in enumerate(model_names):\n",
    "    ax.arrow(model_summary[model_name][\"median\"], i, model_summary[model_name][\"worst\"] - model_summary[model_name][\"median\"], 0)\n",
    "    ax.arrow(model_summary[model_name][\"median\"], i, model_summary[model_name][\"best\"] - model_summary[model_name][\"median\"], 0)\n",
    "    plt.plot(model_summary[model_name][\"median\"], i, 'bo')\n",
    "\n",
    "    ax.set_yticks(np.arange(len(model_names)))\n",
    "    ax.set_yticklabels(model_names)\n",
    "    ax.set_xlim(0.8, 1)\n",
    "    ax.grid()\n",
    "\n",
    "plt.show()"
   ],
   "metadata": {
    "colab": {
     "base_uri": "https://localhost:8080/",
     "height": 303
    },
    "id": "PDHHtNl0ECqe",
    "outputId": "bd5d7d35-eb11-4c34-ae8e-3aeb43a4c920"
   },
   "id": "PDHHtNl0ECqe",
   "execution_count": 86,
   "outputs": [
    {
     "output_type": "stream",
     "name": "stdout",
     "text": [
      "{'Logistic regression': {'worst': 0.9230769230769231, 'median': 0.9475524475524475, 'best': 0.972027972027972}, 'Support Vector Machine': {'worst': 0.9230769230769231, 'median': 0.9545454545454546, 'best': 0.9790209790209791}, 'KNN': {'worst': 0.916083916083916, 'median': 0.9300699300699301, 'best': 0.9790209790209791}, 'Decision Tree': {'worst': 0.8601398601398601, 'median': 0.8951048951048951, 'best': 0.951048951048951}, 'Naive Bayes': {'worst': 0.8951048951048951, 'median': 0.916083916083916, 'best': 0.9370629370629371}, 'Random Forest': {'worst': 0.9230769230769231, 'median': 0.9405594405594406, 'best': 0.965034965034965}, 'XGB': {'worst': 0.9230769230769231, 'median': 0.9475524475524475, 'best': 0.972027972027972}, 'Multilayer Perceptron': {'worst': 0.9020979020979021, 'median': 0.9370629370629371, 'best': 0.9790209790209791}, 'Extra Trees': {'worst': 0.9090909090909091, 'median': 0.9405594405594406, 'best': 0.9790209790209791}}\n"
     ]
    },
    {
     "output_type": "display_data",
     "data": {
      "image/png": "[encoded data removed]",
      "text/plain": [
       "<Figure size 720x288 with 1 Axes>"
      ]
     },
     "metadata": {}
    }
   ]
  },
  {
   "cell_type": "markdown",
   "source": [
    "In upper plot, lines represent ranges of testing accuracy for each algorithm while dots represent median values. We can see that Extra Trees Classifier, Multilayer Perceptron, k-Nearest Neighbors and Support Vector Machine all achieve equally high accuracy for the best hyperparameters and random states, but SVM has the highest median accuracy and minimum accuracy so it should be used. kNN is right skewed so it is not recommended to use it because it can often have poor accuracy."
   ],
   "metadata": {
    "id": "ngkgG4gxhThH"
   },
   "id": "ngkgG4gxhThH"
  },
  {
   "cell_type": "markdown",
   "id": "008c7918",
   "metadata": {
    "id": "008c7918"
   },
   "source": [
    "*TODO: Dodati zakljucak :)*"
   ]
  },
  {
   "cell_type": "markdown",
   "id": "a4266302",
   "metadata": {
    "id": "a4266302"
   },
   "source": [
    "### Acknowledgements\n",
    "Special thanks to...\n",
    "\n",
    "- Creators of the article:\n",
    " \n",
    " Sharmin Ara, Department of CSE, CUET, Chittagong-4349, Bangladesh, u1604044@student.cuet.ac.bd\n",
    " \n",
    " Annesha Das, Department of CSE, CUET, Chittagong-4349, Bangladesh, annesha@cuet.ac.bd\n",
    "\n",
    " Ashim Dey, Department of CSE, CUET, Chittagong-4349, Bangladesh, ashim@cuet.ac.bd\n",
    " \n",
    " \n",
    "- Creators of the dataset:\n",
    "\n",
    " Dr. William H. Wolberg, General Surgery Dept., University of\n",
    "Wisconsin,  Clinical Sciences Center, Madison, WI 53792\n",
    "wolberg@eagle.surgery.wisc.edu\n",
    "\n",
    " W. Nick Street, Computer Sciences Dept., University of\n",
    "Wisconsin, 1210 West Dayton St., Madison, WI 53706\n",
    "street@cs.wisc.edu  608-262-6619\n",
    "\n",
    " Olvi L. Mangasarian, Computer Sciences Dept., University of\n",
    "Wisconsin, 1210 West Dayton St., Madison, WI 53706\n",
    "olvi@cs.wisc.edu \n",
    "\n",
    "\n",
    "- Project mentor:\n",
    "\n",
    " Eugen Vušak, Department of Electronics, Microelectronics, Computer and Intelligent Systems, Faculty of Electrical Engineering and Computing, University of Zagreb, eugen.vusak@fer.hr"
   ]
  }
 ],
 "metadata": {
  "kernelspec": {
   "display_name": "Python 3 (ipykernel)",
   "language": "python",
   "name": "python3"
  },
  "language_info": {
   "codemirror_mode": {
    "name": "ipython",
    "version": 3
   },
   "file_extension": ".py",
   "mimetype": "text/x-python",
   "name": "python",
   "nbconvert_exporter": "python",
   "pygments_lexer": "ipython3",
   "version": "3.9.7"
  },
  "colab": {
   "name": "projectNotebook.ipynb",
   "provenance": [],
   "collapsed_sections": []
  }
 },
 "nbformat": 4,
 "nbformat_minor": 5
}